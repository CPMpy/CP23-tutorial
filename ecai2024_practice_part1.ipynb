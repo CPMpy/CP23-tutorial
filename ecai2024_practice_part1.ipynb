{
 "cells": [
  {
   "cell_type": "code",
   "execution_count": null,
   "id": "671a1871",
   "metadata": {},
   "outputs": [],
   "source": [
    "# install necessary packages (works on Google Colab even if you see a versioning error)\n",
    "root = \"/tmp/XCP-explain\"\n",
    "! git clone https://github.com/CPMpy/XCP-explain.git {root}\n",
    "! cd {root} && git checkout ecai24\n",
    "! pip install -r /tmp/XCP-explain/requirements.txt -qq  # -qq=very quiet\n",
    "\n",
    "import sys\n",
    "if root not in sys.path:\n",
    "    sys.path.insert(0, root)\n",
    "print(\"Ready to go!\")"
   ]
  },
  {
   "cell_type": "code",
   "execution_count": null,
   "id": "f5f7973c-df39-4f8c-9dc2-cb590cee5dc2",
   "metadata": {},
   "outputs": [],
   "source": [
    "# load necessary packages\n",
    "import networkx as nx\n",
    "import cpmpy as cp\n",
    "\n",
    "# graph drawing functions\n",
    "draw = lambda g,**kwargs : nx.draw_circular(g, width=4, node_size=500,**kwargs)\n",
    "cmap = [\"black\", \"yellow\", \"cyan\", \"lightgreen\", \"blue\", \"red\", \"magenta\", \"orange\", \"purple\", \"brown\"]\n",
    "\n",
    "def graph_highlight(graph, cons, dotted=False, **kwargs):\n",
    "    edges = []\n",
    "    for c in cons:\n",
    "        n1, n2 = c.args\n",
    "        if n1.name == \"max\": continue\n",
    "        a = int(re.search(\"\\[[0-9]*\\]\", str(n1)).group()[1:-1])\n",
    "        b = int(re.search(\"\\[[0-9]*\\]\", str(n2)).group()[1:-1])\n",
    "        edges.append((a,b))\n",
    "        \n",
    "    colors = [\"red\" if (a,b) in edges else \"black\" for (a,b) in graph.edges()]\n",
    "    linestyles = [\"dotted\" if c == \"red\" and dotted else \"solid\" for c in colors]\n",
    "    return draw(graph, edge_color=colors, style=linestyles, **kwargs)"
   ]
  },
  {
   "cell_type": "markdown",
   "id": "de88a917-f809-453c-8a99-9456d8712ef6",
   "metadata": {},
   "source": [
    "## Let's generate a graph\n",
    "\n",
    "Play with the parameters to get a different one!"
   ]
  },
  {
   "cell_type": "code",
   "execution_count": null,
   "id": "b6c21406-5813-4bac-9108-d9c2d527e208",
   "metadata": {},
   "outputs": [],
   "source": [
    "G = nx.fast_gnp_random_graph(7, 0.5, seed=21)\n",
    "draw(G)"
   ]
  },
  {
   "cell_type": "markdown",
   "id": "b4d66ca7-c3c0-4392-b6b0-e789ddaf24ce",
   "metadata": {},
   "source": [
    "## How many colors do you think it needs?"
   ]
  },
  {
   "cell_type": "code",
   "execution_count": null,
   "id": "357fc8d4-68b6-460c-af52-62b333a9f9af",
   "metadata": {},
   "outputs": [],
   "source": [
    "max_colors = 3  # YOUR GUESS FOR YOUR GRAPH\n",
    "\n",
    "def graph_color_k(G, max_colors):\n",
    "    # number of nodes\n",
    "    n = G.number_of_nodes()\n",
    "\n",
    "    # decision variables, one for every node\n",
    "    x = cp.intvar(1, max_colors, shape=n, name=\"x\")\n",
    "\n",
    "    # constraints: neighbors have different colors\n",
    "    m = cp.Model(\n",
    "        [x[i] != x[j] for i,j in G.edges()],\n",
    "    )\n",
    "    return m, x\n",
    "\n",
    "m, nodes = graph_color_k(G, max_colors)\n",
    "if m.solve():\n",
    "    print(m.status())\n",
    "    print(f\"Yes! There is a coloring with {max(nodes.value())} <= {max_colors} colors:\")\n",
    "    draw(G, node_color=[cmap[v.value()] for v in nodes])\n",
    "else:\n",
    "    print(\"No solution found, let the expaining begin : )\")"
   ]
  },
  {
   "cell_type": "markdown",
   "id": "49a74187-1344-46d7-88c7-a08424f2da53",
   "metadata": {},
   "source": [
    "## Given too few colors, lets find an explanation"
   ]
  },
  {
   "cell_type": "code",
   "execution_count": null,
   "id": "c005d719-340d-409b-84e8-00046c40db53",
   "metadata": {},
   "outputs": [],
   "source": [
    "assert not m.solve(), \"Choose too few colors to continue\""
   ]
  },
  {
   "cell_type": "code",
   "execution_count": null,
   "id": "a363a4fe-3b9b-4397-901e-91aa1d5ea3cd",
   "metadata": {},
   "outputs": [],
   "source": []
  }
 ],
 "metadata": {
  "kernelspec": {
   "display_name": "Python 3 (ipykernel)",
   "language": "python",
   "name": "python3"
  },
  "language_info": {
   "codemirror_mode": {
    "name": "ipython",
    "version": 3
   },
   "file_extension": ".py",
   "mimetype": "text/x-python",
   "name": "python",
   "nbconvert_exporter": "python",
   "pygments_lexer": "ipython3",
   "version": "3.11.3"
  }
 },
 "nbformat": 4,
 "nbformat_minor": 5
}
