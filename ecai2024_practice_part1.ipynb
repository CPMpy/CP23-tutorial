{
 "cells": [
  {
   "cell_type": "code",
   "execution_count": null,
   "id": "671a1871",
   "metadata": {},
   "outputs": [],
   "source": [
    "# install necessary packages (works on Google Colab even if you see a versioning error)\n",
    "root = \"/tmp/XCP-explain\"\n",
    "! git clone https://github.com/CPMpy/XCP-explain.git {root}\n",
    "! cd {root} && git checkout ecai24\n",
    "print(\"Installing packages (this can take a minute on Google Colab)\")\n",
    "! pip install -r /tmp/XCP-explain/requirements.txt -qq  # -qq=very quiet\n",
    "\n",
    "import sys\n",
    "if root not in sys.path:\n",
    "    sys.path.insert(0, root)\n",
    "print(\"Ready to go! (you can ignore Google Colab's google*/tensor* versioning errors)\")"
   ]
  },
  {
   "cell_type": "code",
   "execution_count": null,
   "id": "f5f7973c-df39-4f8c-9dc2-cb590cee5dc2",
   "metadata": {},
   "outputs": [],
   "source": [
    "# load necessary packages\n",
    "import networkx as nx\n",
    "import cpmpy as cp\n",
    "import cpmpy.tools.explain as cpx\n",
    "\n",
    "# graph drawing functions\n",
    "draw = lambda g,**kwargs : nx.draw(g, nx.spring_layout(g, seed=42), width=4, node_size=500, **kwargs)\n",
    "cmap = [\"black\", \"yellow\", \"cyan\", \"lightgreen\", \"blue\", \"red\", \"magenta\", \"orange\", \"purple\", \"brown\"]\n",
    "\n",
    "import re\n",
    "def graph_highlight(graph, cons, dotted=False, **kwargs):\n",
    "    edges = []\n",
    "    for c in cons:\n",
    "        n1, n2 = c.args\n",
    "        if n1.name == \"max\": continue\n",
    "        a = int(re.search(\"\\[[0-9]*\\]\", str(n1)).group()[1:-1])\n",
    "        b = int(re.search(\"\\[[0-9]*\\]\", str(n2)).group()[1:-1])\n",
    "        edges.append((a,b))\n",
    "        \n",
    "    colors = [\"red\" if (a,b) in edges else \"black\" for (a,b) in graph.edges()]\n",
    "    linestyles = [\"dotted\" if c == \"red\" and dotted else \"solid\" for c in colors]\n",
    "    return draw(graph, edge_color=colors, style=linestyles, **kwargs)"
   ]
  },
  {
   "cell_type": "markdown",
   "id": "de88a917-f809-453c-8a99-9456d8712ef6",
   "metadata": {},
   "source": [
    "## Let's generate a graph\n",
    "\n",
    "Play with the parameters to get a different one!"
   ]
  },
  {
   "cell_type": "code",
   "execution_count": null,
   "id": "b6c21406-5813-4bac-9108-d9c2d527e208",
   "metadata": {},
   "outputs": [],
   "source": [
    "G = nx.fast_gnp_random_graph(9, 0.5, seed=21)\n",
    "draw(G)"
   ]
  },
  {
   "cell_type": "markdown",
   "id": "b4d66ca7-c3c0-4392-b6b0-e789ddaf24ce",
   "metadata": {},
   "source": [
    "## How many colors do you think it needs?"
   ]
  },
  {
   "cell_type": "code",
   "execution_count": null,
   "id": "357fc8d4-68b6-460c-af52-62b333a9f9af",
   "metadata": {},
   "outputs": [],
   "source": [
    "max_colors = 3  # YOUR GUESS FOR YOUR GRAPH\n",
    "\n",
    "def graph_color_k(G, max_colors):\n",
    "    # number of nodes\n",
    "    n = G.number_of_nodes()\n",
    "\n",
    "    # decision variables, one for every node\n",
    "    x = cp.intvar(1, max_colors, shape=n, name=\"x\")\n",
    "\n",
    "    # constraints: neighbors have different colors\n",
    "    m = cp.Model(\n",
    "        [x[i] != x[j] for i,j in G.edges()],\n",
    "    )\n",
    "    return m, x\n",
    "\n",
    "m, nodes = graph_color_k(G, max_colors)\n",
    "if m.solve():\n",
    "    print(m.status())\n",
    "    print(f\"Yes! There is a coloring with {max(nodes.value())} <= {max_colors} colors:\")\n",
    "    draw(G, node_color=[cmap[v.value()] for v in nodes])\n",
    "else:\n",
    "    print(\"No solution found, let the expaining begin : )\")"
   ]
  },
  {
   "cell_type": "markdown",
   "id": "49a74187-1344-46d7-88c7-a08424f2da53",
   "metadata": {},
   "source": [
    "## Given too few colors, lets find a deductive explanation: what causes the UNSAT?"
   ]
  },
  {
   "cell_type": "code",
   "execution_count": null,
   "id": "c005d719-340d-409b-84e8-00046c40db53",
   "metadata": {},
   "outputs": [],
   "source": [
    "m, nodes = graph_color_k(G, max_colors)  # You can change the colors here\n",
    "assert not m.solve(), \"Choose too few colors to continue\"\n",
    "\n",
    "conflict = cpx.mus(m.constraints)  # Minimal Unsatisfiable Subset\n",
    "print(f\"UNSAT with {max_colors} colors is caused by the following minimal constraint set:\")\n",
    "print(conflict)\n",
    "graph_highlight(G, conflict)"
   ]
  },
  {
   "cell_type": "markdown",
   "id": "9a5d210f-2adf-410e-97e1-ea2d74d8c73d",
   "metadata": {},
   "source": [
    "## Run it multiple times and it might find different conflicts..."
   ]
  },
  {
   "cell_type": "code",
   "execution_count": null,
   "id": "6b72bc8f-35ec-4be4-a88d-640db72c07d4",
   "metadata": {},
   "outputs": [],
   "source": [
    "for i in range(50):\n",
    "    conflict2 = cpx.mus(m.constraints)  # Minimal Unsatisfiable Subset\n",
    "    if conflict2 != conflict:\n",
    "        break  # found different conflict\n",
    "\n",
    "print(f\"UNSAT with {max_colors} colors is caused by the following minimal constraint set:\")\n",
    "print(conflict2)\n",
    "graph_highlight(G, conflict2)"
   ]
  },
  {
   "cell_type": "markdown",
   "id": "e72bb877-9e15-48ef-a951-d6f53d0e5430",
   "metadata": {},
   "source": [
    "You might be surprised by the size of the of the MUSes, but we assure you these are subset minimal!\n",
    "\n",
    "## OK, lets find a counterfactual explanation: what has to change to make it SAT?"
   ]
  },
  {
   "cell_type": "code",
   "execution_count": null,
   "id": "7e83cff7-45e7-468f-aa20-b3cadd350b97",
   "metadata": {},
   "outputs": [],
   "source": [
    "m, nodes = graph_color_k(G, max_colors)  # You can change the colors here\n",
    "assert not m.solve(), \"Choose too few colors to continue\"\n",
    "\n",
    "correction = cpx.mcs(m.constraints)  # Minimal Correction Subset\n",
    "print(f\"UNSAT with {max_colors} colors can be resolved by removing the following minimal constraint set:\")\n",
    "print(correction)\n",
    "# compute and visualise counter-factual solution\n",
    "cp.Model([c for c in m.constraints if c not in correction]).solve()\n",
    "graph_highlight(G, correction, node_color=[cmap[n.value()] for n in nodes], dotted=True)\n",
    "print(\"\\n(removed constraints are highlighted in dotted red)\")"
   ]
  },
  {
   "cell_type": "markdown",
   "id": "93ca9d46-2eb7-479d-b892-bab9da6d4f4a",
   "metadata": {},
   "source": [
    "## There are typically also many MCS's..."
   ]
  },
  {
   "cell_type": "code",
   "execution_count": null,
   "id": "277f2ec6-1a30-4724-a7e8-9e630e94fe9a",
   "metadata": {},
   "outputs": [],
   "source": [
    "for i in range(50):\n",
    "    correction2 = cpx.mcs(m.constraints)  # Minimal Correction Subset\n",
    "    if correction2 != correction:\n",
    "        break  # found different conflict\n",
    "\n",
    "print(f\"UNSAT with {max_colors} colors can be resolved by removing the following minimal constraint set:\")\n",
    "print(correction2)\n",
    "# compute and visualise counter-factual solution\n",
    "cp.Model([c for c in m.constraints if c not in correction2]).solve()\n",
    "graph_highlight(G, correction2, node_color=[cmap[n.value()] for n in nodes], dotted=True)\n",
    "print(\"\\n(removed constraints are highlighted in dotted red)\")"
   ]
  },
  {
   "cell_type": "code",
   "execution_count": null,
   "id": "0f096949-9106-42f7-bbf6-7317a1b0f7f0",
   "metadata": {},
   "outputs": [],
   "source": []
  },
  {
   "cell_type": "markdown",
   "id": "307029fd-beb0-4e04-91ee-386521158e95",
   "metadata": {},
   "source": [
    "## Higher-level constraints\n",
    "\n",
    "In the graph coloring example each constraint is one atomic inequalty. The same techniques also work on 'complex' constraints, that is, a high-level constraint that when translated to a solver corresponds to a *group* of constraints.\n",
    "\n",
    "### Here is an example: the Photo alignment problem.\n",
    "\n",
    "Imagine: You're freshly graduated and starting your first job as a CS teacher at a local highschool. It's early in the morning and the students are coming in dressed in their finest of clothes. It's that time of the year again: the class photo! You're in charge of lining up the students for the class photo. Many of the students want to stand next to their friends and refuse to go on the photo otherwise. As a new teacher, you want to make sure that everyone is happy.\n"
   ]
  },
  {
   "cell_type": "code",
   "execution_count": null,
   "id": "0fddd670-099d-422c-bd3e-3fc60a0ae8a8",
   "metadata": {},
   "outputs": [],
   "source": [
    "wish_yes = [(\"Tias\", \"Dimos\"), (\"Tias\", \"Ignace\"), (\"Dimos\", \"Stella\"), (\"Ignace\", \"Helene\"), (\"Helene\", \"Dimos\"), (\"Stella\", \"Tias\"), (\"Ignace\", \"Thomas\"), (\"Lucifer\", \"Dimon\")]\n",
    "\n",
    "wish_no = [(\"Tias\", \"Lucifer\"), (\"Dimos\", \"Dimon\"), (\"Stella\", \"Lucifer\")]\n",
    "\n",
    "people = sorted(set(n for pair in wish_yes+wish_no for n in pair))\n",
    "dmap = {name: index for index,name in enumerate(people)}  # name -> index\n",
    "print(people)\n",
    "\n",
    "position = cp.intvar(0,len(people)-1, shape=len(people), name=people)\n",
    "\n",
    "# HARD constraint: everybody a unique position\n",
    "con_diff = cp.alldifferent(position)\n",
    "\n",
    "# Yes wishes must have difference in position of 1\n",
    "cons_yes = []\n",
    "for (a, b) in wish_yes:\n",
    "    cons_yes.append( cp.abs(position[dmap[a]] - position[dmap[b]]) == 1 )\n",
    "# No wishes can not have difference in position of 1\n",
    "cons_no = []\n",
    "for (a, b) in wish_no:\n",
    "    cons_no.append( cp.abs(position[dmap[a]] - position[dmap[b]]) > 1 )\n",
    "\n",
    "m = cp.Model(con_diff, cons_yes, cons_no)\n",
    "print(m)\n",
    "m.solve()"
   ]
  },
  {
   "cell_type": "markdown",
   "id": "8bb3ab92-0e51-481e-94de-fe06af74750a",
   "metadata": {},
   "source": [
    "## It's unsat... try to find a MUS/MCS...\n",
    "\n",
    "In this case, we will set the 'con_diff' as a HARD constraint.\n",
    "\n",
    "So the MUS/MCS will only consider the cons_yes/cons_no"
   ]
  },
  {
   "cell_type": "code",
   "execution_count": null,
   "id": "e5e85ab9-fd45-4ce3-a5f5-2c3ae028dc45",
   "metadata": {},
   "outputs": [],
   "source": [
    "#conflict = cpx.mus(cons_yes+cons_no, hard=[con_diff])  # Minimal Unsatisfiable Subset\n",
    "#print(conflict)"
   ]
  },
  {
   "cell_type": "code",
   "execution_count": null,
   "id": "355cb7bb-c42a-4adc-bc0e-e691ec50d734",
   "metadata": {},
   "outputs": [],
   "source": [
    "correction = []\n",
    "#correction = cpx.mcs(cons_yes+cons_no, hard=[con_diff])  # Minimal Correction Subset\n",
    "#print(correction)"
   ]
  },
  {
   "cell_type": "code",
   "execution_count": null,
   "id": "883478dc-383f-47d2-bdfb-9f852a1af2d1",
   "metadata": {},
   "outputs": [],
   "source": [
    "m2 = cp.Model(con_diff, [c for c in cons_yes+cons_no if hash(c) not in [hash(c) for c in correction]])\n",
    "#print(m2)\n",
    "if not m2.solve():\n",
    "    print(\"No solution, try removing some constraints\")\n",
    "else:\n",
    "    # print in the right order\n",
    "    sol = [(pos.value(), str(pos)) for pos in position]\n",
    "    print(sorted(sol))"
   ]
  }
 ],
 "metadata": {
  "kernelspec": {
   "display_name": "Python 3 (ipykernel)",
   "language": "python",
   "name": "python3"
  },
  "language_info": {
   "codemirror_mode": {
    "name": "ipython",
    "version": 3
   },
   "file_extension": ".py",
   "mimetype": "text/x-python",
   "name": "python",
   "nbconvert_exporter": "python",
   "pygments_lexer": "ipython3",
   "version": "3.11.3"
  }
 },
 "nbformat": 4,
 "nbformat_minor": 5
}
