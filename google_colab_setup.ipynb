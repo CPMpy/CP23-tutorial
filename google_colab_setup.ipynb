{
 "cells": [
  {
   "cell_type": "code",
   "execution_count": null,
   "id": "671a1871",
   "metadata": {},
   "outputs": [],
   "source": [
    "root = \"/tmp/XCP-explain\"\n",
    "! git clone https://github.com/CPMpy/XCP-explain.git {root}\n",
    "! cd {root} && git checkout ecai24\n",
    "! pip install -r XCP-explain/requirements.txt\n",
    "\n",
    "import sys\n",
    "if root not in sys.path:\n",
    "    sys.path.insert(0, root)"
   ]
  }
 ],
 "metadata": {
  "kernelspec": {
   "display_name": "Python 3 (ipykernel)",
   "language": "python",
   "name": "python3"
  },
  "language_info": {
   "codemirror_mode": {
    "name": "ipython",
    "version": 3
   },
   "file_extension": ".py",
   "mimetype": "text/x-python",
   "name": "python",
   "nbconvert_exporter": "python",
   "pygments_lexer": "ipython3",
   "version": "3.10.14"
  }
 },
 "nbformat": 4,
 "nbformat_minor": 5
}
