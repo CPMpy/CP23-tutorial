{
 "cells": [
  {
   "cell_type": "markdown",
   "metadata": {
    "slideshow": {
     "slide_type": "notes"
    }
   },
   "source": [
    "# Outline FROM OVERLEAF\n",
    "\n",
    "### Introduction to eXplainable Constraint Programming (55min)\n",
    "  * Introduction to constraint solving\n",
    "    - Motivation model + solve paradigm (10min)\n",
    "    - Intro to solving technologies and failure (10min)\n",
    "    - Hands-on Graph Coloring (5min) [start from Ignace'?]\n",
    "    - Example problems including nurse rostering (15min)\n",
    "  * eXplainable Constraint Programming in the eXplainable AI Field (15min)\n",
    "    - Introduction to eXplainable AI (history and current focus on black-box models) (5min)\n",
    "    - Types of explanations specific to CP and constraints solving (10min)\n",
    "\n",
    "### Explaining Satisfiablity problems 1/2 (40min)\n",
    "  * Deductive explanations (explaining why a fact was derived from the constraints) (35min)\n",
    "    - Deletion-based MUS-calculation\n",
    "    - QuickXplain MUS-calculation to find lexicographically preferred MUS’es\n",
    "    - Hitting-set algorithms for optimal MUS’es under a cost function\n",
    "    - Step-wise explanations (split in 2 parts)\n",
    "  * Hands-on with other instance of NR (5min)\n",
    "\n",
    "#### Break\n",
    "### Explaining Satisfiablity problems 2/2 (20min)\n",
    "  * Counter-factual explanations (explaining how to change the model to get another outcome) (20min)\n",
    "    - Computation of correction subsets\n",
    "    - Diagnosis\n",
    "    - Max-CSP\n",
    "    - Slack-based feasibility restauration\n",
    "\n",
    "### Explaining Optimization problems (40min)\n",
    "  * Alternative optimal solutions: multi-objective view and Pareto optimality (10min)\n",
    "    - Table view of pareto solutions\n",
    "    - hands on (?)\n",
    "  * Deductive explanations (10min)\n",
    "    - Explaining why no better solution exists (reduction to explaining unsatisfiability)\n",
    "  * Contrasive explanations (explaining how to change the model to get another outcome) (15min)\n",
    "    - How to change the model to get a better-than-optimal solution (reducing to feasibility restau-\n",
    "ration) (5min)\n",
    "    - Explaining how to change the objective function such that other decisions become optimal\n",
    "using inverse optimization techniques (10min)\n",
    "\n",
    "### Outlook (10min)\n",
    "### Hands-on session with Q&A (20min)"
   ]
  },
  {
   "cell_type": "code",
   "execution_count": null,
   "metadata": {
    "pycharm": {
     "name": "#%%\n"
    },
    "slideshow": {
     "slide_type": "-"
    }
   },
   "outputs": [],
   "source": [
    "%load_ext autoreload\n",
    "%autoreload 2\n",
    "\"\"\"\n",
    "    Some imports used throughout the notebook\n",
    "\"\"\"\n",
    "import time\n",
    "import cpmpy\n",
    "from visualize import *\n",
    "\n",
    "from cpmpy.transformations.normalize import toplevel_list\n",
    "from factory import *\n",
    "from read_data import get_data\n",
    "from IPython.display import clear_output\n",
    "\n",
    "\n",
    "import numpy as np\n",
    "np.set_printoptions(linewidth=90)\n",
    "# preload solvers\n",
    "from cpmpy import SolverLookup\n",
    "names = SolverLookup.solvernames()\n",
    "\n",
    "import networkx as nx\n",
    "import re\n",
    "draw = lambda g,**kwargs : nx.draw_circular(g, width=5, node_size=500,**kwargs)\n",
    "cmap = [\"black\", \"yellow\", \"cyan\", \"lightgreen\", \"blue\"]\n",
    "\n",
    "def graph_highlight(graph, cons, **kwargs):\n",
    "    edges = []\n",
    "    for c in cons:\n",
    "        n1, n2 = c.args\n",
    "        if n1.name == \"max\": continue\n",
    "        a = int(re.search(\"\\[[0-9]*\\]\", str(n1)).group()[1:-1])\n",
    "        b = int(re.search(\"\\[[0-9]*\\]\", str(n2)).group()[1:-1])\n",
    "        edges.append((a,b))\n",
    "        \n",
    "    colors = [\"red\" if (a,b) in edges else \"black\" for (a,b) in graph.edges()]       \n",
    "    return draw(graph, edge_color=colors, **kwargs)"
   ]
  },
  {
   "cell_type": "markdown",
   "metadata": {
    "pycharm": {
     "name": "#%% md\n"
    },
    "slideshow": {
     "slide_type": "slide"
    }
   },
   "source": [
    "## Explainable Constraint Solving - A Hands-On Tutorial @ ECAI-2024\n",
    "### Ignace Bleukx, Dimos Tsouros, Tias Guns\n",
    "\n",
    "#### KU Leuven, Belgium\n",
    "\n",
    "<p>&nbsp;</p>\n",
    "\n",
    "<table><tr style=\"background: white;\">\n",
    "    <td>&nbsp;</td>\n",
    "    <td style=\"text-align: center; vertical-align: middle;\"><img src=\"img/kul.jpg\" width=40%></td>\n",
    "    <td style=\"text-align: center; vertical-align: middle;\"><img src=\"img/erc.jpg\" width=45%></td>\n",
    "</tr></table>\n",
    "\n",
    "<!-- Thanks to Bart Bogaerts, Emilio Gamba and Jo Devriendt -->"
   ]
  },
  {
   "cell_type": "markdown",
   "metadata": {
    "pycharm": {
     "name": "#%% md\n"
    },
    "slideshow": {
     "slide_type": "-"
    }
   },
   "source": [
    "\n",
    "<small>This presentation is an executable Jupyter notebook</small>\n",
    "\n",
    "Link to slides and more examples: https://github.com/CPMpy/XCP-explain"
   ]
  },
  {
   "cell_type": "markdown",
   "metadata": {
    "slideshow": {
     "slide_type": "slide"
    }
   },
   "source": [
    "\n",
    "## Constraint Solving\n",
    "\n",
    "<img src=\"img/solutions_vizual.png\" width=\"45%\" align=\"right\" style=\"margin-top:100px\">\n",
    "\n",
    "Solving combinatorial optimization problems in AI\n",
    "\n",
    "- Vehicle Routing\n",
    "\n",
    "- Scheduling\n",
    "\n",
    "- Manufacturing\n",
    "\n",
    "- Other combinatorial problems ..."
   ]
  },
  {
   "cell_type": "markdown",
   "metadata": {
    "pycharm": {
     "name": "#%% md\n"
    },
    "slideshow": {
     "slide_type": "slide"
    }
   },
   "source": [
    "## Model + Solve\n",
    "\n",
    "<center><img src=\"img/prob2sol.png\" width=70%></center>"
   ]
  },
  {
   "cell_type": "markdown",
   "metadata": {
    "slideshow": {
     "slide_type": "fragment"
    }
   },
   "source": [
    "- What if no solution is found?\n",
    "- What if the user does not _like_ the solution?\n",
    "- What if the user _expected_ a different solution?\n",
    "- ...\n"
   ]
  },
  {
   "cell_type": "markdown",
   "metadata": {
    "pycharm": {
     "name": "#%% md\n"
    },
    "slideshow": {
     "slide_type": "slide"
    }
   },
   "source": [
    "## Trustworthy & Explainable constraint solving\n",
    "\n",
    "Human-aware AI:\n",
    "\n",
    "- Respect human _agency_\n",
    "- _Support_ users in decision making\n",
    "- Provide explanations and learning opportunities"
   ]
  },
  {
   "cell_type": "markdown",
   "metadata": {
    "pycharm": {
     "name": "#%% md\n"
    },
    "slideshow": {
     "slide_type": "fragment"
    }
   },
   "source": [
    "Acknowledges that a 'model' is only an approximation of the full problem,<br />\n",
    "that it might result in _undesirable_ solutions."
   ]
  },
  {
   "cell_type": "markdown",
   "metadata": {
    "slideshow": {
     "slide_type": "slide"
    }
   },
   "source": [
    "## Outline of the tutorial\n",
    "\n",
    "### Part 1: Introduction to Explainable Constraint Programming\n",
    "- Constraint Solving and Explanations &#9194; &#x1F4BB;\n",
    "\n",
    "### Part 2: Explaining Satisfiability Problems\n",
    "- Deductive explanations (MUS, QuickXplain, OUS, stepwise) &#x1F4BB;\n",
    "- Counterfactual explanations (MCS & Diagnosis, FastDiag, Max-CSP, Slack-based relaxation) &#x1F4BB;\n",
    "\n",
    "\n",
    "### Part 3: Explaining Optimization problems\n",
    "- Multi-objective optimization and pareto-optimal solutions &#x1F4BB;\n",
    "- Deductive explanations\n",
    "- Counterfactual explanations (inverse optimization) &#x1F4BB;\n",
    "\n",
    "### Part 4: Outlook and Q&A"
   ]
  },
  {
   "cell_type": "markdown",
   "metadata": {
    "pycharm": {
     "name": "#%% md\n"
    },
    "slideshow": {
     "slide_type": "slide"
    }
   },
   "source": [
    "### Explainable AI (XAI), brief highlights\n",
    "\n",
    "#### D. Gunning, 2015: DARPA XAI challenge\n",
    "\"Every explanation is set within a context that depends...\" <!-- on the task, abilities, and expectations of the user of the AI system.\" --> -> domain dependent\n",
    "\n",
    "#### M. Fox et al, 2017: Explainable Planning\n",
    "\n",
    "Need for trust, interaction and transparancy.\n",
    "\n",
    "#### T. Miller, 2018: Explainable AI: Beware of Inmates Running the Asylum\n",
    "\n",
    "Insights from the social sciences: _Someone_ explains _something_ to _someone_\n",
    "\n",
    "#### R. Guidotti, 2018: A survey of methods for explaining black box ML models\n",
    "\n",
    "The vast majority of work/attention..."
   ]
  },
  {
   "cell_type": "markdown",
   "metadata": {
    "pycharm": {
     "name": "#%% md\n"
    },
    "slideshow": {
     "slide_type": "slide"
    }
   },
   "source": [
    "## Explaining constraint 'propagation'?\n",
    "\n",
    "Concept from Lazy Clause Generation / CP-SAT solvers (Stuckey, 2010)\n",
    "\n",
    "\"every time a propagator determines a domain change of a variable,<br>\n",
    "it records a **clause** that _explains_ the domain change.\"\n",
    "\n",
    "- _someone_: one propagator\n",
    "- _something_: a clause (disjunction of literals)\n",
    "- to _someone_: a SAT solver, not a person\n",
    "\n",
    "#### We focus on <b>user-oriented explanations</b> involving multiple constraints."
   ]
  },
  {
   "cell_type": "markdown",
   "metadata": {
    "pycharm": {
     "name": "#%% md\n"
    },
    "slideshow": {
     "slide_type": "slide"
    }
   },
   "source": [
    "## Explainable Constraint Programming (XCP)\n",
    "\n",
    "In general, \"**Why X?**\" &nbsp;&nbsp;&nbsp;&nbsp;&nbsp;&nbsp; (with X a solution or UNSAT)\n",
    "\n",
    "<center><img src=\"img/interaction_figure4.png\" width=20%></center>\n",
    "\n",
    "\n",
    "<!-- Can be combined in interactive systems:\n",
    "  - _Iteratively refine explanation & model_ -->"
   ]
  },
  {
   "cell_type": "markdown",
   "metadata": {
    "pycharm": {
     "name": "#%% md\n"
    },
    "slideshow": {
     "slide_type": "slide"
    }
   },
   "source": [
    "## Explainable Constraint Programming (XCP)\n",
    "\n",
    "In general, \"**Why X?**\" &nbsp;&nbsp;&nbsp;&nbsp;&nbsp;&nbsp; (with X a solution or UNSAT)\n",
    "\n",
    "<img src=\"img/interaction_figure4.png\" width=20% align=\"right\">\n",
    "\n",
    "- **Deductive explanation:**\n",
    "  - _What causes X?_\n",
    "- **Counterfactual explanation**:\n",
    "  - _What if I want Y instead of X?_\n",
    "\n",
    "\n",
    "<!-- Can be combined in interactive systems:\n",
    "  - _Iteratively refine explanation & model_ -->"
   ]
  },
  {
   "cell_type": "markdown",
   "metadata": {
    "pycharm": {
     "name": "#%% md\n"
    },
    "slideshow": {
     "slide_type": "skip"
    }
   },
   "source": [
    "### Then what?\n",
    "\n",
    "<img src=\"img/interaction_figure4.png\" width=\"20%\" align=\"left\" style=\"margin:5%;\"/>\n",
    "\n",
    "1. User is happy with the answer <br>\n",
    "    (e.g. better understands the problem)\n",
    "2. User changes the answer and uses that <br>\n",
    "    (solution interaction; no solver involvement)\n",
    "3. User changes the model and reiterates <br>\n",
    "    (e.g. better understands how to model the problem)\n",
    "4. User interacts with interactive system <br>\n",
    "    (e.g. conversational explanations)\n",
    "\n"
   ]
  },
  {
   "cell_type": "markdown",
   "metadata": {
    "slideshow": {
     "slide_type": "slide"
    }
   },
   "source": [
    "# Example XCP interaction\n",
    "\n",
    "Toy example, graph coloring:\n",
    "\n",
    "Assigning colors to the nodes of a graph, such that no two _adjacent_ nodes share the same color and the number of colors is minimized.\n",
    "\n",
    "(real example: assign each booking request (node) to a room (color) such that no temporally overlapping requests use the same room)"
   ]
  },
  {
   "cell_type": "code",
   "execution_count": null,
   "metadata": {
    "slideshow": {
     "slide_type": "fragment"
    }
   },
   "outputs": [],
   "source": [
    "G = nx.fast_gnp_random_graph(5, 0.8, seed=0)\n",
    "draw(G)"
   ]
  },
  {
   "cell_type": "markdown",
   "metadata": {
    "slideshow": {
     "slide_type": "slide"
    }
   },
   "source": [
    "# Modeling Minimal Graph Coloring as a CP problem\n",
    "\n",
    "* Decision variables:<br> $x_i \\in \\{1..\\text{max_colors}\\} \\quad \\forall i \\in \\{1..N\\}$\n",
    "* Constraints:<br> $x_i \\neq x_j \\quad \\forall (i,j) \\in \\text{Edges}$\n",
    "* Objective:<br> minimize $max(x)$"
   ]
  },
  {
   "cell_type": "code",
   "execution_count": null,
   "metadata": {
    "slideshow": {
     "slide_type": "fragment"
    }
   },
   "outputs": [],
   "source": [
    "def graph_coloring(G, max_colors=None):\n",
    "    n = G.number_of_nodes()\n",
    "    if max_colors is None:\n",
    "        max_colors = n  # upper bound: all distinct\n",
    "    \n",
    "    x = cp.intvar(1, max_colors, shape=n, name=\"x\")\n",
    "    m = cp.Model(\n",
    "        [x[i] != x[j] for i,j in G.edges()],\n",
    "        minimize=cp.max(x)\n",
    "    )\n",
    "    return m, x"
   ]
  },
  {
   "cell_type": "markdown",
   "metadata": {
    "slideshow": {
     "slide_type": "skip"
    }
   },
   "source": [
    "## Multiple high-level constraint programming languages exist\n",
    "\n",
    "We will use the CPMpy modeling library in Python for this presentation\n",
    "\n",
    "<center><img src=\"img/cpmpy-intro.png\" style=\"max-width: 70%;\" /></center>\n"
   ]
  },
  {
   "cell_type": "markdown",
   "metadata": {
    "pycharm": {
     "name": "#%% md\n"
    },
    "slideshow": {
     "slide_type": "slide"
    }
   },
   "source": [
    "## The system: http://cpmpy.readthedocs.io\n",
    "\n",
    "CPMpy is a Constraint Programming and Modeling library in Python, <br /> based on numpy, with direct solver access. <br /> \n",
    "\n",
    "**Language**:\n",
    "- Boolean and Integer variables\n",
    "- Logical and Arithmetic constraints\n",
    "- 'Global Constraints' (AllDifferent, Cumulative, Element, Abs, Max, Min, ...)\n",
    "- Arbitrary nesting and reification of expressions\n",
    "\n",
    "**Features** used in this tutorial:\n",
    "\n",
    "- Easy integration with visualisation tools (pandas, matplotlib)\n",
    "- Object-oriented programming (constraints are Python objects we can create, copy, update)\n",
    "- Repeatedly solving subsets of constraints (assumption variables)\n",
    "- Incremental solving (e.g. SAT, MIP/Hitting set)\n",
    "\n"
   ]
  },
  {
   "attachments": {},
   "cell_type": "markdown",
   "metadata": {
    "slideshow": {
     "slide_type": "slide"
    }
   },
   "source": [
    "## Solver-independent modeling library\n",
    "\n",
    "Incremental solving (&amp; transformations):\n",
    "\n",
    "<center><img src=\"img/cpmpy_transformations.png\" style=\"max-width: 70%;\" /></center>"
   ]
  },
  {
   "cell_type": "markdown",
   "metadata": {
    "slideshow": {
     "slide_type": "slide"
    }
   },
   "source": [
    "# Modeling Minimal Graph Coloring as a CP problem\n",
    "\n",
    "### Lets color the graph..."
   ]
  },
  {
   "cell_type": "code",
   "execution_count": null,
   "metadata": {
    "slideshow": {
     "slide_type": "-"
    }
   },
   "outputs": [],
   "source": [
    "m, nodes = graph_coloring(G, max_colors=None)\n",
    "if m.solve():\n",
    "    print(m.status())\n",
    "    print(f\"Found optimal coloring with {m.objective_value()} colors\")\n",
    "    draw(G, node_color=[cmap[v.value()] for v in nodes])\n",
    "else:\n",
    "    print(\"No solution found.\")"
   ]
  },
  {
   "cell_type": "markdown",
   "metadata": {
    "slideshow": {
     "slide_type": "skip"
    }
   },
   "source": [
    "# Example XCP interaction"
   ]
  },
  {
   "cell_type": "code",
   "execution_count": null,
   "metadata": {
    "slideshow": {
     "slide_type": "skip"
    }
   },
   "outputs": [],
   "source": [
    "print(f\"Found optimal coloring with {m.objective_value()} colors\")\n",
    "draw(G, node_color=[cmap[n.value()] for n in nodes])"
   ]
  },
  {
   "cell_type": "markdown",
   "metadata": {
    "slideshow": {
     "slide_type": "fragment"
    }
   },
   "source": [
    "<img src=\"img/why.png\" width=\"15%\" align=\"left\" style=\"margin-top:-40px; margin-right:50px; margin-left: 300px\">\n",
    "yes... but why do we need 4? "
   ]
  },
  {
   "cell_type": "markdown",
   "metadata": {
    "slideshow": {
     "slide_type": "slide"
    }
   },
   "source": [
    "# Example XCP interaction\n",
    "\n",
    "## _Why_ do we need at least 4 colors?\n",
    "\n",
    "**Deductive** explanation: pinpoint to constraints _causing_ this fact"
   ]
  },
  {
   "cell_type": "code",
   "execution_count": null,
   "metadata": {
    "slideshow": {
     "slide_type": "fragment"
    }
   },
   "outputs": [],
   "source": [
    "m, nodes = graph_coloring(G, max_colors=3)  # less than 4?\n",
    "\n",
    "if m.solve() is False:\n",
    "    conflict = cpmpy.tools.explain.mus(m.constraints) # Minimal Unsatisfiable Subset\n",
    "    print(\"UNSAT is caused by the following constraint(s):\")\n",
    "    graph_highlight(G, conflict)"
   ]
  },
  {
   "cell_type": "markdown",
   "metadata": {
    "slideshow": {
     "slide_type": "slide"
    }
   },
   "source": [
    "# Example XCP interaction\n",
    "\n",
    "## _Why_ do we need at least 4 colors?\n",
    "\n",
    "**Counterfactual** explanation: pinpoint to constraint *changes* that would allow, e.g. 3 colors"
   ]
  },
  {
   "cell_type": "code",
   "execution_count": null,
   "metadata": {
    "scrolled": true,
    "slideshow": {
     "slide_type": "fragment"
    }
   },
   "outputs": [],
   "source": [
    "m, nodes = graph_coloring(G, max_colors=3)  # less than 4?\n",
    "\n",
    "if m.solve() is False:    \n",
    "    corr = cpmpy.tools.explain.mcs(m.constraints)  # Minimal Correction Subset\n",
    "    print(\"UNSAT can be resolved by removing the following constraint(s):\")\n",
    "    graph_highlight(G, corr)"
   ]
  },
  {
   "cell_type": "markdown",
   "metadata": {
    "slideshow": {
     "slide_type": "slide"
    }
   },
   "source": [
    "# Example XCP interaction\n",
    "\n",
    "## _Why_ do we need 4 colors?\n",
    "\n",
    "**Counterfactual** explanation: pinpoint to constraint *changes* that would allow, e.g. 3 colors\n",
    "\n",
    "Can now compute the counterfactual solution:"
   ]
  },
  {
   "cell_type": "code",
   "execution_count": null,
   "metadata": {
    "slideshow": {
     "slide_type": "fragment"
    }
   },
   "outputs": [],
   "source": [
    "# compute and visualise counter-factual solution\n",
    "m2 = cp.Model([c for c in m.constraints if c not in corr])\n",
    "m2.solve()\n",
    "graph_highlight(G, corr, node_color=[cmap[n.value()] for n in nodes])"
   ]
  },
  {
   "cell_type": "markdown",
   "metadata": {
    "slideshow": {
     "slide_type": "slide"
    }
   },
   "source": [
    "# Explanation techniques in the wild\n",
    "\n",
    "<center><img src=\"img/app_explanations.png\"  style=\"max-width: 80%;\"></center>"
   ]
  },
  {
   "cell_type": "markdown",
   "metadata": {
    "pycharm": {
     "name": "#%% md\n"
    },
    "slideshow": {
     "slide_type": "skip"
    }
   },
   "source": [
    "## Running example in this talk: Nurse Scheduling\n",
    "\n",
    "* The assignment of _shifts_ and _holidays_ to nurses.\n",
    "* Each nurse has their own restrictions and preferences,\n",
    "    as does the hospital."
   ]
  },
  {
   "cell_type": "markdown",
   "metadata": {
    "pycharm": {
     "name": "#%% md\n"
    },
    "slideshow": {
     "slide_type": "skip"
    }
   },
   "source": [
    "### hospital constraints:\n",
    "\n",
    "<img src=\"img/nurse_rost_prob.jpg\" align=\"right\">\n",
    "\n",
    "* nb of shifts required on each day\n",
    "* max nb of shifts per nurse\n",
    "* max nb of weekend shifts\n",
    "* min/max consecutive shifts\n",
    "\n",
    "### nurse constraints / preferences:\n",
    "\n",
    "* specific days off-duty\n",
    "* specific shift requests (on/off)"
   ]
  },
  {
   "cell_type": "markdown",
   "metadata": {
    "pycharm": {
     "name": "#%% md\n"
    },
    "slideshow": {
     "slide_type": "slide"
    }
   },
   "source": [
    "## Running example in this talk: Nurse Scheduling\n",
    "\n",
    "* The assignment of _shifts_ and _holidays_ to nurses.\n",
    "* Each nurse has their own restrictions and preferences,\n",
    "    as does the hospital."
   ]
  },
  {
   "cell_type": "code",
   "execution_count": null,
   "metadata": {
    "slideshow": {
     "slide_type": "skip"
    }
   },
   "outputs": [],
   "source": [
    "instance = \"Benchmarks/Instance1.txt\"  # \"http://www.schedulingbenchmarks.org/nrp/data/Instance1.txt\"\n",
    "data = get_data(instance)"
   ]
  },
  {
   "cell_type": "markdown",
   "metadata": {
    "pycharm": {
     "name": "#%% md\n"
    },
    "slideshow": {
     "slide_type": "skip"
    }
   },
   "source": [
    "## Nurse Rostering: data\n",
    "\n",
    "Instances from http://www.schedulingbenchmarks.org/\n",
    "\n",
    "\"benchmark test instances from various sources including industrial collaborators and scientific publications.\"\n",
    "\n",
    "<!-- 7 types of hospital constraints, 2 types of nurse constraints -->"
   ]
  },
  {
   "cell_type": "code",
   "execution_count": null,
   "metadata": {
    "pycharm": {
     "name": "#%%\n"
    },
    "slideshow": {
     "slide_type": "-"
    }
   },
   "outputs": [],
   "source": [
    " #instance = \"http://www.schedulingbenchmarks.org/nrp/data/Instance1.txt\"\n",
    "instance = \"Benchmarks/Instance1.txt\"\n",
    "data = get_data(instance)\n",
    "\n",
    "print(\"Nr of days to schedule:\", data.horizon)\n",
    "print(\"Nr of shift types:\", len(data.shifts))\n",
    "\n",
    "print(\"Staff holidays:\")\n",
    "pd.merge(data.days_off, data.staff[[\"# ID\",\"name\"]], left_on=\"EmployeeID\", right_on=\"# ID\", how=\"left\")"
   ]
  },
  {
   "cell_type": "code",
   "execution_count": null,
   "metadata": {
    "pycharm": {
     "name": "#%%\n"
    },
    "slideshow": {
     "slide_type": "slide"
    }
   },
   "outputs": [],
   "source": [
    "factory = NurseSchedulingFactory(data)\n",
    "model, nurse_view = factory.get_optimization_model()  # CPMpy model with all constraints\n",
    "\n",
    "model.solve(solver=\"ortools\")\n",
    "visualize(nurse_view.value(), factory)  # live decorated dataframe"
   ]
  },
  {
   "cell_type": "markdown",
   "metadata": {
    "slideshow": {
     "slide_type": "slide"
    }
   },
   "source": [
    "## Outline of the tutorial\n",
    "\n",
    "### Part 1: Introduction to Explainable Constraint Programming\n",
    "- Constraint Solving and Explanations &#x1F4BB; &#9194;\n",
    "\n",
    "### Part 2: Explaining Satisfiability Problems\n",
    "- Deductive explanations (MUS, QuickXplain, OUS, stepwise) &#x1F4BB;\n",
    "- Counterfactual explanations (MCS & Diagnosis, FastDiag, Max-CSP, Slack-based relaxation) &#x1F4BB;\n",
    "\n",
    "\n",
    "### Part 3: Explaining Optimization problems\n",
    "- Multi-objective optimization and pareto-optimal solutions &#x1F4BB;\n",
    "- Deductive explanations\n",
    "- Counterfactual explanations (inverse optimization) &#x1F4BB;\n",
    "\n",
    "### Part 4: Outlook and Q&A"
   ]
  },
  {
   "cell_type": "markdown",
   "metadata": {
    "slideshow": {
     "slide_type": "slide"
    }
   },
   "source": [
    "## Outline of the tutorial\n",
    "\n",
    "### Part 1: Introduction to Explainable Constraint Programming\n",
    "- Constraint Solving and Explanations &#x1F4BB;\n",
    "\n",
    "### Part 2: Explaining Satisfiability Problems\n",
    "- Deductive explanations (MUS, QuickXplain, OUS, stepwise) &#9194; &#x1F4BB;\n",
    "- Counterfactual explanations (MCS & Diagnosis, FastDiag, Max-CSP, Slack-based relaxation) &#x1F4BB;\n",
    "\n",
    "\n",
    "### Part 3: Explaining Optimization problems\n",
    "- Multi-objective optimization and pareto-optimal solutions &#x1F4BB;\n",
    "- Deductive explanations\n",
    "- Counterfactual explanations (inverse optimization) &#x1F4BB;\n",
    "\n",
    "### Part 4: Outlook and Q&A"
   ]
  },
  {
   "cell_type": "markdown",
   "metadata": {
    "slideshow": {
     "slide_type": "slide"
    }
   },
   "source": [
    "# Deductive explanations\n",
    "\n",
    "Explain _why_ something is logical consequence\n",
    "\n",
    "E.g.,\n",
    "- _why_ does this assignment follow from the constraints\n",
    "- _why_ is there no solution\n",
    "- _..._\n",
    "\n",
    "In general, need to explain UNSAT\n",
    "\n",
    "$C \\models \\mathit{fact} \\\\ \\Leftrightarrow C \\wedge \\neg \\mathit{fact} \\models \\bot$"
   ]
  },
  {
   "cell_type": "markdown",
   "metadata": {
    "pycharm": {
     "name": "#%% md\n"
    },
    "slideshow": {
     "slide_type": "slide"
    }
   },
   "source": [
    "## Minimal Unsatisfiable Subsets (MUS)\n",
    "\n",
    "\n",
    "<img src=\"img/explain_unsat.png\" width=\"15%\" align=\"left\" style=\"margin:50px;\">\n",
    "\n",
    "* Model nurse rostering problem as decision problem <br>\n",
    "    (no objective)\n",
    "        \n",
    "* Nurse **preferences** are also hard constraints"
   ]
  },
  {
   "cell_type": "code",
   "execution_count": null,
   "metadata": {
    "pycharm": {
     "name": "#%%\n"
    },
    "slideshow": {
     "slide_type": "fragment"
    }
   },
   "outputs": [],
   "source": [
    "# model as decision model\n",
    "factory = NurseSchedulingFactory(data)\n",
    "model, nurse_view = factory.get_decision_model()  # CMPpy DECISION Model\n",
    "model.solve()"
   ]
  },
  {
   "cell_type": "markdown",
   "metadata": {
    "pycharm": {
     "name": "#%% md\n"
    },
    "slideshow": {
     "slide_type": "fragment"
    }
   },
   "source": [
    "... no solution found"
   ]
  },
  {
   "cell_type": "code",
   "execution_count": null,
   "metadata": {
    "pycharm": {
     "name": "#%%\n"
    },
    "slideshow": {
     "slide_type": "slide"
    }
   },
   "outputs": [],
   "source": [
    "print(f\"Model has {len(model.constraints)} constraints:\")\n",
    "for cons in model.constraints: print(\"-\", cons)"
   ]
  },
  {
   "cell_type": "markdown",
   "metadata": {
    "slideshow": {
     "slide_type": "slide"
    }
   },
   "source": [
    "## Deductive Explanations for UNSAT problems\n",
    "\n",
    "The set of all constraints is unsatisfiable.\n",
    "\n",
    "<img src=\"img/allcons.png\" width=\"20%\" float=\"right\" style=\"margin:50px;\">\n"
   ]
  },
  {
   "cell_type": "markdown",
   "metadata": {
    "slideshow": {
     "slide_type": "fragment"
    }
   },
   "source": [
    "But do all constraints contribute to this?"
   ]
  },
  {
   "cell_type": "markdown",
   "metadata": {
    "pycharm": {
     "name": "#%% md\n"
    },
    "slideshow": {
     "slide_type": "slide"
    }
   },
   "source": [
    "## Deductive Explanations for UNSAT problems\n",
    "\n",
    "### Minimal Unsatisfiable Subset (MUS)\n",
    "\n",
    "<img src=\"img/mus.png\" width=\"20%\" align=\"left\" style=\"margin:50px;\">\n",
    "\n",
    "Pinpoint to constraints causing a conflict\n",
    "\n",
    "... trim model to a minimal set of constraints\n",
    "\n",
    "... minimize cognitive burden for user\n"
   ]
  },
  {
   "cell_type": "markdown",
   "metadata": {
    "pycharm": {
     "name": "#%% md\n"
    },
    "slideshow": {
     "slide_type": "slide"
    }
   },
   "source": [
    "### How to compute a MUS?\n",
    "\n",
    "Deletion-based MUS algorithm\n",
    "\n",
    "_[Joao Marques-Silva. Minimal Unsatisfiability: Models, Algorithms and Applications. ISMVL 2010. pp. 9-14]_"
   ]
  },
  {
   "cell_type": "code",
   "execution_count": null,
   "metadata": {
    "pycharm": {
     "name": "#%%\n"
    },
    "slideshow": {
     "slide_type": "fragment"
    }
   },
   "outputs": [],
   "source": [
    "def mus_naive(constraints):\n",
    "    m = cp.Model(constraints)\n",
    "    assert m.solve() is False, \"Model should be UNSAT\"\n",
    "    \n",
    "    core = constraints\n",
    "    i = 0\n",
    "    while i < len(core):\n",
    "        subcore = core[:i] + core[i+1:]\n",
    "        if cp.Model(subcore).solve():\n",
    "            i += 1 # removing makes it SAT, need to keep\n",
    "        else:\n",
    "            core = subcore # can safely delete \n",
    "    return core"
   ]
  },
  {
   "cell_type": "markdown",
   "metadata": {},
   "source": [
    "### How to compute a MUS?\n",
    "\n",
    "Deletion-based MUS algorithm\n",
    "\n",
    "<img src=\"img/order_delmus.png\" width=\"85%\">\n"
   ]
  },
  {
   "cell_type": "markdown",
   "metadata": {
    "slideshow": {
     "slide_type": "slide"
    }
   },
   "source": [
    "### How to compute a MUS, <u>efficiently</u>?"
   ]
  },
  {
   "cell_type": "code",
   "execution_count": null,
   "metadata": {
    "slideshow": {
     "slide_type": "-"
    }
   },
   "outputs": [],
   "source": [
    "t0 = time.time()\n",
    "core = mus_naive(model.constraints)\n",
    "print(f\"Naive MUS took {time.time()-t0} seconds\")"
   ]
  },
  {
   "cell_type": "code",
   "execution_count": null,
   "metadata": {},
   "outputs": [],
   "source": [
    "from cpmpy.tools.explain import mus\n",
    "\n",
    "t0 = time.time()\n",
    "core = mus(model.constraints, solver=\"exact\")\n",
    "print(f\"Assumption-based MUS took {time.time()-t0} seconds\")"
   ]
  },
  {
   "cell_type": "markdown",
   "metadata": {},
   "source": [
    "### How to compute a MUS, <u>efficiently</u>?"
   ]
  },
  {
   "cell_type": "code",
   "execution_count": null,
   "metadata": {
    "slideshow": {
     "slide_type": "-"
    }
   },
   "outputs": [],
   "source": [
    "def mus_assum(constraints, solver=\"ortools\"):\n",
    "    # add indicator variable per expression\n",
    "    constraints = toplevel_list(constraints, merge_and=False)\n",
    "    assump = cp.boolvar(shape=len(constraints), name=\"assump\")  # Boolean indicators\n",
    "    m = cp.Model(assump.implies(constraints))  # [assump[i] -> constraints[i] for all i]\n",
    "    \n",
    "    s = cp.SolverLookup.get(solver, model)\n",
    "    assert s.solve(assumptions=assump) is False, \"Model should be UNSAT\"\n",
    "\n",
    "    core = s.get_core()  # start from solver's UNSAT core of assumption variables\n",
    "    i = 0\n",
    "    while i < len(core):\n",
    "        subcore = core[:i] + core[i+1:]  # try all but constraint 'i'\n",
    "        if s.solve(assumptions=subcore) is True:\n",
    "            i += 1  # removing 'i' makes it SAT, need to keep for UNSAT\n",
    "        else:\n",
    "            core = subcore\n",
    "    return [c for c,var in zip(constraints,assump) if var in core]"
   ]
  },
  {
   "cell_type": "markdown",
   "metadata": {
    "slideshow": {
     "slide_type": "slide"
    }
   },
   "source": [
    "### How to compute a MUS, <u>efficiently</u>?\n",
    "\n",
    "<center><img src=\"img/mus_assum.png\" style=\"max-width: 85%;\" /></center>"
   ]
  },
  {
   "cell_type": "markdown",
   "metadata": {
    "slideshow": {
     "slide_type": "slide"
    }
   },
   "source": [
    "### How to compute a MUS, <u>efficiently</u>?\n",
    "\n",
    "Assumption-based incremental solving only for Boolean SAT problems?"
   ]
  },
  {
   "cell_type": "markdown",
   "metadata": {
    "slideshow": {
     "slide_type": "fragment"
    }
   },
   "source": [
    "<b>No!</b>\n",
    "\n",
    "* CP-solvers: <i>Lazy Clause Generation</i> (e.g. OR-Tools)\n",
    "* Pseudo-Boolean solvers: <i>Conflict-Driven Cutting Plane Learning</i> (e.g. Exact)\n",
    "* SMT solvers: <i>SAT Module Theories with CDCL</i> (e.g. Z3)\n",
    "* MaxSAT solvers: <i>Core-guided solvers</i>"
   ]
  },
  {
   "cell_type": "markdown",
   "metadata": {
    "pycharm": {
     "name": "#%% md\n"
    },
    "slideshow": {
     "slide_type": "slide"
    }
   },
   "source": [
    "### Computing a MUS for an UNSAT problem\n",
    "\n",
    "Computing an minimal set that entails UNSAT"
   ]
  },
  {
   "cell_type": "code",
   "execution_count": null,
   "metadata": {
    "pycharm": {
     "name": "#%%\n"
    },
    "slideshow": {
     "slide_type": "fragment"
    }
   },
   "outputs": [],
   "source": [
    "from cpmpy.tools.mus import mus\n",
    "\n",
    "solver = \"ortools\" # change to \"exact\" for incremental\n",
    "subset = mus(model.constraints, solver=solver) \n",
    "\n",
    "print(\"Length of MUS:\", len(subset))\n",
    "for cons in subset: print(\"-\", cons)"
   ]
  },
  {
   "cell_type": "code",
   "execution_count": null,
   "metadata": {
    "pycharm": {
     "name": "#%%\n"
    },
    "slideshow": {
     "slide_type": "subslide"
    }
   },
   "outputs": [],
   "source": [
    "visualize_constraints(subset, nurse_view, factory)"
   ]
  },
  {
   "cell_type": "markdown",
   "metadata": {
    "pycharm": {
     "name": "#%%\n"
    },
    "slideshow": {
     "slide_type": "slide"
    }
   },
   "source": [
    "### Many MUS'es may exist...\n",
    "\n",
    "_Liffiton, M.H., & Malik, A. (2013). Enumerating infeasibility: Finding multiple MUSes quickly. In\n",
    "Proceedings of the 10th International Conference on Integration of AI and OR Techniques in Constraint\n",
    "    Programming (CPAIOR 2013) (pp. 160–175)_"
   ]
  },
  {
   "cell_type": "code",
   "execution_count": null,
   "metadata": {
    "pycharm": {
     "name": "#%%\n"
    },
    "scrolled": true,
    "slideshow": {
     "slide_type": "fragment"
    }
   },
   "outputs": [],
   "source": [
    "from cpmpy.tools.explain import marco\n",
    "\n",
    "solver = \"ortools\"  # default solver\n",
    "if \"exact\" in cp.SolverLookup.solvernames(): solver = \"exact\"  # fast for increment solving\n",
    "\n",
    "t0 = time.time()\n",
    "cnt = 0\n",
    "for (kind, sset) in marco(model.constraints, solver=solver, map_solver=solver):\n",
    "    if kind == \"MUS\":\n",
    "        print(\"M\", end=\"\")\n",
    "        cnt += 1\n",
    "    else: print(\".\", end=\"\") # MSS\n",
    "    \n",
    "    if time.time() - t0 > 15:  break  # for tutorial: break after 15s\n",
    "print(f\"\\nFound {cnt} MUSes in\", time.time() - t0)\n"
   ]
  },
  {
   "cell_type": "markdown",
   "metadata": {
    "pycharm": {
     "name": "#%%\n"
    },
    "slideshow": {
     "slide_type": "slide"
    }
   },
   "source": [
    "### Many MUS'es may exist...\n",
    "\n",
    "<img src=\"img/musses.png\" width=\"40%\" align=\"left\" style=\"margin-left:50px; margin-right:50px\">\n",
    "\n",
    "This problem has just 360 constraints, yet 100.000+ MUSes exist...\n",
    "\n",
    "Which one to show? \n",
    "\n",
    "Can we influence which MUS is found?"
   ]
  },
  {
   "cell_type": "markdown",
   "metadata": {
    "slideshow": {
     "slide_type": "slide"
    }
   },
   "source": [
    "## Influencing which MUS is found?\n",
    "\n",
    "<b>QuickXPlain algorithm</b> <i>(Junker, 2004)</i>.\n",
    "Widely used, in model-based diagnosis, recommender systems, verification, and more.\n",
    "\n",
    "Divide-and-conquer given a lexicographic <i>preference</i> order over the constraints:"
   ]
  },
  {
   "cell_type": "code",
   "execution_count": null,
   "metadata": {
    "slideshow": {
     "slide_type": "fragment"
    }
   },
   "outputs": [],
   "source": [
    "# the order of 'soft' matters! lexicographic preference for the first ones\n",
    "def quickxplain_naive(soft, hard=[], solver=\"ortools\"):\n",
    "    model, soft, assump = make_assump_model(soft, hard)\n",
    "    s = cp.SolverLookup.get(solver, model)\n",
    "    assert s.solve(assumptions=assump) is False, \"The model should be UNSAT!\"\n",
    "\n",
    "    # the recursive call\n",
    "    def do_recursion(tocheck, other, delta):\n",
    "        if len(delta) != 0 and s.solve(assumptions=tocheck) is False:\n",
    "            # conflict is in hard constraints, no need to recurse\n",
    "            return []\n",
    "\n",
    "        if len(other) == 1:\n",
    "            # conflict is not in 'tocheck' constraints, but only 1 'other' constraint\n",
    "            return list(other)  # base case of recursion\n",
    "\n",
    "        split = len(other) // 2  # determine split point\n",
    "        more_preferred, less_preferred = other[:split], other[split:]  # split constraints into two sets\n",
    "\n",
    "        # treat more preferred part as hard and find extra constants from less preferred\n",
    "        delta2 = do_recursion(tocheck + more_preferred, less_preferred, more_preferred)\n",
    "        # find which preferred constraints exactly\n",
    "        delta1 = do_recursion(tocheck + delta2, more_preferred, delta2)\n",
    "        return delta1 + delta2\n",
    "\n",
    "    core = do_recursion([], list(assump), [])\n",
    "    return [c for c,var in zip(soft,assump) if var in core]\n"
   ]
  },
  {
   "cell_type": "markdown",
   "metadata": {},
   "source": [
    "## Influencing which MUS is found?\n",
    "\n",
    "<b>QuickXPlain</b>: Divide-and-conquer given a lexicographic <i>preference</i> order over the constraints:\n",
    "\n",
    "&nbsp;\n",
    "\n",
    "<center><img src=\"img/quickxplain.png\" style=\"max-width: 70%;\" /></center>"
   ]
  },
  {
   "cell_type": "markdown",
   "metadata": {
    "slideshow": {
     "slide_type": "slide"
    }
   },
   "source": [
    "## Influencing which MUS is found?\n",
    "\n",
    "<b>QuickXPlain algorithm</b> <i>(Junker, 2004)</i>.\n",
    "Widely used, in model-based diagnosis, recommender systems, verification, and more.\n",
    "\n",
    "Divide-and-conquer given a lexicographic order over the constraints"
   ]
  },
  {
   "cell_type": "code",
   "execution_count": null,
   "metadata": {
    "slideshow": {
     "slide_type": "fragment"
    }
   },
   "outputs": [],
   "source": [
    "from cpmpy.tools.explain import quickxplain\n",
    "\n",
    "t0 = time.time()\n",
    "subset = quickxplain(sorted(model.constraints, key=lambda c: -len(str(c))), solver=\"exact\")\n",
    "print(\"ordering '-len': Length of MUS:\", len(subset))\n",
    "print(f\"(in {time.time()-t0} seconds)\")\n",
    "\n",
    "t0 = time.time()\n",
    "subset = quickxplain(sorted(model.constraints, key=lambda c: len(str(c))), solver=\"exact\")\n",
    "print(\"ordering 'len': Length of MUS:\", len(subset))\n",
    "print(f\"(in {time.time()-t0} seconds)\")"
   ]
  },
  {
   "cell_type": "markdown",
   "metadata": {
    "slideshow": {
     "slide_type": "slide"
    }
   },
   "source": [
    "## Influencing which MUS is found?"
   ]
  },
  {
   "cell_type": "code",
   "execution_count": null,
   "metadata": {
    "slideshow": {
     "slide_type": "-"
    }
   },
   "outputs": [],
   "source": [
    "visualize_constraints(subset, nurse_view, factory)"
   ]
  },
  {
   "cell_type": "markdown",
   "metadata": {
    "slideshow": {
     "slide_type": "slide"
    }
   },
   "source": [
    "## Optimising which MUS is found?\n",
    "\n",
    "Give every constraint a weight: OUS: Optimal Unsatisfiable Subsets <i>(Gamba, Bogaerts, Guns, 2021)</i>.\n",
    "\n",
    "Some key properties:\n",
    "\n",
    "1. If a subset is SAT, can <i>grow</i> it to a Maximal Satisfiable Subset (MSS)\n",
    "2. The complement of a MSS is a Minimum Correction Subset (MCS)\n",
    "3. Theorem: A MUS is a hitting set of the MCSes\n",
    "\n",
    "<table><tr>\n",
    "    <td width=10%>\n",
    "        <center><img width=60% src=\"img/mcs.png\" /></center>\n",
    "    </td> \n",
    "    <td width=10%>\n",
    "        <center><img width=60% src=\"img/hittingset.png\" /></center>\n",
    "    </td>\n",
    "</tr></table>"
   ]
  },
  {
   "cell_type": "markdown",
   "metadata": {
    "pycharm": {
     "name": "#%% md\n"
    },
    "slideshow": {
     "slide_type": "slide"
    }
   },
   "source": [
    "## Optimising which MUS is found?\n",
    "\n",
    "OUS: Optimal Unsatisfiable Subsets <i>(Gamba, Bogaerts, Guns, 2021)</i>. Every constraints has a weight.\n",
    "\n",
    "1. Initialize sets-to-hit $\\mathcal{H}$ (e.g. insert set of all constraints)\n",
    "2. Find *optimal* hitting set $S$\n",
    "3. Check if SAT: grow and take complement = MCS $K$, add to sets-to-hit $\\mathcal{H}$\n",
    "4. Repeat until UNSAT: optimal unsatisfiable subset $S$ found\n",
    "\n",
    "<center><img src=\"img/smus.png\" width=55% /></center>"
   ]
  },
  {
   "cell_type": "markdown",
   "metadata": {
    "pycharm": {
     "name": "#%% md\n"
    },
    "slideshow": {
     "slide_type": "slide"
    }
   },
   "source": [
    "## <u>Efficiently</u> optimising which MUS is found?\n",
    "\n",
    "OUS: Optimal Unsatisfiable Subsets <i>(Gamba, Bogaerts, Guns, 2021)</i>. Every constraints has a weight.\n",
    "\n",
    "&nbsp;\n",
    "\n",
    "<center><img src=\"img/smus_efficient.png\" width=65%/></center>"
   ]
  },
  {
   "cell_type": "markdown",
   "metadata": {
    "slideshow": {
     "slide_type": "slide"
    }
   },
   "source": [
    "## Optimising which MUS is found?\n",
    "\n",
    "OUS: Optimal Unsatisfiable Subsets <i>(Gamba, Bogaerts, Guns, 2021)</i>. Every constraints has a weight."
   ]
  },
  {
   "cell_type": "code",
   "execution_count": null,
   "metadata": {},
   "outputs": [],
   "source": [
    "from cpmpy.tools.explain import optimal_mus\n",
    "\n",
    "sat_solver = \"exact\" if \"exact\" in names else \"ortools\" # incremental SAT solver\n",
    "hs_solver = \"gurobi\" if \"gurobi\" in names else \"ortools\" # incremental MIP solver\n",
    "\n",
    "small_subset = optimal_mus(model.constraints, solver=sat_solver, hs_solver=hs_solver)\n",
    "\n",
    "print(\"Length of sMUS:\", len(small_subset))\n",
    "for cons in small_subset:  \n",
    "    print(\"-\", cons)"
   ]
  },
  {
   "cell_type": "code",
   "execution_count": null,
   "metadata": {
    "pycharm": {
     "name": "#%%\n"
    },
    "slideshow": {
     "slide_type": "subslide"
    }
   },
   "outputs": [],
   "source": [
    "visualize_constraints(small_subset, nurse_view, factory)"
   ]
  },
  {
   "cell_type": "markdown",
   "metadata": {
    "pycharm": {
     "name": "#%% md\n"
    },
    "slideshow": {
     "slide_type": "slide"
    }
   },
   "source": [
    "## Step-wise explanation\n",
    "\n",
    "<img src=\"img/explain_step-wise.png\" width=\"20%\" align=\"right\" style=\"margin:50px;\">\n",
    "\n",
    "- We were lucky, the SMUS is pretty understandable\n",
    "- What if its not?\n",
    "- Disect MUS into smaller steps <br>\n",
    "  -> Step-wise Explanations\n",
    "\n",
    "> Ignace Bleukx, Jo Devriendt, Emilio Gamba, Bart Bogaerts, Tias Guns. Simplifying Step-wise Explanation Sequences. 29th International Conference on Principles and Practice of Constraint Programming (CP23), 2023."
   ]
  },
  {
   "cell_type": "markdown",
   "metadata": {
    "slideshow": {
     "slide_type": "slide"
    }
   },
   "source": [
    "## Step-wise explanations\n",
    "\n",
    "> Bogaerts, Bart, Emilio Gamba, and Tias Guns. \"A framework for step-wise explaining how to solve constraint satisfaction problems.\" Artificial Intelligence 300 (2021): 103550.\n",
    "\n",
    "&nbsp;\n",
    "\n",
    "<center><img src=\"img/stepwise.png\" /></center>"
   ]
  },
  {
   "cell_type": "markdown",
   "metadata": {
    "slideshow": {
     "slide_type": "slide"
    }
   },
   "source": [
    "## Step-wise explanations\n",
    "\n",
    "**Sudoku**\n",
    "- Step derives assignment\n",
    "- Stop at full assignment (solution)\n",
    "\n",
    "**UNSAT**\n",
    "- Step derives invalid assignments\n",
    "- Stop when domain is empty"
   ]
  },
  {
   "cell_type": "markdown",
   "metadata": {
    "slideshow": {
     "slide_type": "slide"
    }
   },
   "source": [
    "### Any MUS"
   ]
  },
  {
   "cell_type": "code",
   "execution_count": null,
   "metadata": {
    "pycharm": {
     "name": "#%%\n"
    },
    "slideshow": {
     "slide_type": "-"
    }
   },
   "outputs": [],
   "source": [
    "subset = mus(model.constraints, solver=\"exact\")\n",
    "\n",
    "visualize_constraints(subset, nurse_view, factory)"
   ]
  },
  {
   "cell_type": "markdown",
   "metadata": {
    "slideshow": {
     "slide_type": "slide"
    }
   },
   "source": [
    "### Let's find a sequence of step-wise explanations of this MUS"
   ]
  },
  {
   "cell_type": "code",
   "execution_count": null,
   "metadata": {
    "pycharm": {
     "name": "#%%\n"
    },
    "slideshow": {
     "slide_type": "fragment"
    }
   },
   "outputs": [],
   "source": [
    "from explanations.stepwise import find_sequence\n",
    "\n",
    "seq = find_sequence(subset)"
   ]
  },
  {
   "cell_type": "code",
   "execution_count": null,
   "metadata": {
    "pycharm": {
     "name": "#%%\n"
    },
    "slideshow": {
     "slide_type": "fragment"
    }
   },
   "outputs": [],
   "source": [
    "nurse_view.clear()\n",
    "visualize_step(seq[0], nurse_view, factory)"
   ]
  },
  {
   "cell_type": "code",
   "execution_count": null,
   "metadata": {
    "pycharm": {
     "name": "#%%\n"
    },
    "slideshow": {
     "slide_type": "subslide"
    }
   },
   "outputs": [],
   "source": [
    "visualize_step(seq[1], nurse_view, factory)"
   ]
  },
  {
   "cell_type": "code",
   "execution_count": null,
   "metadata": {
    "pycharm": {
     "name": "#%%\n"
    },
    "slideshow": {
     "slide_type": "subslide"
    }
   },
   "outputs": [],
   "source": [
    "visualize_step(seq[2], nurse_view, factory)"
   ]
  },
  {
   "cell_type": "code",
   "execution_count": null,
   "metadata": {
    "pycharm": {
     "name": "#%%\n"
    },
    "slideshow": {
     "slide_type": "subslide"
    }
   },
   "outputs": [],
   "source": [
    "visualize_step(seq[3], nurse_view, factory)"
   ]
  },
  {
   "cell_type": "code",
   "execution_count": null,
   "metadata": {
    "pycharm": {
     "name": "#%%\n"
    },
    "slideshow": {
     "slide_type": "subslide"
    }
   },
   "outputs": [],
   "source": [
    "visualize_step(seq[4], nurse_view, factory)"
   ]
  },
  {
   "cell_type": "code",
   "execution_count": null,
   "metadata": {
    "pycharm": {
     "name": "#%%\n"
    },
    "slideshow": {
     "slide_type": "subslide"
    }
   },
   "outputs": [],
   "source": [
    "visualize_step(seq[5], nurse_view, factory)"
   ]
  },
  {
   "cell_type": "code",
   "execution_count": null,
   "metadata": {
    "pycharm": {
     "name": "#%%\n"
    },
    "slideshow": {
     "slide_type": "subslide"
    }
   },
   "outputs": [],
   "source": [
    "visualize_step(seq[6], nurse_view, factory)"
   ]
  },
  {
   "cell_type": "code",
   "execution_count": null,
   "metadata": {
    "pycharm": {
     "name": "#%%\n"
    },
    "slideshow": {
     "slide_type": "subslide"
    }
   },
   "outputs": [],
   "source": [
    "visualize_step(seq[7], nurse_view, factory)"
   ]
  },
  {
   "cell_type": "code",
   "execution_count": null,
   "metadata": {
    "pycharm": {
     "name": "#%%\n"
    },
    "slideshow": {
     "slide_type": "subslide"
    }
   },
   "outputs": [],
   "source": [
    "visualize_step(seq[8], nurse_view, factory)"
   ]
  },
  {
   "cell_type": "code",
   "execution_count": null,
   "metadata": {
    "pycharm": {
     "name": "#%%\n"
    },
    "slideshow": {
     "slide_type": "subslide"
    }
   },
   "outputs": [],
   "source": [
    "visualize_step(seq[9], nurse_view, factory)"
   ]
  },
  {
   "cell_type": "code",
   "execution_count": null,
   "metadata": {
    "pycharm": {
     "name": "#%%\n"
    },
    "slideshow": {
     "slide_type": "subslide"
    }
   },
   "outputs": [],
   "source": [
    "visualize_step(seq[10], nurse_view, factory)"
   ]
  },
  {
   "cell_type": "markdown",
   "metadata": {
    "pycharm": {
     "name": "#%% md\n"
    },
    "slideshow": {
     "slide_type": "slide"
    }
   },
   "source": [
    "## Explainable Constraint Programming (XCP)\n",
    "\n",
    "Recap, \"**Why X?**\" &nbsp;&nbsp;&nbsp;&nbsp;&nbsp;&nbsp; (with X a solution or UNSAT)\n",
    "\n",
    "<img src=\"img/coloring_mus.png\" width=25% align=\"right\">\n",
    "\n",
    "- **Deductive explanation:**\n",
    "  - _What causes X?_\n",
    "  - answer: a minimal inference set"
   ]
  },
  {
   "cell_type": "markdown",
   "metadata": {
    "slideshow": {
     "slide_type": "fragment"
    }
   },
   "source": [
    "<img src=\"img/coloring_mcs.png\" width=25% align=\"right\">\n",
    "\n",
    "- **Counterfactual explanation**:\n",
    "  - _What if I want Y instead of X?_\n",
    "  - answer: a constraint relaxation + new solution"
   ]
  },
  {
   "cell_type": "markdown",
   "metadata": {
    "slideshow": {
     "slide_type": "slide"
    }
   },
   "source": [
    "## Resolving conflicts\n",
    "\n",
    "First idea: iteratively resolve all conflicts\n",
    "\n",
    "Diagnosis: interactively computing and resolving conflicts (Reiter 1987)\n",
    "\n",
    "> Reiter, Raymond. \"A theory of diagnosis from first principles.\" Artificial intelligence 32.1 (1987): 57-95."
   ]
  },
  {
   "cell_type": "code",
   "execution_count": null,
   "metadata": {
    "scrolled": false,
    "slideshow": {
     "slide_type": "slide"
    }
   },
   "outputs": [],
   "source": [
    "def callback(core): \n",
    "    clear_output(), display(visualize_constraints(core, nurse_view, factory))\n",
    "\n",
    "# from explanations.diagnosis import diagnose, diagnose_optimal\n",
    "# corr_subset = diagnose(model.constraints, solver=\"exact\", callback=callback)\n",
    "# clear_output()\n",
    "# print(\"Resolved.\")\n",
    "# corr_subset = diagnose_optimal(model.constraints, solver=\"exact\", hs_solver=\"exact\", callback=callback)"
   ]
  },
  {
   "cell_type": "code",
   "execution_count": null,
   "metadata": {
    "scrolled": false,
    "slideshow": {
     "slide_type": "subslide"
    }
   },
   "outputs": [],
   "source": [
    "# print(\"Removed constraints:\")\n",
    "# for c in corr_subset:\n",
    "#     print(\"-\", c)\n",
    "\n",
    "# visualize_constraints(corr_subset, nurse_view, factory)\n"
   ]
  },
  {
   "cell_type": "markdown",
   "metadata": {
    "pycharm": {
     "name": "#%% md\n"
    },
    "slideshow": {
     "slide_type": "slide"
    }
   },
   "source": [
    "## Fixing UNSAT Models\n",
    "\n",
    "\n",
    "<img src=\"img/fixing_mcs.png\" width=\"20%\" align=\"left\" style=\"margin:50px;\">\n",
    "\n",
    "How to **change the model**, in order to find a solution?\n",
    "\n",
    "First idea:\n",
    "\n",
    "find subset of _soft constraints_ to keep <br> \n",
    "= <br>\n",
    "find constraints to be **removed**, e.g. remove a correction subset! "
   ]
  },
  {
   "cell_type": "markdown",
   "metadata": {
    "pycharm": {
     "name": "#%% md\n"
    },
    "slideshow": {
     "slide_type": "slide"
    }
   },
   "source": [
    "### How to compute a Minimal Correction Subset of an UNSAT problem?\n",
    "\n",
    "<img src=\"img/mcs.png\" width=\"20%\" align=\"left\" style=\"margin:50px;\">\n",
    "\n",
    "\n",
    "Approach 1: grow-based MCS/MSS\n",
    "\n",
    "Iterate over constraints and partition"
   ]
  },
  {
   "cell_type": "code",
   "execution_count": null,
   "metadata": {
    "pycharm": {
     "name": "#%%\n"
    },
    "slideshow": {
     "slide_type": "fragment"
    }
   },
   "outputs": [],
   "source": [
    "def mcs_naive(constraints):\n",
    "    mss = []  # grow a satisfiable subset one-by-one\n",
    "    mcs = []  # everything else is in the minimum conflict set\n",
    "    \n",
    "    for cons in constraints:\n",
    "        if cp.Model(mss + [cons]).solve():\n",
    "            mss.append(cons)  # adding it remains SAT\n",
    "        else:\n",
    "            mcs.append(cons)  # UNSAT, causes conflict\n",
    "    \n",
    "    return mcs"
   ]
  },
  {
   "cell_type": "code",
   "execution_count": null,
   "metadata": {
    "pycharm": {
     "name": "#%%\n"
    },
    "slideshow": {
     "slide_type": "slide"
    }
   },
   "outputs": [],
   "source": [
    "from cpmpy.tools.explain import mcs  # using assumption variables\n",
    "\n",
    "corr_subset = mcs(model.constraints)\n",
    "\n",
    "print(\"By removing these constraints, the model becomes SAT:\")\n",
    "for cons in corr_subset: print(\"-\",cons)\n",
    "    \n",
    "visualize_constraints(corr_subset, nurse_view, factory)"
   ]
  },
  {
   "cell_type": "code",
   "execution_count": null,
   "metadata": {
    "pycharm": {
     "name": "#%%\n"
    },
    "slideshow": {
     "slide_type": "subslide"
    }
   },
   "outputs": [],
   "source": [
    "mss = set(toplevel_list(model.constraints, merge_and=False)) - set(corr_subset)\n",
    "        \n",
    "corrected_model = cp.Model(list(mss))\n",
    "assert corrected_model.solve()\n",
    "\n",
    "visualize(nurse_view.value(), factory)"
   ]
  },
  {
   "cell_type": "markdown",
   "metadata": {
    "pycharm": {
     "name": "#%% md\n"
    },
    "slideshow": {
     "slide_type": "slide"
    }
   },
   "source": [
    "### Influencing the MCS that is found\n",
    "\n",
    "Provide weights for each constraint, find optimal (minimal) correction subset\n",
    "\n",
    "Corresponds to finding an optimal Maximal Satisfiable Subset\n",
    "\n",
    "Which is textbook Weighted Max-CSP solving!\n",
    "\n",
    "<img src=\"img/mcs.png\" width=\"20%\" align=\"right\" style=\"margin-top:-50px;\">"
   ]
  },
  {
   "cell_type": "markdown",
   "metadata": {
    "slideshow": {
     "slide_type": "slide"
    }
   },
   "source": [
    "### Influencing the MCS that is found\n",
    "\n",
    "solve the following problem:\n",
    "\n",
    "$$\n",
    "\\mathit{maximize} \\sum_{c_i \\in C} w_i b_i \\\\ \n",
    "st. \\quad b_i \\rightarrow c_i \\quad\\quad ,\\forall c_i \\in C\n",
    "$$\n"
   ]
  },
  {
   "cell_type": "code",
   "execution_count": null,
   "metadata": {
    "slideshow": {
     "slide_type": "fragment"
    }
   },
   "outputs": [],
   "source": [
    "indicators = cp.boolvar(shape=len(model.constraints), name=\"ind\")\n",
    "ind_model = cp.Model(indicators.implies(constraints))\n",
    "ind_model.maximize(indicators.sum())\n",
    "\n",
    "assert ind_model.solve()\n",
    "print(f\"Found optimal solution with {model.objective_value()} out of {len(model.constraits)} constraints\")"
   ]
  },
  {
   "cell_type": "code",
   "execution_count": null,
   "metadata": {
    "slideshow": {
     "slide_type": "slide"
    }
   },
   "outputs": [],
   "source": [
    "print(\"Removed these constraints:\")\n",
    "for c in model.constraints:\n",
    "    if c.value() is False:\n",
    "        print(\"-\", c)\n"
   ]
  },
  {
   "cell_type": "code",
   "execution_count": null,
   "metadata": {
    "pycharm": {
     "name": "#%% md\n"
    },
    "slideshow": {
     "slide_type": "-"
    }
   },
   "outputs": [],
   "source": [
    "corrected_model = cp.Model(list(mss))\n",
    "assert corrected_model.solve()\n",
    "\n",
    "visualize(nurse_view.value(), factory)"
   ]
  },
  {
   "cell_type": "code",
   "execution_count": null,
   "metadata": {},
   "outputs": [],
   "source": [
    "from cpmpy.tools.explain.utils import make_assump_model\n",
    "\n",
    "def fastdiag(soft, hard=[], solver=\"ortools\"):\n",
    "    \n",
    "    model, soft, assump = make_assump_model(soft, hard)\n",
    "    dmap = dict(zip(assump, soft))\n",
    "    s = cp.SolverLookup.get(solver, model)\n",
    "    \n",
    "    assert len(soft)\n",
    "    assert s.solve(assumptions=[]) is True\n",
    "    assert s.solve(assumptions=assump) is False\n",
    "    \n",
    "    def FD(D, C, AC):\n",
    "            \n",
    "        if len(D) != 0 and s.solve(assumptions=AC):\n",
    "            return []\n",
    "        \n",
    "        elif len(C) <= 1:\n",
    "            return C\n",
    "        \n",
    "        else:\n",
    "            k = len(C) // 2\n",
    "            C1, C2 = C[:k], C[k:]\n",
    "            D1 = FD(C1, C2, [a for a in AC if a not in set(C1)])\n",
    "            D2 = FD(D1, C1, [a for a in AC if a not in set(D1)])\n",
    "            return D1 + D2\n",
    "    \n",
    "    mcs = FD([], list(assump), list(assump))\n",
    "    return [dmap[a] for a in mcs]\n",
    "    \n",
    "def define_order(c):\n",
    "    if \"covered\" in str(c):\n",
    "        return 1\n",
    "    else:\n",
    "        return 10\n",
    "\n",
    "    \n",
    "fastdiag(sorted(model.constraints, key=define_order), solver=\"exact\")\n"
   ]
  },
  {
   "cell_type": "code",
   "execution_count": null,
   "metadata": {},
   "outputs": [],
   "source": [
    "from cpmpy.tools.explain.utils import make_assump_model\n",
    "\n",
    "def fastdiag(soft, hard=[], solver=\"ortools\"):\n",
    "    \n",
    "    model, soft, assump = make_assump_model(soft, hard)\n",
    "    dmap = dict(zip(assump, soft))\n",
    "    s = cp.SolverLookup.get(solver, model)\n",
    "    \n",
    "    assert s.solve(assumptions=assump) is False, \"The model should be UNSAT!\"\n",
    "    \n",
    "    def do_recurse(soft, hard, delta):\n",
    "        \n",
    "        if len(delta) != 0 and s.solve(assumptions=hard) is True:\n",
    "            # removing all soft is SAT\n",
    "            return []\n",
    "        if len(delta) == 1:\n",
    "            return delta\n",
    "        \n",
    "        split = len(soft) // 2\n",
    "        c1, c2 = soft[:split], soft[split:]\n",
    "        delta1 = do_recurse(c1, c2, [c for c in delta if c not in set(c1)])\n",
    "        delta2 = do_recurse(delta1, c1, [c for c in delta if c not in set(delta1)])\n",
    "        \n",
    "        return delta1 + delta2\n",
    "    \n",
    "    core = do_recurse(list(assump), list(assump), list(assump))\n",
    "    return [dmap[a] for a in core]\n",
    "\n",
    "\n",
    "sorted_cons = sorted(constraints, key=lambda c : \"cover\" not in str(c))\n",
    "\n",
    "mcs = fastdiag(soft=sorted_cons)\n",
    "\n",
    "for c in mcs:\n",
    "    print(\"-\", c)"
   ]
  },
  {
   "cell_type": "markdown",
   "metadata": {
    "slideshow": {
     "slide_type": "subslide"
    }
   },
   "source": [
    "Unsatisfied constraints can be interpreted as _penalty_ of solution\n",
    "\n",
    " => Max-CSP solution minimizes penalty\n",
    "\n",
    "Weighted version allows for fine grained control over penalties!\n",
    " \n",
    " => Optimal MSS instead of cardinality-maximal one"
   ]
  },
  {
   "cell_type": "markdown",
   "metadata": {
    "pycharm": {
     "name": "#%% md\n"
    },
    "slideshow": {
     "slide_type": "slide"
    }
   },
   "source": [
    "## Fixing UNSAT Models\n",
    "\n",
    "_Removing_ constraints from the model is drastic...\n",
    "\n",
    "In the previous solution, no nurses on Sunday? What if you break your leg that day?\n",
    "\n",
    "<br>\n",
    "\n",
    "<img src=\"img/fixing_mcs.png\" width=\"20%\" align=\"right\" style=\"margin:50px;\">\n",
    "\n",
    "Second idea:\n",
    "\n",
    "Slightly **violate** constraints which allows for **relaxation** of constraints\n",
    "\n",
    "E.g. **feasbility restoration** by modifying rather then removing constraints"
   ]
  },
  {
   "cell_type": "markdown",
   "metadata": {
    "pycharm": {
     "name": "#%% md\n"
    },
    "slideshow": {
     "slide_type": "subslide"
    }
   },
   "source": [
    "### Relaxation of constraints\n",
    "\n",
    "<img src=\"img/slack.png\" width=\"20%\" align=\"left\" style=\"margin:20px;\">\n",
    "\n",
    "* Boolean constraints can only be turned on/off\n",
    "* Numerical constraints can be __violated__ to some extend\n",
    "* Introduce slack for each numerical constraint\n",
    "* Slack indicates how much a constraint may be violated\n",
    "   - = fine grained penalty of solution!\n",
    "* Minimize aggregate of slack values"
   ]
  },
  {
   "cell_type": "markdown",
   "metadata": {
    "pycharm": {
     "name": "#%% md\n"
    },
    "slideshow": {
     "slide_type": "-"
    }
   },
   "source": [
    "> Senthooran I, Klapperstueck M, Belov G, Czauderna T, Leo K, Wallace M, Wybrow M, Garcia de la Banda M. Human-centred feasibility restoration in practice. Constraints. 2023 Jul 20:1-41."
   ]
  },
  {
   "cell_type": "markdown",
   "metadata": {
    "slideshow": {
     "slide_type": "subslide"
    }
   },
   "source": [
    "### Relaxation of constraints\n",
    "\n",
    "<img src=\"img/slack.png\" width=\"20%\" align=\"left\" style=\"margin:20px;\">\n",
    "\n",
    "E.g., allow violation of _cover constraints_ <br>\n",
    "    --> Allow shifts to be slightly under/overstaffed"
   ]
  },
  {
   "cell_type": "code",
   "execution_count": null,
   "metadata": {
    "pycharm": {
     "name": "#%%\n"
    },
    "slideshow": {
     "slide_type": "fragment"
    }
   },
   "outputs": [],
   "source": [
    "slack_model, slack_nurse_view, slack_under, slack_over = factory.get_slack_model()  # CMPpy Model\n",
    "\n",
    "for _, cover in factory.data.cover.iterrows():\n",
    "    # read the data\n",
    "    day = cover[\"# Day\"]\n",
    "    shift = factory.shift_name_to_idx[cover[\"ShiftID\"]]\n",
    "    requirement = cover[\"Requirement\"]\n",
    "    \n",
    "    nb_nurses = cp.Count(nurse_view[:, day], shift)\n",
    "    expr = nb_nurses == requirement - slack_under[day] + slack_over[day]"
   ]
  },
  {
   "cell_type": "markdown",
   "metadata": {
    "slideshow": {
     "slide_type": "subslide"
    }
   },
   "source": [
    "#### Minimize global violation"
   ]
  },
  {
   "cell_type": "code",
   "execution_count": null,
   "metadata": {
    "slideshow": {
     "slide_type": "-"
    }
   },
   "outputs": [],
   "source": [
    "slack_model, slack_nurse_view, slack_under, slack_over = factory.get_slack_model()  # CMPpy Model\n",
    "slack = cp.cpm_array(np.append(slack_under, slack_over))"
   ]
  },
  {
   "cell_type": "code",
   "execution_count": null,
   "metadata": {
    "pycharm": {
     "name": "#%%\n"
    },
    "slideshow": {
     "slide_type": "fragment"
    }
   },
   "outputs": [],
   "source": [
    "slack_model.minimize(cp.sum(slack)) # minimize global violation\n",
    "\n",
    "assert slack_model.solve()\n",
    "style = visualize(slack_nurse_view.value(), factory, highlight_cover=True)\n",
    "style.data.loc[\"Slack under\"] = list(slack_under.value()) + [\" \",\" \"]\n",
    "style.data.loc[\"Slack over\"] = list(slack_over.value()) + [\" \", \" \"]\n",
    "display(style)"
   ]
  },
  {
   "cell_type": "markdown",
   "metadata": {
    "slideshow": {
     "slide_type": "subslide"
    }
   },
   "source": [
    "#### Minimize maximum violation"
   ]
  },
  {
   "cell_type": "code",
   "execution_count": null,
   "metadata": {
    "slideshow": {
     "slide_type": "-"
    }
   },
   "outputs": [],
   "source": [
    "slack_model.minimize(cp.max(slack)) # minimize max violation\n",
    " \n",
    "assert slack_model.solve()\n",
    "style = visualize(slack_nurse_view.value(), factory, highlight_cover=True)\n",
    "style.data.loc[\"Slack under\"] = list(slack_under.value()) + [\" \"]*2\n",
    "style.data.loc[\"Slack over\"] = list(slack_over.value()) + [\" \"]*2\n",
    "display(style)"
   ]
  },
  {
   "cell_type": "markdown",
   "metadata": {
    "slideshow": {
     "slide_type": "subslide"
    }
   },
   "source": [
    "#### Minimize nb of violated constraints"
   ]
  },
  {
   "cell_type": "code",
   "execution_count": null,
   "metadata": {
    "slideshow": {
     "slide_type": "-"
    }
   },
   "outputs": [],
   "source": [
    "slack_model.minimize(cp.sum(slack != 0)) # minimize nb of violated constraints\n",
    " \n",
    "assert slack_model.solve()\n",
    "style = visualize(slack_nurse_view.value(), factory, highlight_cover=True)\n",
    "style.data.loc[\"Slack under\"] = list(slack_under.value()) + [\" \"]*2\n",
    "style.data.loc[\"Slack over\"] = list(slack_over.value()) + [\" \"]*2\n",
    "display(style)"
   ]
  },
  {
   "cell_type": "markdown",
   "metadata": {
    "slideshow": {
     "slide_type": "subslide"
    }
   },
   "source": [
    "#### Or minimize any combination"
   ]
  },
  {
   "cell_type": "code",
   "execution_count": null,
   "metadata": {
    "slideshow": {
     "slide_type": "-"
    }
   },
   "outputs": [],
   "source": [
    "obj1 = cp.max(slack)       # minimize max violation\n",
    "obj2 = cp.sum(slack != 0)  # minimize nb of violations\n",
    "obj3 = cp.sum(slack)       # minimize global violation\n",
    "\n",
    "slack_model.minimize(10000 * obj1 + 1000 * obj2 + obj3) # multi-objective optimization\n",
    "\n",
    "assert slack_model.solve()\n",
    "style = visualize(slack_nurse_view.value(), factory, highlight_cover=True)\n",
    "style.data.loc[\"Slack under\"] = list(slack_under.value()) + [\" \"]*2\n",
    "style.data.loc[\"Slack over\"] = list(slack_over.value()) + [\" \"]*2\n",
    "display(style)"
   ]
  },
  {
   "cell_type": "markdown",
   "metadata": {
    "pycharm": {
     "name": "#%% md\n"
    },
    "slideshow": {
     "slide_type": "skip"
    }
   },
   "source": [
    "## Reformulation as Optimization problem\n",
    "\n",
    "- Using hard constraints and soft constraints\n",
    "    - Put fine grained penalty on violation of _soft constraints_\n",
    "- Preferences modeled as soft constraints, and minimize **penalty of unsatisfied preferences**"
   ]
  },
  {
   "cell_type": "code",
   "execution_count": null,
   "metadata": {
    "pycharm": {
     "name": "#%%\n"
    },
    "slideshow": {
     "slide_type": "skip"
    }
   },
   "outputs": [],
   "source": [
    "model, nurse_view = factory.get_optimization_model()\n",
    "assert model.solve()\n",
    "\n",
    "opt_sol = nurse_view.value()\n",
    "display(visualize(opt_sol, factory))\n",
    "print(\"Total penalty:\", model.objective_value())\n",
    "print(\"Time to calculate:\", model.status().runtime, \"s\")"
   ]
  },
  {
   "cell_type": "markdown",
   "metadata": {
    "pycharm": {
     "name": "#%% md\n"
    },
    "slideshow": {
     "slide_type": "slide"
    }
   },
   "source": [
    "## Hands-on Explainable Constraint Programming (XCP)\n",
    "\n",
    "\n",
    "<img src=\"img/interaction_figure4.png\" width=\"20%\" align=\"right\" style=\"margin:50px;\">\n",
    "\n",
    "- The model: Nurse Rostering\n",
    "- The system: CPMpy modeling library\n",
    "- Explain UNSAT:\n",
    "  - Causal explanations (MUS, OUS, sequence)\n",
    "  - Conversational explanations\n",
    "- **Explain a solution:**\n",
    "  - Causal explanations\n",
    "  - Contrastive explanations"
   ]
  },
  {
   "cell_type": "markdown",
   "metadata": {
    "slideshow": {
     "slide_type": "slide"
    }
   },
   "source": [
    "## Reformulation as Optimization problem\n",
    "\n",
    "- Using hard constraints and soft constraints\n",
    "    - Put fine grained penalty on violation of _soft constraints_\n",
    "- Preferences modeled as soft constraints, minimize **penalty of unsatisfied preferences**"
   ]
  },
  {
   "cell_type": "code",
   "execution_count": null,
   "metadata": {
    "scrolled": false,
    "slideshow": {
     "slide_type": "fragment"
    }
   },
   "outputs": [],
   "source": [
    "model, nurse_view = factory.get_optimization_model()\n",
    "assert model.solve()\n",
    "opt_sol = nurse_view.value()\n",
    "display(visualize(opt_sol, factory))\n",
    "print(\"Total penalty:\", model.objective_value())\n",
    "print(\"Time to calculate:\", model.status().runtime, \"s\")"
   ]
  },
  {
   "cell_type": "markdown",
   "metadata": {
    "pycharm": {
     "name": "#%% md\n"
    },
    "slideshow": {
     "slide_type": "slide"
    }
   },
   "source": [
    "## Multiple solutions\n",
    "\n",
    "- User not satisfied with optimal solution?\n",
    "\n",
    "- There could be multiple optimal solutions\n",
    "\n",
    "- Find (a subset of) them by converting to a decision problem\n",
    "    - Enforcing the optimal objective value\n",
    "\n",
    "- Use `solveAll()`"
   ]
  },
  {
   "cell_type": "code",
   "execution_count": null,
   "metadata": {
    "pycharm": {
     "name": "#%%\n"
    },
    "scrolled": false,
    "slideshow": {
     "slide_type": "slide"
    }
   },
   "outputs": [],
   "source": [
    "opt_model = cp.Model(model.constraints) # init new model\n",
    "opt_model += (model.objective_ == model.objective_value()) # force objective\n",
    "\n",
    "opt_model.solveAll(solver=\"ortools\", solution_limit=3,\n",
    "                   display=lambda: display(visualize(nurse_view.value(), factory)))  # callback that visualizes sols"
   ]
  },
  {
   "cell_type": "markdown",
   "metadata": {
    "pycharm": {
     "name": "#%% md\n"
    },
    "slideshow": {
     "slide_type": "slide"
    }
   },
   "source": [
    "## Causal explanation: Why is there no better solution?\n",
    "\n",
    "\n",
    "<img src=\"img/why_not_better.png\" width=\"20%\" align=\"right\" style=\"margin:50px;\">\n",
    "        \n",
    "- Reduce to UNSAT problem\n",
    "\n",
    "- Add better-than optimal objective function as constraint \n",
    "\n",
    "- Then use the step-wise explanation techniques to explain<br> why it is now UNSAT\n",
    "\n",
    "> Bleukx, I., Devriendt, J., Gamba, E., Bogaerts B., & Guns T. (2023). Simplifying Step-wise Explanation Sequences. In International Conference on Principles and Practice of Constraint Programming 2023"
   ]
  },
  {
   "cell_type": "code",
   "execution_count": null,
   "metadata": {
    "pycharm": {
     "name": "#%%\n"
    },
    "slideshow": {
     "slide_type": "subslide"
    }
   },
   "outputs": [],
   "source": [
    "opt_model = cp.Model(model.constraints)\n",
    "opt_model += (model.objective_ < model.objective_value())\n",
    "\n",
    "opt_model.solve()"
   ]
  },
  {
   "cell_type": "markdown",
   "metadata": {
    "pycharm": {
     "name": "#%% md\n"
    },
    "slideshow": {
     "slide_type": "slide"
    }
   },
   "source": [
    "## Hands-on Explainable Constraint Programming (XCP)\n",
    "\n",
    "\n",
    "<img src=\"img/interaction_figure4.png\" width=\"20%\" align=\"right\" style=\"margin:50px;\">\n",
    "\n",
    "- The model: Nurse Rostering\n",
    "- The system: CPMpy modeling library\n",
    "- Explain UNSAT:\n",
    "  - Causal explanations (MUS, OUS, sequence)\n",
    "  - Conversational explanations\n",
    "- Explain a solution:\n",
    "  - Causal explanations\n",
    "  - **Contrastive explanations**"
   ]
  },
  {
   "cell_type": "markdown",
   "metadata": {
    "pycharm": {
     "name": "#%% md\n"
    },
    "slideshow": {
     "slide_type": "slide"
    }
   },
   "source": [
    "## Changing the solution\n",
    "\n",
    "<img src=\"img/changing_solution.png\" width=\"20%\" align=\"right\" style=\"margin:50px;\">\n",
    "\n",
    "        \n",
    "* Some assignment might not be what the user wants<br> or expects\n",
    "        \n",
    "* Preferences or constraints not given to the model\n",
    "        \n",
    "* Add given assignment as constraint and solve again\n",
    "        \n",
    "    * May result in less optimal objective value\n",
    "        \n",
    "* Show new (changed) solution to the user\n"
   ]
  },
  {
   "cell_type": "code",
   "execution_count": null,
   "metadata": {
    "pycharm": {
     "name": "#%%\n"
    },
    "slideshow": {
     "slide_type": "slide"
    }
   },
   "outputs": [],
   "source": [
    "mmodel = model.copy()\n",
    "mmodel += nurse_view[2,5] == 0 # robert does not want to work on 1st saturday\n",
    "\n",
    "assert mmodel.solve()\n",
    "print(\"Total penalty: \", mmodel.objective_value())"
   ]
  },
  {
   "cell_type": "code",
   "execution_count": null,
   "metadata": {
    "pycharm": {
     "name": "#%%\n"
    },
    "slideshow": {
     "slide_type": "fragment"
    }
   },
   "outputs": [],
   "source": [
    "style = highlight_changes(nurse_view.value(), opt_sol, factory)\n",
    "display(style)"
   ]
  },
  {
   "cell_type": "markdown",
   "metadata": {
    "pycharm": {
     "name": "#%% md\n"
    },
    "slideshow": {
     "slide_type": "slide"
    }
   },
   "source": [
    "## Slightly changing the solution\n",
    "\n",
    "<img src=\"img/changing_solution.png\" width=\"20%\" align=\"right\" style=\"margin:50px;\">\n",
    "\n",
    "        \n",
    "- Previous solution is very different from original! <br>\n",
    "    --> Do not want to change everyone's schedule!\n",
    "\n",
    "- Change only a few parts of it?\n",
    "\n",
    "- Tradeoff between difference and penalty\n",
    "\n"
   ]
  },
  {
   "cell_type": "code",
   "execution_count": null,
   "metadata": {
    "pycharm": {
     "name": "#%%\n"
    },
    "slideshow": {
     "slide_type": "slide"
    }
   },
   "outputs": [],
   "source": [
    "ov = mmodel.objective_value()\n",
    "mmodel += cp.sum(nurse_view != opt_sol)<= 3 # allow to make 3 changes\n",
    "assert mmodel.solve()\n",
    "print(\"Total penalty:\", mmodel.objective_value(), \"was:\", ov)\n",
    "\n",
    "style = highlight_changes(nurse_view.value(), opt_sol, factory)\n",
    "display(style)"
   ]
  },
  {
   "cell_type": "markdown",
   "metadata": {
    "pycharm": {
     "name": "#%% md\n"
    },
    "slideshow": {
     "slide_type": "slide"
    }
   },
   "source": [
    "## Counterfactual optimisation model\n",
    "\n",
    "\n",
    "<img src=\"img/change_model.png\" width=\"20%\" align=\"right\" style=\"margin:50px;\">\n",
    "\n",
    "\n",
    "- \"Why not Y\" -> \"Under what conditions would Y<br> be optimal?\"\n",
    "        \n",
    "- _Given_: model with linear objective function $w*c$, <br>and a 'foil' Y (constraints to satisfy in optimal)<br>\n",
    "- _Find_: new objective function weights $w'$<br> such that optimal solution satisfies $Y$\n",
    "        \n",
    "- Explains necessary changes to the **model**<br> rather than the solution!\n",
    "\n",
    "> [Korikov, Anton, and J. Christopher Beck. \"Counterfactual explanations via inverse constraint programming.\" In 27th International Conference on Principles and Practice of Constraint Programming (CP 2021).]"
   ]
  },
  {
   "cell_type": "markdown",
   "metadata": {
    "pycharm": {
     "name": "#%% md\n"
    },
    "slideshow": {
     "slide_type": "slide"
    }
   },
   "source": [
    "## Counterfactual optimisation model\n",
    "\n",
    "Find currently optimal solution $X$:"
   ]
  },
  {
   "cell_type": "code",
   "execution_count": null,
   "metadata": {
    "pycharm": {
     "name": "#%%\n"
    },
    "scrolled": false,
    "slideshow": {
     "slide_type": "-"
    }
   },
   "outputs": [],
   "source": [
    "model, nurse_view = factory.get_optimization_model()\n",
    "\n",
    "assert model.solve()\n",
    "print(\"Total penalty: \", model.objective_value())\n",
    "visualize(nurse_view.value(), factory)"
   ]
  },
  {
   "cell_type": "markdown",
   "metadata": {
    "pycharm": {
     "name": "#%% md\n"
    },
    "slideshow": {
     "slide_type": "subslide"
    }
   },
   "source": [
    "## Counterfactual optimisation model\n",
    "\n",
    "Robert is unhappy!"
   ]
  },
  {
   "cell_type": "code",
   "execution_count": null,
   "metadata": {},
   "outputs": [],
   "source": []
  },
  {
   "cell_type": "code",
   "execution_count": null,
   "metadata": {
    "pycharm": {
     "name": "#%%\n"
    },
    "slideshow": {
     "slide_type": "-"
    }
   },
   "outputs": [],
   "source": [
    "nurse = \"Robert\"\n",
    " \n",
    "for (w,pref) in zip(*model.objective_.args):\n",
    "    if nurse in str(pref):\n",
    "        print(f\"{pref.value()} \\t w:{w} \\t{pref} \\t\")"
   ]
  },
  {
   "cell_type": "code",
   "execution_count": null,
   "metadata": {
    "pycharm": {
     "name": "#%%\n"
    },
    "slideshow": {
     "slide_type": "fragment"
    }
   },
   "outputs": [],
   "source": [
    "desc = \"Robert's request to work shift D on Fri 1 is denied\"\n",
    "weight,d_on_fri1 = next((w,pref) for w,pref in zip(*model.objective_.args) if str(pref) == desc)\n",
    "print(f\"{d_on_fri1.value()} \\t w:{w} \\t{d_on_fri1}\")"
   ]
  },
  {
   "cell_type": "markdown",
   "metadata": {
    "pycharm": {
     "name": "#%% md\n"
    },
    "slideshow": {
     "slide_type": "slide"
    }
   },
   "source": [
    "## Counterfactual optimisation model\n",
    "\n",
    "Robert's request to work on Fri 1 is very important!\n",
    "\n",
    "How should he minimally change _his_ preferences for that?"
   ]
  },
  {
   "cell_type": "code",
   "execution_count": null,
   "metadata": {
    "pycharm": {
     "name": "#%%\n"
    },
    "slideshow": {
     "slide_type": "fragment"
    }
   },
   "outputs": [],
   "source": [
    "foil = {d_on_fri1 : False}  # don't want to have his request for Fri 1 denied!\n",
    "print(\"Foil:\", foil)\n",
    "print(\"\\n\")\n",
    "\n",
    "other_prefs = [(w,pref) for w,pref in zip(*model.objective_.args) if nurse in str(pref) and str(pref) != desc]\n",
    "print(f\"{nurse}'s other preferences:\")\n",
    "for w,pref in other_prefs:\n",
    "    print(\"- Weight\",w,\":\",pref)"
   ]
  },
  {
   "cell_type": "markdown",
   "metadata": {
    "pycharm": {
     "name": "#%% md\n"
    },
    "slideshow": {
     "slide_type": "slide"
    }
   },
   "source": [
    "## Counterfactual optimisation model\n",
    "\n",
    "Algorithmically, it is a beautiful inverse optimisation problem with a multi-solver main/subproblem algorithm"
   ]
  },
  {
   "cell_type": "code",
   "execution_count": null,
   "metadata": {
    "pycharm": {
     "name": "#%%\n"
    },
    "slideshow": {
     "slide_type": "fragment"
    }
   },
   "outputs": [],
   "source": [
    "from explanations.counterfactual import inverse_optimize\n",
    "\n",
    "ov = model.objective_value()\n",
    "new_obj = inverse_optimize(model=model, minimize=True,\n",
    "                           user_sol = foil,\n",
    "                           allowed_to_change = set(p[1] for p in other_prefs))\n",
    "print(f\"Done! Found solution with total penalty {new_obj.value()}, was {ov}\\n\")\n",
    "\n",
    "# Let's look at the preferences he should enter, to avoid Fri 1!\n",
    "print(f\"{nurse}'s new preferences:\")\n",
    "for w,pref in zip(*new_obj.args):\n",
    "    if nurse in str(pref) and str(pref) != desc and w != 1:  # previous weights were 1\n",
    "        print(\"Weight\",w,\":\",pref)"
   ]
  },
  {
   "cell_type": "markdown",
   "metadata": {
    "pycharm": {
     "name": "#%% md\n"
    },
    "slideshow": {
     "slide_type": "slide"
    }
   },
   "source": [
    "## Hands-on Explainable Constraint Programming (XCP)\n",
    "\n",
    "\n",
    "<img src=\"img/interaction_figure4.png\" width=\"20%\" align=\"right\" style=\"margin:50px;\">\n",
    "\n",
    "- The model: Nurse Rostering\n",
    "- The system: CPMpy modeling library\n",
    "- Explain UNSAT:\n",
    "  - Causal explanations (MUS, OUS, sequence)\n",
    "  - Conversational explanations\n",
    "- Explain a solution:\n",
    "  - Causal explanations\n",
    "  - Contrastive explanations"
   ]
  },
  {
   "cell_type": "markdown",
   "metadata": {
    "pycharm": {
     "name": "#%% md\n"
    },
    "slideshow": {
     "slide_type": "slide"
    }
   },
   "source": [
    "<img src=\"img/chatopt.png\" height=\"800px\">"
   ]
  },
  {
   "cell_type": "markdown",
   "metadata": {
    "pycharm": {
     "name": "#%%\n"
    },
    "slideshow": {
     "slide_type": "slide"
    }
   },
   "source": [
    "## Explainable Constraint Programming (XCP)\n",
    "\n",
    "In general, \"**Why X?**\" &nbsp;&nbsp;&nbsp;&nbsp;&nbsp;&nbsp; (with X a solution or UNSAT)\n",
    "\n",
    "To be defined... 3 patterns:\n",
    "- Causal explanation:\n",
    "  - _How was X derived?_\n",
    "- Contrastive explanation:\n",
    "  - _Why X and not Z?_\n",
    "- Conversational explanation:\n",
    "  - _Iteratively refine explanation & model_\n"
   ]
  },
  {
   "cell_type": "markdown",
   "metadata": {
    "pycharm": {
     "name": "#%% md\n"
    },
    "slideshow": {
     "slide_type": "slide"
    }
   },
   "source": [
    "## Connections to wider XAI\n",
    "\n",
    "* Explanations in planning, e.g. MUGS _[Eiflet et al]_, Model Reconciliation _[Chakraborti et al]_, ...\n",
    "* Explanations for KR/justifications _[Swartout et al]_, ASP _[Fandinno et al]_, in OWL _[Kalyanpur et al]_, ...\n",
    "* Formal explanations of ML models (e.g. impl. hitting-set based, _[Ignatiev et al]_)"
   ]
  },
  {
   "cell_type": "markdown",
   "metadata": {
    "pycharm": {
     "name": "#%% md\n"
    },
    "slideshow": {
     "slide_type": "slide"
    }
   },
   "source": [
    "## Explainable Constraint Programming (XCP)\n",
    "\n",
    "Recurring challenges:\n",
    "* Definition of explanation: _question and answer format_\n",
    "* Computational efficiency\n",
    "* Explanation selection: _which explanation to show_\n",
    "* User Interaction? _(visualisation, conversational, statefull, ...)_\n",
    "* Explanation evaluation: _computational, formal, user survey, user study, ..._\n"
   ]
  },
  {
   "cell_type": "markdown",
   "metadata": {
    "pycharm": {
     "name": "#%% md\n"
    },
    "slideshow": {
     "slide_type": "slide"
    }
   },
   "source": [
    "## Conclusion\n",
    "\n",
    "\n",
    "<img src=\"img/interaction_figure4.png\" width=\"20%\" align=\"right\" style=\"margin:50px;\">\n",
    "\n",
    "* Explanation of UNSAT/SAT/Opt      \n",
    "* Causal explanations relate back to finding a MUS/OUS\n",
    "* Need for programmable multi-solver tooling: CPMpy\n",
    "\n",
    "\n",
    "* Many open challenges and new problems!\n",
    "* Less developed: contrastive & conversational expl.  \n",
    "* We need incremental CP-solvers!\n",
    "\n",
    "\n"
   ]
  },
  {
   "cell_type": "markdown",
   "metadata": {
    "pycharm": {
     "name": "#%%\n"
    },
    "slideshow": {
     "slide_type": "slide"
    }
   },
   "source": [
    "### References mentioned (many more exist!!!)\n",
    "\n",
    "<small>\n",
    "    \n",
    "##### MUS\n",
    "* Liffiton, M. H., & Sakallah, K. A. (2008). Algorithms for computing minimal unsatisfiable subsets of constraints. Journal of Automated Reasoning, 40, 1-33.\n",
    "\n",
    "* Ignatiev, A., Previti, A., Liffiton, M., & Marques-Silva, J. (2015, August). Smallest MUS extraction with minimal hitting set dualization. In International Conference on Principles and Practice of Constraint Programming (pp. 173-182). Cham: Springer International Publishing.\n",
    "\n",
    "* Joao Marques-Silva. Minimal Unsatisfiability: Models, Algorithms and Applications. ISMVL 2010. pp. 9-14\n",
    "\n",
    "##### Feasibility restoration\n",
    "\n",
    "* Senthooran, I., Klapperstueck, M., Belov, G., Czauderna, T., Leo, K., Wallace, M., ... & De La Banda, M. G. (2021). Human-centred feasibility restoration. In 27th International Conference on Principles and Practice of Constraint Programming (CP 2021). Schloss Dagstuhl-Leibniz-Zentrum für Informatik.\n",
    "\n",
    "##### Explaining optimization problems\n",
    "* Korikov, A., & Beck, J. C. (2021). Counterfactual explanations via inverse constraint programming. In 27th International Conference on Principles and Practice of Constraint Programming (CP 2021). Schloss Dagstuhl-Leibniz-Zentrum für Informatik.\n",
    "\n",
    "##### Explanation in planning, ASP,  KR\n",
    "* Eifler, Rebecca, Michael Cashmore, Jörg Hoffmann, Daniele Magazzeni, and Marcel Steinmetz. \"A new approach to plan-space explanation: Analyzing plan-property dependencies in oversubscription planning.\" In Proceedings of the AAAI Conference on Artificial Intelligence, vol. 34, no. 06, pp. 9818-9826. 2020.\n",
    "* Chakraborti, Tathagata, Sarath Sreedharan, Yu Zhang, and Subbarao Kambhampati. \"Plan explanations as model reconciliation: moving beyond explanation as soliloquy.\" In Proceedings of the 26th International Joint Conference on Artificial Intelligence, pp. 156-163. 2017.\n",
    "* Fandinno, Jorge, and Claudia Schulz. \"Answering the “why” in answer set programming–A survey of explanation approaches.\" Theory and Practice of Logic Programming 19, no. 2 (2019): 114-203.\n",
    "* Swartout, William, Cecile Paris, and Johanna Moore. \"Explanations in knowledge systems: Design for explainable expert systems.\" IEEE Expert 6, no. 3 (1991): 58-64.\n",
    "* Kalyanpur, Aditya, Bijan Parsia, Evren Sirin, and Bernardo Cuenca-Grau. \"Repairing unsatisfiable concepts in OWL ontologies.\" In The Semantic Web: Research and Applications: 3rd European Semantic Web Conference, ESWC 2006 Budva, Montenegro, June 11-14, 2006 Proceedings 3, pp. 170-184. Springer Berlin Heidelberg, 2006.\n",
    "\n",
    "#### Formal explantions in ML\n",
    "* Ignatiev, Alexey, Nina Narodytska, and Joao Marques-Silva. \"Abduction-based explanations for machine learning models.\" In Proceedings of the AAAI Conference on Artificial Intelligence, vol. 33, no. 01, pp. 1511-1519. 2019.\n",
    "\n",
    "</small>"
   ]
  }
 ],
 "metadata": {
  "celltoolbar": "Slideshow",
  "kernelspec": {
   "display_name": "Python 3 (ipykernel)",
   "language": "python",
   "name": "python3"
  },
  "language_info": {
   "codemirror_mode": {
    "name": "ipython",
    "version": 3
   },
   "file_extension": ".py",
   "mimetype": "text/x-python",
   "name": "python",
   "nbconvert_exporter": "python",
   "pygments_lexer": "ipython3",
   "version": "3.10.15"
  },
  "rise": {
   "transition": "none"
  },
  "varInspector": {
   "cols": {
    "lenName": 16,
    "lenType": 16,
    "lenVar": 40
   },
   "kernels_config": {
    "python": {
     "delete_cmd_postfix": "",
     "delete_cmd_prefix": "del ",
     "library": "var_list.py",
     "varRefreshCmd": "print(var_dic_list())"
    },
    "r": {
     "delete_cmd_postfix": ") ",
     "delete_cmd_prefix": "rm(",
     "library": "var_list.r",
     "varRefreshCmd": "cat(var_dic_list()) "
    }
   },
   "types_to_exclude": [
    "module",
    "function",
    "builtin_function_or_method",
    "instance",
    "_Feature"
   ],
   "window_display": false
  }
 },
 "nbformat": 4,
 "nbformat_minor": 4
}
