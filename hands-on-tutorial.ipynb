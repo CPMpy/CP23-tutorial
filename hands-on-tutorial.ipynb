{
 "cells": [
  {
   "cell_type": "code",
   "execution_count": null,
   "metadata": {
    "pycharm": {
     "name": "#%%\n"
    },
    "slideshow": {
     "slide_type": "-"
    }
   },
   "outputs": [],
   "source": [
    "%load_ext autoreload\n",
    "%autoreload 2\n",
    "\"\"\"\n",
    "    Some imports used throughout the notebook\n",
    "\"\"\"\n",
    "import time\n",
    "\n",
    "from visualize import *\n",
    "\n",
    "from cpmpy.transformations.normalize import toplevel_list\n",
    "from factory import *\n",
    "from read_data import get_data\n",
    "\n",
    "import numpy as np\n",
    "np.set_printoptions(linewidth=90)\n",
    "# preload solvers\n",
    "from cpmpy import SolverLookup\n",
    "names = SolverLookup.solvernames()"
   ]
  },
  {
   "cell_type": "markdown",
   "metadata": {
    "pycharm": {
     "name": "#%% md\n"
    },
    "slideshow": {
     "slide_type": "slide"
    }
   },
   "source": [
    "## Explainable Constraint Solving - A Hands-On Tutorial\n",
    "### Ignace Bleukx, Dimos Tsouros, Tias Guns\n",
    "\n",
    "<p>&nbsp;</p>\n",
    "\n",
    "<table><tr style=\"background: white;\">\n",
    "    <td>&nbsp;</td>\n",
    "    <td style=\"text-align: center; vertical-align: middle;\"><img src=\"img/kul.jpg\" width=40%></td>\n",
    "    <td style=\"text-align: center; vertical-align: middle;\"><img src=\"img/erc.jpg\" width=45%></td>\n",
    "</tr></table>\n",
    "\n",
    "<!-- Thanks to Bart Bogaerts, Emilio Gamba and Jo Devriendt -->"
   ]
  },
  {
   "cell_type": "markdown",
   "metadata": {
    "pycharm": {
     "name": "#%% md\n"
    },
    "slideshow": {
     "slide_type": "fragment"
    }
   },
   "source": [
    "\n",
    "<small>Hands-on: this presentation is an executable Jupyter notebook</small>"
   ]
  },
  {
   "cell_type": "markdown",
   "metadata": {
    "pycharm": {
     "name": "#%% md\n"
    },
    "slideshow": {
     "slide_type": "slide"
    }
   },
   "source": [
    "## Model + Solve\n",
    "\n",
    "<center><img src=\"img/model_solve.png\" width=70%></center>"
   ]
  },
  {
   "cell_type": "markdown",
   "metadata": {
    "pycharm": {
     "name": "#%% md\n"
    },
    "slideshow": {
     "slide_type": "fragment"
    }
   },
   "source": [
    "- What if the model is UNSAT?\n",
    "- What if the solution is unexpected?\n",
    "- What if the user wants to change something?"
   ]
  },
  {
   "cell_type": "markdown",
   "metadata": {
    "pycharm": {
     "name": "#%% md\n"
    },
    "slideshow": {
     "slide_type": "fragment"
    }
   },
   "source": [
    "--> Trustworthy & Explainable AI"
   ]
  },
  {
   "cell_type": "markdown",
   "metadata": {
    "pycharm": {
     "name": "#%% md\n"
    },
    "slideshow": {
     "slide_type": "slide"
    }
   },
   "source": [
    "## Trustworthy & Explainable constraint solving\n",
    "\n",
    "Human-aware AI:\n",
    "\n",
    "- Respect human _agency_\n",
    "- _Support_ users in decision making\n",
    "- Provide explanations and learning opportunities"
   ]
  },
  {
   "cell_type": "markdown",
   "metadata": {
    "pycharm": {
     "name": "#%% md\n"
    },
    "slideshow": {
     "slide_type": "fragment"
    }
   },
   "source": [
    "Acknowledges that a 'model' is only an approximation,<br />\n",
    "that it might result in _undesirable_ solutions."
   ]
  },
  {
   "cell_type": "markdown",
   "metadata": {
    "pycharm": {
     "name": "#%% md\n"
    },
    "slideshow": {
     "slide_type": "slide"
    }
   },
   "source": [
    "### Explainable AI (XAI), brief highlights\n",
    "\n",
    "#### D. Gunning, 2015: DARPA XAI challenge\n",
    "\"Every explanation is set within a context that depends...\" <!-- on the task, abilities, and expectations of the user of the AI system.\" --> -> domain dependent\n",
    "\n",
    "#### M. Fox et al, 2017: Explainable Planning\n",
    "\n",
    "Need for trust, interaction and transparancy.\n",
    "\n",
    "#### T. Miller, 2018: Explainable AI: Beware of Inmates Running the Asylum\n",
    "\n",
    "Insights from the social sciences: _Someone_ explains _something_ to _someone_\n",
    "\n",
    "#### R. Guidotti, 2018: A survey of methods for explaining black box ML models\n",
    "\n",
    "The vast majority of work/attention..."
   ]
  },
  {
   "cell_type": "markdown",
   "metadata": {
    "pycharm": {
     "name": "#%% md\n"
    },
    "slideshow": {
     "slide_type": "slide"
    }
   },
   "source": [
    "## 'Explaining' constraint propagation?\n",
    "\n",
    "Concept from Lazy Clause Generation / CP-SAT solvers (Stuckey, 2010)\n",
    "\n",
    "\"every time a propagator determines a domain change of a variable,<br>\n",
    "it records a **clause** that _explains_ the domain change.\"\n",
    "\n",
    "- _someone_: one propagator\n",
    "- _something_: a clause (disjunction of literals)\n",
    "- to _someone_: a SAT solver, not a person\n",
    "\n"
   ]
  },
  {
   "cell_type": "markdown",
   "metadata": {
    "pycharm": {
     "name": "#%% md\n"
    },
    "slideshow": {
     "slide_type": "slide"
    }
   },
   "source": [
    "## Explainable Constraint Programming (XCP)\n",
    "\n",
    "In general, \"**Why X?**\" &nbsp;&nbsp;&nbsp;&nbsp;&nbsp;&nbsp; (with X a solution or UNSAT)\n",
    "\n",
    "To be defined... "
   ]
  },
  {
   "cell_type": "markdown",
   "metadata": {
    "pycharm": {
     "name": "#%% md\n"
    },
    "slideshow": {
     "slide_type": "subslide"
    }
   },
   "source": [
    "## Explainable Constraint Programming (XCP)\n",
    "\n",
    "In general, \"**Why X?**\" &nbsp;&nbsp;&nbsp;&nbsp;&nbsp;&nbsp; (with X a solution or UNSAT)\n",
    "\n",
    "To be defined... 3 patterns:\n",
    "- Causal explanation:\n",
    "  - _How was X derived?_\n",
    "- Contrastive explanation:\n",
    "  - _Why X and not Z?_\n",
    "- Conversational explanation:\n",
    "  - _Iteratively refine explanation & model_\n"
   ]
  },
  {
   "cell_type": "markdown",
   "metadata": {
    "pycharm": {
     "name": "#%% md\n"
    },
    "slideshow": {
     "slide_type": "slide"
    }
   },
   "source": [
    "## Causal explanation, mode of interaction:\n",
    "\n",
    "<center><img src=\"img/interaction_figure4.png\" width=20%></center>"
   ]
  },
  {
   "cell_type": "markdown",
   "metadata": {
    "pycharm": {
     "name": "#%% md\n"
    },
    "slideshow": {
     "slide_type": "fragment"
    }
   },
   "source": [
    "### Then what?"
   ]
  },
  {
   "cell_type": "markdown",
   "metadata": {
    "pycharm": {
     "name": "#%% md\n"
    },
    "slideshow": {
     "slide_type": "slide"
    }
   },
   "source": [
    "### Then what?\n",
    "\n",
    "<img src=\"img/interaction_figure4.png\" width=\"20%\" align=\"left\" style=\"margin:5%;\"/>\n",
    "\n",
    "1. User is happy with the answer <br>\n",
    "    (e.g. better understands the problem)\n",
    "2. User changes the answer and uses that <br>\n",
    "    (solution interaction; no solver involvement)\n",
    "3. User changes the model and reiterates <br>\n",
    "    (e.g. better understands how to model the problem)\n",
    "4. User interacts with interactive system <br>\n",
    "    (e.g. conversational explanations)\n",
    "\n"
   ]
  },
  {
   "cell_type": "markdown",
   "metadata": {
    "slideshow": {
     "slide_type": "slide"
    }
   },
   "source": [
    "## Hands-on Explainable Constraint Programming (XCP)\n",
    "\n",
    "\n",
    "<img src=\"img/interaction_figure4.png\" width=\"20%\" align=\"right\" style=\"margin:50px;\">\n",
    "\n",
    "- **The model**: Nurse Rostering\n",
    "- **The system**: CPMpy modeling library\n",
    "- **Explain UNSAT**:\n",
    "  - Causal explanations (MUS, OUS, sequence)\n",
    "  - Conversational explanations\n",
    "- **Explain a solution**:\n",
    "  - Causal explanations\n",
    "  - Contrastive explanations"
   ]
  },
  {
   "cell_type": "markdown",
   "metadata": {
    "pycharm": {
     "name": "#%% md\n"
    },
    "slideshow": {
     "slide_type": "slide"
    }
   },
   "source": [
    "## The model: Nurse Scheduling\n",
    "\n",
    "<img src=\"img/nurse_rost_prob.jpg\">\n",
    "\n",
    "* The assignment of _shifts_ and _holidays_ to nurses.\n",
    "* Each nurse has their own restrictions and preferences,\n",
    "    as does the hospital.\n",
    "\n"
   ]
  },
  {
   "cell_type": "markdown",
   "metadata": {
    "pycharm": {
     "name": "#%% md\n"
    },
    "slideshow": {
     "slide_type": "slide"
    }
   },
   "source": [
    "## Nurse Rostering: data\n",
    "\n",
    "Instances from http://www.schedulingbenchmarks.org/\n",
    "\n",
    "\"benchmark test instances from various sources including industrial collaborators and scientific publications.\"\n",
    "\n",
    "<!-- 7 types of hospital constraints, 2 types of nurse constraints -->"
   ]
  },
  {
   "cell_type": "code",
   "execution_count": null,
   "metadata": {
    "pycharm": {
     "name": "#%%\n"
    },
    "slideshow": {
     "slide_type": "fragment"
    }
   },
   "outputs": [],
   "source": [
    "#instance = \"http://www.schedulingbenchmarks.org/nrp/data/Instance1.txt\"\n",
    "instance = \"Benchmarks/Instance1.txt\"\n",
    "data = get_data(instance)\n",
    "\n",
    "# all data is stored as DataFrame tables\n",
    "data.staff"
   ]
  },
  {
   "cell_type": "code",
   "execution_count": null,
   "metadata": {
    "pycharm": {
     "name": "#%%\n"
    },
    "slideshow": {
     "slide_type": "subslide"
    }
   },
   "outputs": [],
   "source": [
    "print(\"Nr of days to schedule:\", data.horizon)\n",
    "print(\"Nr of shift types:\", len(data.shifts))\n",
    "\n",
    "pd.merge(data.days_off, data.staff[[\"# ID\",\"name\"]], left_on=\"EmployeeID\", right_on=\"# ID\", how=\"left\")"
   ]
  },
  {
   "cell_type": "markdown",
   "metadata": {
    "pycharm": {
     "name": "#%% md\n"
    },
    "slideshow": {
     "slide_type": "slide"
    }
   },
   "source": [
    "## Nurse Rostering: constraints 1/2\n",
    "\n",
    "### hospital constraints/preferences:\n",
    "\n",
    "<img src=\"img/nurse_rost_prob.jpg\" align=\"right\">\n",
    "\n",
    "* nb of nurses assigned\n",
    "* max nb of shifts\n",
    "* max nb of weekend shifts\n",
    "* min nb of (consecutive) days off\n",
    "* min/max minutes worked\n",
    "* min/max consecutive shifts\n",
    "* shift rotation\n"
   ]
  },
  {
   "cell_type": "markdown",
   "metadata": {
    "slideshow": {
     "slide_type": "subslide"
    }
   },
   "source": [
    "## Nurse Rostering: constraints 2/2\n",
    "\n",
    "### nurse constraints/preferences:\n",
    "\n",
    "<img src=\"img/nurse_rost_prob.jpg\" align=\"right\">\n",
    "\n",
    "* specific days off-duty\n",
    "* specific shift requests (on/off)\n"
   ]
  },
  {
   "cell_type": "markdown",
   "metadata": {
    "pycharm": {
     "name": "#%% md\n"
    },
    "slideshow": {
     "slide_type": "slide"
    }
   },
   "source": [
    "## The system: http://cpmpy.readthedocs.io\n",
    "\n",
    "CPMpy is a Constraint Programming and Modeling library in Python, <br /> based on numpy, with direct solver access. <br /> \n",
    "\n",
    "**Features** used in this tutorial:\n",
    "\n",
    "- Easy integration with visualisation tools (pandas, matplotlib)\n",
    "- Object-oriented programming (constraints are Python objects we can create, copy, update)\n",
    "- Repeatedly solving subsets of constraints (assumption variables)\n",
    "- Incremental solving (e.g. SAT, MIP/Hitting set)\n",
    "\n"
   ]
  },
  {
   "cell_type": "markdown",
   "metadata": {
    "pycharm": {
     "name": "#%% md\n"
    },
    "slideshow": {
     "slide_type": "slide"
    }
   },
   "source": [
    "## Nurse Rostering in CPMpy\n",
    "\n",
    "### Variables: \n",
    "\n",
    "assignment of shift types (_0=none_) to nurses"
   ]
  },
  {
   "cell_type": "code",
   "execution_count": null,
   "metadata": {
    "pycharm": {
     "name": "#%%\n"
    },
    "slideshow": {
     "slide_type": "fragment"
    }
   },
   "outputs": [],
   "source": [
    "nurse_view = cp.intvar(0, len(data.shifts), # lb, ub\n",
    "                       shape=(len(data.staff), data.horizon),\n",
    "                       name=\"nv\")\n",
    "nurse_view"
   ]
  },
  {
   "cell_type": "markdown",
   "metadata": {
    "pycharm": {
     "name": "#%% md\n"
    },
    "slideshow": {
     "slide_type": "subslide"
    }
   },
   "source": [
    "### Constraints:\n",
    "\n",
    "Specific days off-duty"
   ]
  },
  {
   "cell_type": "code",
   "execution_count": null,
   "metadata": {
    "pycharm": {
     "name": "#%%\n"
    },
    "slideshow": {
     "slide_type": "fragment"
    }
   },
   "outputs": [],
   "source": [
    "for (empl_id, row) in data.days_off.iterrows():\n",
    "    empl_idx = data.staff.index[data.staff[\"# ID\"] == empl_id][0]\n",
    "    day_idx = row[\"DayIdx\"]\n",
    "    \n",
    "    con = (nurse_view[empl_idx, day_idx] == 0)\n",
    "    \n",
    "    con.set_description(f\"{data.staff.iloc[empl_idx]['name']} should not work on day {day_idx}\")\n",
    "    print(\"-\",con)"
   ]
  },
  {
   "cell_type": "markdown",
   "metadata": {
    "pycharm": {
     "name": "#%% md\n"
    },
    "slideshow": {
     "slide_type": "subslide"
    }
   },
   "source": [
    "#### Max consecutive shifts constraints:"
   ]
  },
  {
   "cell_type": "code",
   "execution_count": null,
   "metadata": {
    "pycharm": {
     "name": "#%%\n"
    },
    "slideshow": {
     "slide_type": "-"
    }
   },
   "outputs": [],
   "source": [
    "for nurse_id, row in data.staff.iterrows():\n",
    "    max_days = row[\"MaxConsecutiveShifts\"]\n",
    "    \n",
    "    # post on rolling window: in max_days+1 window, at least one day off\n",
    "    k = max_days+1\n",
    "    for i in range(data.horizon - max_days):\n",
    "        con = cp.Count(nurse_view[nurse_id, i:i+k], 0) >= 1\n",
    "        \n",
    "        con.set_description(f\"{row['name']} can work at most {max_days} days in a row\")\n",
    "        print(\"-\",con, \"--\", con.__repr__())"
   ]
  },
  {
   "cell_type": "markdown",
   "metadata": {
    "pycharm": {
     "name": "#%% md\n"
    },
    "slideshow": {
     "slide_type": "slide"
    }
   },
   "source": [
    "## Object-oriented Nurse Rostering CPMpy model factory"
   ]
  },
  {
   "cell_type": "code",
   "execution_count": null,
   "metadata": {
    "pycharm": {
     "name": "#%%\n"
    },
    "slideshow": {
     "slide_type": "-"
    }
   },
   "outputs": [],
   "source": [
    "factory = NurseSchedulingFactory(data)\n",
    "model, nurse_view = factory.get_full_model()  # CPMpy model with all constraints\n",
    "model.solve(solver=\"ortools\")"
   ]
  },
  {
   "cell_type": "code",
   "execution_count": null,
   "metadata": {
    "pycharm": {
     "name": "#%%\n"
    },
    "slideshow": {
     "slide_type": "fragment"
    }
   },
   "outputs": [],
   "source": [
    "nurse_view.value()"
   ]
  },
  {
   "cell_type": "markdown",
   "metadata": {
    "pycharm": {
     "name": "#%% md\n"
    },
    "slideshow": {
     "slide_type": "slide"
    }
   },
   "source": [
    "## Nurse rostering in CPMpy: visualisation, with pandas"
   ]
  },
  {
   "cell_type": "code",
   "execution_count": null,
   "metadata": {
    "slideshow": {
     "slide_type": "-"
    }
   },
   "outputs": [],
   "source": [
    "def visualize(sol, factory):\n",
    "    weeks = [f\"Week {i + 1}\" for i in range(factory.data.horizon // 7)]\n",
    "    weekdays = [\"Mon\", \"Tue\", \"Wed\", \"Thu\", \"Fri\", \"Sat\", \"Sun\"]\n",
    "    nurses = factory.data.staff['name'].tolist()\n",
    "\n",
    "    df = pd.DataFrame(sol,\n",
    "                      columns=pd.MultiIndex.from_product((weeks, weekdays)),\n",
    "                      index=factory.data.staff.name)\n",
    "\n",
    "    mapping = factory.idx_to_name\n",
    "    df = df.map(lambda v: mapping[v] if v is not None and v < len(mapping) else '')  # convert to shift names\n",
    "\n",
    "    for shift_type in factory.shift_name_to_idx:\n",
    "        if shift_type == \"F\":\n",
    "            continue\n",
    "        sums = (df == shift_type).sum()  # cover for each shift type\n",
    "        req = factory.data.cover[\"Requirement\"][factory.data.cover[\"ShiftID\"] == shift_type]\n",
    "        req.index = sums.index\n",
    "        df.loc[f'Cover {shift_type}'] = sums.astype(str) + \"/\" + req.astype(str)\n",
    "    df[\"Total shifts\"] = (df != \"F\").sum(axis=1)  # shifts done by nurse\n",
    "\n",
    "    subset = (df.index.tolist()[:-len(factory.data.shifts)], df.columns[:-1])\n",
    "    style = df.style.set_table_styles([{'selector': '.data', 'props': [('text-align', 'center')]},\n",
    "                                       {'selector': '.col_heading', 'props': [('text-align', 'center')]},\n",
    "                                       {'selector': '.col7', 'props': [('border-left',\"2px solid black\")]}])\n",
    "    style = style.map(lambda v: 'border: 1px solid black', subset=subset)\n",
    "    style = style.map(color_shift, factory=factory, subset=subset)  # color cells\n",
    "    return style\n",
    "\n",
    "from visualize import *"
   ]
  },
  {
   "cell_type": "markdown",
   "metadata": {
    "slideshow": {
     "slide_type": "subslide"
    }
   },
   "source": [
    "## Nurse rostering in CPMpy: visualisation, with pandas"
   ]
  },
  {
   "cell_type": "code",
   "execution_count": null,
   "metadata": {
    "pycharm": {
     "name": "#%%\n"
    },
    "slideshow": {
     "slide_type": "-"
    }
   },
   "outputs": [],
   "source": [
    "visualize(nurse_view.value(), factory)"
   ]
  },
  {
   "cell_type": "markdown",
   "metadata": {
    "pycharm": {
     "name": "#%% md\n"
    },
    "slideshow": {
     "slide_type": "slide"
    }
   },
   "source": [
    "## Hands-on Explainable Constraint Programming (XCP)\n",
    "\n",
    "\n",
    "<img src=\"img/interaction_figure4.png\" width=\"20%\" align=\"right\" style=\"margin:50px;\">\n",
    "\n",
    "- The model: Nurse Rostering\n",
    "- The system: CPMpy modeling library\n",
    "- **Explain UNSAT**:\n",
    "  - Causal explanations (MUS, OUS, sequence)\n",
    "  - Conversational explanations\n",
    "- Explain a solution:\n",
    "  - Causal explanations\n",
    "  - Contrastive explanations"
   ]
  },
  {
   "cell_type": "markdown",
   "metadata": {
    "pycharm": {
     "name": "#%% md\n"
    },
    "slideshow": {
     "slide_type": "slide"
    }
   },
   "source": [
    "## Minimal Unsatisfiable Subsets (MUS)\n",
    "\n",
    "\n",
    "<img src=\"img/explain_unsat.png\" width=\"15%\" align=\"left\" style=\"margin:50px;\">\n",
    "\n",
    "* Model nurse rostering problem as decision problem <br>\n",
    "    (no objective)\n",
    "        \n",
    "* Nurse **preferences** are also hard constraints"
   ]
  },
  {
   "cell_type": "code",
   "execution_count": null,
   "metadata": {
    "pycharm": {
     "name": "#%%\n"
    },
    "slideshow": {
     "slide_type": "fragment"
    }
   },
   "outputs": [],
   "source": [
    "# model as decision model\n",
    "factory = NurseSchedulingFactory(data)\n",
    "model, nurse_view = factory.get_decision_model()  # CMPpy DECISION Model\n",
    "model.solve()"
   ]
  },
  {
   "cell_type": "markdown",
   "metadata": {
    "pycharm": {
     "name": "#%% md\n"
    },
    "slideshow": {
     "slide_type": "fragment"
    }
   },
   "source": [
    "... no solution found"
   ]
  },
  {
   "cell_type": "code",
   "execution_count": null,
   "metadata": {
    "pycharm": {
     "name": "#%%\n"
    },
    "slideshow": {
     "slide_type": "slide"
    }
   },
   "outputs": [],
   "source": [
    "constraints = toplevel_list(model.constraints, merge_and=False) # normalization for later\n",
    "print(f\"Model has {len(constraints)} constraints:\")\n",
    "for cons in constraints: print(\"-\", cons)"
   ]
  },
  {
   "cell_type": "markdown",
   "metadata": {
    "pycharm": {
     "name": "#%% md\n"
    },
    "slideshow": {
     "slide_type": "slide"
    }
   },
   "source": [
    "\n",
    "\n",
    "<img src=\"img/mus.png\" width=\"20%\" align=\"left\" style=\"margin:50px;\">\n",
    "\n",
    "Trim model to minimal set of constraints\n",
    "\n",
    "... minimize cognitive burden for user\n"
   ]
  },
  {
   "cell_type": "markdown",
   "metadata": {
    "pycharm": {
     "name": "#%% md\n"
    },
    "slideshow": {
     "slide_type": "slide"
    }
   },
   "source": [
    "### How to compute a MUS?\n",
    "\n",
    "Deletion-based MUS algorithm\n",
    "\n",
    "_[Joao Marques-Silva. Minimal Unsatisfiability: Models, Algorithms and Applications. ISMVL 2010. pp. 9-14]_"
   ]
  },
  {
   "cell_type": "code",
   "execution_count": null,
   "metadata": {
    "pycharm": {
     "name": "#%%\n"
    },
    "slideshow": {
     "slide_type": "fragment"
    }
   },
   "outputs": [],
   "source": [
    "def mus_naive(constraints):\n",
    "    m = cp.Model(constraints)\n",
    "    assert m.solve() is False, \"Model should be UNSAT\"\n",
    "    \n",
    "    core = constraints\n",
    "    i = 0\n",
    "    while i < len(core):\n",
    "        subcore = core[:i] + core[i+1:]\n",
    "        if cp.Model(subcore).solve():\n",
    "            i += 1 # removing makes it SAT, need to keep\n",
    "        else:\n",
    "            core = subcore # can safely delete \n",
    "    return core"
   ]
  },
  {
   "cell_type": "markdown",
   "metadata": {
    "pycharm": {
     "name": "#%% md\n"
    },
    "slideshow": {
     "slide_type": "slide"
    }
   },
   "source": [
    "### How to compute a MUS?\n",
    "\n",
    "CPMpy implements an incremental version of this, using assumption variables\n",
    "\n",
    "* `cpmpy.tools.mus`"
   ]
  },
  {
   "cell_type": "code",
   "execution_count": null,
   "metadata": {
    "pycharm": {
     "name": "#%%\n"
    },
    "slideshow": {
     "slide_type": "fragment"
    }
   },
   "outputs": [],
   "source": [
    "from cpmpy.tools.mus import mus\n",
    "\n",
    "solver = \"ortools\"\n",
    "subset = mus(model.constraints, solver=solver) \n",
    "\n",
    "print(\"Length of MUS:\", len(subset))\n",
    "for cons in subset: print(\"-\", cons)"
   ]
  },
  {
   "cell_type": "code",
   "execution_count": null,
   "metadata": {
    "pycharm": {
     "name": "#%%\n"
    },
    "slideshow": {
     "slide_type": "subslide"
    }
   },
   "outputs": [],
   "source": [
    "visualize_constraints(subset, nurse_view, factory)"
   ]
  },
  {
   "cell_type": "markdown",
   "metadata": {
    "pycharm": {
     "name": "#%%\n"
    },
    "slideshow": {
     "slide_type": "slide"
    }
   },
   "source": [
    "### Many MUS'es may exist...\n",
    "\n",
    "_Liffiton, M.H., & Malik, A. (2013). Enumerating infeasibility: Finding multiple MUSes quickly. In\n",
    "Proceedings of the 10th International Conference on Integration of AI and OR Techniques in Constraint\n",
    "    Programming (CPAIOR 2013) (pp. 160–175)_"
   ]
  },
  {
   "cell_type": "code",
   "execution_count": null,
   "metadata": {
    "pycharm": {
     "name": "#%%\n"
    },
    "slideshow": {
     "slide_type": "fragment"
    }
   },
   "outputs": [],
   "source": [
    "# MARCO MUS/MSS enumeration\n",
    "from explanations.marco_mcs_mus import do_marco\n",
    "solver = \"ortools\"  # default solver\n",
    "if \"exact\" in cp.SolverLookup.solvernames(): solver = \"exact\"  # fast for increment solving\n",
    "    \n",
    "t0 = time.time()\n",
    "cnt = 0\n",
    "for (kind, sset) in do_marco(model, solver=solver):\n",
    "    if kind == \"MUS\":\n",
    "        print(\"M\", end=\"\")\n",
    "        cnt += 1\n",
    "    else: print(\".\", end=\"\") # MSS\n",
    "    \n",
    "    if time.time() - t0 > 20:  break  # for tutorial: break after 20s\n",
    "print(f\"\\nFound {cnt} MUSes in\", time.time() - t0)\n"
   ]
  },
  {
   "cell_type": "markdown",
   "metadata": {
    "pycharm": {
     "name": "#%%\n"
    },
    "slideshow": {
     "slide_type": "slide"
    }
   },
   "source": [
    "### Many MUS'es may exist...\n",
    "\n",
    "<img src=\"img/musses.png\" width=\"40%\" align=\"left\" style=\"margin-left:50px; margin-right:50px\">\n",
    "\n",
    "This problem has just 168 constraints, yet 100.000+ MUSes exist...\n",
    "\n",
    "Which one to show? \n",
    "\n",
    "In explanations less is more, so lets find the **smallest one directly!**"
   ]
  },
  {
   "cell_type": "markdown",
   "metadata": {
    "pycharm": {
     "name": "#%% md\n"
    },
    "slideshow": {
     "slide_type": "slide"
    }
   },
   "source": [
    "### Correction subsets and MUS'es\n",
    "\n",
    "\n",
    "\n",
    "<table><tr>\n",
    "    <td width=10%>\n",
    "        <center><img width=50% src=\"img/mus.png\" /></center>\n",
    "    </td>\n",
    "    <td width=10%>\n",
    "        <center><img width=50% src=\"img/mcs.png\" /></center>\n",
    "    </td> \n",
    "</tr></table>\n"
   ]
  },
  {
   "cell_type": "markdown",
   "metadata": {
    "pycharm": {
     "name": "#%% md\n"
    },
    "slideshow": {
     "slide_type": "slide"
    }
   },
   "source": [
    "### Hitting set duality\n",
    "\n",
    "<table><tr>\n",
    "    <td width=10%>\n",
    "        <center><img width=60% src=\"img/mus.png\" /></center>\n",
    "    </td>\n",
    "    <td width=10%>\n",
    "        <center><img width=60% src=\"img/hittingset.png\" /></center>\n",
    "    <td width=10%>\n",
    "        <center><img width=60% src=\"img/mcs.png\" /></center>\n",
    "    </td> \n",
    "</tr></table>\n",
    "\n",
    "Given all correction subsets, smallest minimal unsatisfiable subset = smallest hitting set to MCS'es\n",
    "\n",
    "Enumerating all correction subsets is also expensive...\n",
    "\n",
    "Compute the **smallest** incrementally!"
   ]
  },
  {
   "cell_type": "markdown",
   "metadata": {
    "pycharm": {
     "name": "#%% md\n"
    },
    "slideshow": {
     "slide_type": "slide"
    }
   },
   "source": [
    "### How to calculate a Smallest MUS (sMUS)?\n",
    "\n",
    "1. Initialize sets-to-hit $\\mathcal{H}$ (e.g. insert set of all constraints)\n",
    "2. Find *smallest* hitting set $S$ and check if SAT\n",
    "3. If SAT: take complement of $S$ and add this correction subset $K$ to sets-to-hit $\\mathcal{H}$\n",
    "    <br> _Optionally_: shrink $K$ to smaller correction subset\n",
    "4. Repeat until $S$ is UNSAT: smallest unsatisfiable subset found\n",
    "\n",
    "<center><img src=\"img/smus.png\" width=60% /></center>"
   ]
  },
  {
   "cell_type": "code",
   "execution_count": null,
   "metadata": {
    "pycharm": {
     "name": "#%%\n"
    },
    "slideshow": {
     "slide_type": "slide"
    }
   },
   "outputs": [],
   "source": [
    "from explanations.subset import smus\n",
    "\n",
    "small_subset = smus(model.constraints, solver=\"ortools\", hs_solver=\"gurobi\")\n",
    "\n",
    "print(\"Length of sMUS:\", len(small_subset))\n",
    "for cons in small_subset:  \n",
    "    print(\"-\", cons)"
   ]
  },
  {
   "cell_type": "code",
   "execution_count": null,
   "metadata": {
    "pycharm": {
     "name": "#%%\n"
    },
    "slideshow": {
     "slide_type": "subslide"
    }
   },
   "outputs": [],
   "source": [
    "visualize_constraints(small_subset, nurse_view, factory)"
   ]
  },
  {
   "cell_type": "markdown",
   "metadata": {
    "pycharm": {
     "name": "#%% md\n"
    },
    "slideshow": {
     "slide_type": "slide"
    }
   },
   "source": [
    "## Step-wise explanation\n",
    "\n",
    "<img src=\"img/explain_step-wise.png\" width=\"20%\" align=\"right\" style=\"margin:50px;\">\n",
    "\n",
    "- We were lucky, the SMUS is pretty understandable\n",
    "- What if its not?\n",
    "- Disect MUS into smaller steps <br>\n",
    "  -> Step-wise Explanations\n"
   ]
  },
  {
   "cell_type": "markdown",
   "metadata": {
    "slideshow": {
     "slide_type": "-"
    }
   },
   "source": [
    "> Ignace Bleukx, Jo Devriendt, Emilio Gamba, Bart Bogaerts, Tias Guns. Simplifying Step-wise Explanation Sequences. 29th International Conference on Principles and Practice of Constraint Programming (CP23), 2023."
   ]
  },
  {
   "cell_type": "markdown",
   "metadata": {
    "slideshow": {
     "slide_type": "slide"
    }
   },
   "source": [
    "### Any MUS"
   ]
  },
  {
   "cell_type": "code",
   "execution_count": null,
   "metadata": {
    "pycharm": {
     "name": "#%%\n"
    },
    "slideshow": {
     "slide_type": "-"
    }
   },
   "outputs": [],
   "source": [
    "subset = mus(model.constraints)\n",
    "\n",
    "visualize_constraints(subset, nurse_view, factory)"
   ]
  },
  {
   "cell_type": "markdown",
   "metadata": {
    "slideshow": {
     "slide_type": "slide"
    }
   },
   "source": [
    "### Let's find a sequence of step-wise explanations of this MUS"
   ]
  },
  {
   "cell_type": "code",
   "execution_count": null,
   "metadata": {
    "pycharm": {
     "name": "#%%\n"
    },
    "slideshow": {
     "slide_type": "fragment"
    }
   },
   "outputs": [],
   "source": [
    "from explanations.stepwise import find_sequence\n",
    "\n",
    "seq = find_sequence(subset)"
   ]
  },
  {
   "cell_type": "code",
   "execution_count": null,
   "metadata": {
    "pycharm": {
     "name": "#%%\n"
    },
    "slideshow": {
     "slide_type": "fragment"
    }
   },
   "outputs": [],
   "source": [
    "nurse_view.clear()\n",
    "visualize_step(seq[0], nurse_view, factory)"
   ]
  },
  {
   "cell_type": "code",
   "execution_count": null,
   "metadata": {
    "pycharm": {
     "name": "#%%\n"
    },
    "slideshow": {
     "slide_type": "subslide"
    }
   },
   "outputs": [],
   "source": [
    "visualize_step(seq[1], nurse_view, factory)"
   ]
  },
  {
   "cell_type": "code",
   "execution_count": null,
   "metadata": {
    "pycharm": {
     "name": "#%%\n"
    },
    "slideshow": {
     "slide_type": "subslide"
    }
   },
   "outputs": [],
   "source": [
    "visualize_step(seq[2], nurse_view, factory)"
   ]
  },
  {
   "cell_type": "code",
   "execution_count": null,
   "metadata": {
    "pycharm": {
     "name": "#%%\n"
    },
    "slideshow": {
     "slide_type": "subslide"
    }
   },
   "outputs": [],
   "source": [
    "visualize_step(seq[3], nurse_view, factory)"
   ]
  },
  {
   "cell_type": "code",
   "execution_count": null,
   "metadata": {
    "pycharm": {
     "name": "#%%\n"
    },
    "slideshow": {
     "slide_type": "subslide"
    }
   },
   "outputs": [],
   "source": [
    "visualize_step(seq[4], nurse_view, factory)"
   ]
  },
  {
   "cell_type": "code",
   "execution_count": null,
   "metadata": {
    "pycharm": {
     "name": "#%%\n"
    },
    "slideshow": {
     "slide_type": "subslide"
    }
   },
   "outputs": [],
   "source": [
    "visualize_step(seq[5], nurse_view, factory)"
   ]
  },
  {
   "cell_type": "code",
   "execution_count": null,
   "metadata": {
    "pycharm": {
     "name": "#%%\n"
    },
    "slideshow": {
     "slide_type": "subslide"
    }
   },
   "outputs": [],
   "source": [
    "visualize_step(seq[6], nurse_view, factory)"
   ]
  },
  {
   "cell_type": "code",
   "execution_count": null,
   "metadata": {
    "pycharm": {
     "name": "#%%\n"
    },
    "slideshow": {
     "slide_type": "subslide"
    }
   },
   "outputs": [],
   "source": [
    "visualize_step(seq[7], nurse_view, factory)"
   ]
  },
  {
   "cell_type": "code",
   "execution_count": null,
   "metadata": {
    "pycharm": {
     "name": "#%%\n"
    },
    "slideshow": {
     "slide_type": "subslide"
    }
   },
   "outputs": [],
   "source": [
    "visualize_step(seq[8], nurse_view, factory)"
   ]
  },
  {
   "cell_type": "code",
   "execution_count": null,
   "metadata": {
    "pycharm": {
     "name": "#%%\n"
    },
    "slideshow": {
     "slide_type": "subslide"
    }
   },
   "outputs": [],
   "source": [
    "visualize_step(seq[9], nurse_view, factory)"
   ]
  },
  {
   "cell_type": "code",
   "execution_count": null,
   "metadata": {
    "pycharm": {
     "name": "#%%\n"
    },
    "slideshow": {
     "slide_type": "subslide"
    }
   },
   "outputs": [],
   "source": [
    "visualize_step(seq[10], nurse_view, factory)"
   ]
  },
  {
   "cell_type": "markdown",
   "metadata": {
    "slideshow": {
     "slide_type": "slide"
    }
   },
   "source": [
    "## Prefered MUS\n",
    "\n",
    "Some uses may be looking for a specific conflict, such as ones avoiding changes in vacation days for nurses\n",
    "\n",
    "Using QuickXplain, we can find such prefered MUS\n",
    "\n",
    "> Junker, Ulrich. \"Preferred explanations and relaxations for over-constrained problems.\" AAAI-2004. 2004."
   ]
  },
  {
   "cell_type": "code",
   "execution_count": null,
   "metadata": {
    "slideshow": {
     "slide_type": "subslide"
    }
   },
   "outputs": [],
   "source": [
    "def define_order(cons):\n",
    "    if \"day off\" in str(cons):\n",
    "        return 100 # we do not want to mess with vacation days\n",
    "    return 10 # else\n",
    "\n",
    "constraints = toplevel_list(model.constraints, merge_and=False)\n",
    "constraints = sorted(constraints, key=define_order)\n",
    "\n",
    "# find core with quickXplain\n",
    "from cpmpy.tools.mus import quickxplain\n",
    "\n",
    "prefered_subset = quickxplain(constraints, solver=\"ortools\")\n",
    "for cons in prefered_subset: print(\"-\",cons)\n",
    "    \n",
    "visualize_constraints(prefered_subset, nurse_view, factory)"
   ]
  },
  {
   "cell_type": "markdown",
   "metadata": {
    "pycharm": {
     "name": "#%% md\n"
    },
    "slideshow": {
     "slide_type": "slide"
    }
   },
   "source": [
    "## Hands-on Explainable Constraint Programming (XCP)\n",
    "\n",
    "\n",
    "<img src=\"img/interaction_figure4.png\" width=\"20%\" align=\"right\" style=\"margin:50px;\">\n",
    "\n",
    "- The model: Nurse Rostering\n",
    "- The system: CPMpy modeling library\n",
    "- Explain UNSAT:\n",
    "  - Causal explanations (MUS, OUS, sequence)\n",
    "  - **Conversational explanations**\n",
    "- Explain a solution:\n",
    "  - Causal explanations\n",
    "  - Contrastive explanations"
   ]
  },
  {
   "cell_type": "markdown",
   "metadata": {
    "pycharm": {
     "name": "#%% md\n"
    },
    "slideshow": {
     "slide_type": "slide"
    }
   },
   "source": [
    "## Fixing UNSAT Models\n",
    "\n",
    "\n",
    "<img src=\"img/fixing_mcs.png\" width=\"20%\" align=\"left\" style=\"margin:50px;\">\n",
    "\n",
    "How to **change the model**, in order to find a solution?\n",
    "\n",
    "First idea:\n",
    "\n",
    "find subset of _soft constraints_ to keep <br> \n",
    "= <br>\n",
    "find constraints to be **removed**, e.g. remove a correction subset! "
   ]
  },
  {
   "cell_type": "markdown",
   "metadata": {
    "pycharm": {
     "name": "#%% md\n"
    },
    "slideshow": {
     "slide_type": "slide"
    }
   },
   "source": [
    "### How to compute a Minimum Correction Subset of an UNSAT problem?\n",
    "\n",
    "<img src=\"img/mcs.png\" width=\"20%\" align=\"left\" style=\"margin:50px;\">\n",
    "\n",
    "\n",
    "Approach 1: grow-based MCS/MSS\n",
    "\n",
    "Iterate over constraints and partition"
   ]
  },
  {
   "cell_type": "code",
   "execution_count": null,
   "metadata": {
    "pycharm": {
     "name": "#%%\n"
    },
    "slideshow": {
     "slide_type": "fragment"
    }
   },
   "outputs": [],
   "source": [
    "def mcs_naive(constraints):\n",
    "    mss = []  # grow a satisfiable subset one-by-one\n",
    "    mcs = []  # everything else is in the minimum conflict set\n",
    "    \n",
    "    for cons in constraints:\n",
    "        if cp.Model(mss + [cons]).solve():\n",
    "            mss.append(cons)  # adding it remains SAT\n",
    "        else:\n",
    "            mcs.append(cons)  # UNSAT, causes conflict\n",
    "    \n",
    "    return mcs"
   ]
  },
  {
   "cell_type": "code",
   "execution_count": null,
   "metadata": {
    "pycharm": {
     "name": "#%%\n"
    },
    "slideshow": {
     "slide_type": "slide"
    }
   },
   "outputs": [],
   "source": [
    "from explanations.subset import mcs  # using assumption variables\n",
    "\n",
    "corr_subset = mcs(model.constraints)\n",
    "\n",
    "print(\"By removing these constraints, the model becomes SAT:\")\n",
    "for cons in corr_subset: print(\"-\",cons)\n",
    "    \n",
    "visualize_constraints(corr_subset, nurse_view, factory)"
   ]
  },
  {
   "cell_type": "code",
   "execution_count": null,
   "metadata": {
    "pycharm": {
     "name": "#%%\n"
    },
    "slideshow": {
     "slide_type": "subslide"
    }
   },
   "outputs": [],
   "source": [
    "mss = set(toplevel_list(model.constraints, merge_and=False)) - set(corr_subset)\n",
    "        \n",
    "corrected_model = cp.Model(list(mss))\n",
    "assert corrected_model.solve()\n",
    "\n",
    "visualize(nurse_view.value(), factory)"
   ]
  },
  {
   "cell_type": "markdown",
   "metadata": {
    "pycharm": {
     "name": "#%% md\n"
    },
    "slideshow": {
     "slide_type": "slide"
    }
   },
   "source": [
    "### How to compute a Minimum Correction Subset of an UNSAT problem?\n",
    "\n",
    "Approach 2: Max-CSP\n",
    "\n",
    "<img src=\"img/mcs.png\" width=\"20%\" align=\"left\" style=\"margin:50px;\">\n",
    "\n",
    "MAX-CSP problem, maximize number of satisfied constraints\n",
    "\n",
    "Maximize sum of truth-value of consrtaints\n",
    "\n",
    "=> Finds largest MSS = complement of cardinality-minimal MCS!"
   ]
  },
  {
   "cell_type": "code",
   "execution_count": null,
   "metadata": {
    "slideshow": {
     "slide_type": "fragment"
    }
   },
   "outputs": [],
   "source": [
    "def partition_csp(constraints):\n",
    "    \n",
    "    ind = cp.boolvar(shape=len(constraints))  # Boolean indicator variable for each constraint\n",
    "    \n",
    "    maxsat_model = cp.Model(ind.implies(constraints))  # add reified constraints\n",
    "    maxsat_model.maximize(cp.sum(ind))  # find largest MSS = smallest MCS\n",
    "    \n",
    "    assert maxsat_model.solve()\n",
    "    \n",
    "    mss = [c for a,c in zip(ind, constraints) if a.value() is True]\n",
    "    mcs = [c for a,c in zip(ind, constraints) if a.value() is False]\n",
    "    \n",
    "    return mss, mcs"
   ]
  },
  {
   "cell_type": "code",
   "execution_count": null,
   "metadata": {
    "pycharm": {
     "name": "#%%\n"
    },
    "slideshow": {
     "slide_type": "slide"
    }
   },
   "outputs": [],
   "source": [
    "mss, mcs = partition_csp(constraints)\n",
    "\n",
    "print(\"By removing these constraints, the model becomes SAT:\")\n",
    "for cons in mcs: print(\"-\",cons)\n",
    "    \n",
    "visualize_constraints(mcs, nurse_view, factory)"
   ]
  },
  {
   "cell_type": "markdown",
   "metadata": {
    "slideshow": {
     "slide_type": "subslide"
    }
   },
   "source": [
    "What does the corrected model look like?"
   ]
  },
  {
   "cell_type": "code",
   "execution_count": null,
   "metadata": {
    "pycharm": {
     "name": "#%% md\n"
    },
    "slideshow": {
     "slide_type": "-"
    }
   },
   "outputs": [],
   "source": [
    "corrected_model = cp.Model(list(mss))\n",
    "assert corrected_model.solve()\n",
    "\n",
    "visualize(nurse_view.value(), factory)"
   ]
  },
  {
   "cell_type": "markdown",
   "metadata": {
    "slideshow": {
     "slide_type": "fragment"
    }
   },
   "source": [
    "Unsatisfied constraints can be interpreted as _penalty_ of solution\n",
    "\n",
    " => Max-CSP solution minimizes penalty\n",
    "\n",
    "Weighted version allows for fine grained control over penalties!\n",
    " \n",
    " => Optimal MSS instead of cardinality-maximal one"
   ]
  },
  {
   "cell_type": "markdown",
   "metadata": {
    "pycharm": {
     "name": "#%% md\n"
    },
    "slideshow": {
     "slide_type": "slide"
    }
   },
   "source": [
    "## Fixing UNSAT Models\n",
    "\n",
    "_Removing_ constraints from the model is drastic...\n",
    "\n",
    "In the previous solution, no nurses on Sunday? What if you break your leg that day?\n",
    "\n",
    "<br>\n",
    "\n",
    "<img src=\"img/fixing_mcs.png\" width=\"20%\" align=\"right\" style=\"margin:50px;\">\n",
    "\n",
    "Second idea:\n",
    "\n",
    "Slightly **violate** constraints which allows for **relaxation** of constraints\n",
    "\n",
    "E.g. **feasbility restoration** by modifying rather then removing constraints"
   ]
  },
  {
   "cell_type": "markdown",
   "metadata": {
    "pycharm": {
     "name": "#%% md\n"
    },
    "slideshow": {
     "slide_type": "subslide"
    }
   },
   "source": [
    "### Relaxation of constraints\n",
    "\n",
    "<img src=\"img/slack.png\" width=\"20%\" align=\"left\" style=\"margin:20px;\">\n",
    "\n",
    "* Boolean constraints can only be turned on/off\n",
    "* Numerical constraints can be __violated__ to some extend\n",
    "* Introduce slack for each numerical constraint\n",
    "* Slack indicates how much a constraint may be violated\n",
    "   - = fine grained penalty of solution!\n",
    "* Minimize _max_ and _sum_ of slack values"
   ]
  },
  {
   "cell_type": "markdown",
   "metadata": {
    "pycharm": {
     "name": "#%% md\n"
    },
    "slideshow": {
     "slide_type": "-"
    }
   },
   "source": [
    "> Senthooran I, Klapperstueck M, Belov G, Czauderna T, Leo K, Wallace M, Wybrow M, Garcia de la Banda M. Human-centred feasibility restoration in practice. Constraints. 2023 Jul 20:1-41."
   ]
  },
  {
   "cell_type": "markdown",
   "metadata": {
    "slideshow": {
     "slide_type": "subslide"
    }
   },
   "source": [
    "### Relaxation of constraints\n",
    "\n",
    "<img src=\"img/slack.png\" width=\"20%\" align=\"left\" style=\"margin:20px;\">\n",
    "\n",
    "E.g., allow violation of _cover constraints_ <br>\n",
    "    --> Allow shifts to be slightly under/overstaffed"
   ]
  },
  {
   "cell_type": "code",
   "execution_count": null,
   "metadata": {
    "pycharm": {
     "name": "#%%\n"
    },
    "slideshow": {
     "slide_type": "fragment"
    }
   },
   "outputs": [],
   "source": [
    "slack_model, slack_nurse_view, slack_under, slack_over = factory.get_slack_model()  # CMPpy Model\n",
    "\n",
    "for _, cover in factory.data.cover.iterrows():\n",
    "    # read the data\n",
    "    day = cover[\"# Day\"]\n",
    "    shift = factory.shift_name_to_idx[cover[\"ShiftID\"]]\n",
    "    requirement = cover[\"Requirement\"]\n",
    "    \n",
    "    nb_nurses = cp.Count(nurse_view[:, day], shift)\n",
    "    expr = nb_nurses == requirement - slack_under[day] + slack_over[day]"
   ]
  },
  {
   "cell_type": "markdown",
   "metadata": {
    "slideshow": {
     "slide_type": "subslide"
    }
   },
   "source": [
    "#### Minimize global violation"
   ]
  },
  {
   "cell_type": "code",
   "execution_count": null,
   "metadata": {
    "slideshow": {
     "slide_type": "-"
    }
   },
   "outputs": [],
   "source": [
    "slack_model, slack_nurse_view, slack_under, slack_over = factory.get_slack_model()  # CMPpy Model\n",
    "slack = cp.cpm_array(np.append(slack_under, slack_over))"
   ]
  },
  {
   "cell_type": "code",
   "execution_count": null,
   "metadata": {
    "pycharm": {
     "name": "#%%\n"
    },
    "slideshow": {
     "slide_type": "fragment"
    }
   },
   "outputs": [],
   "source": [
    "slack_model.minimize(cp.sum(slack)) # minimize global violation\n",
    "\n",
    "assert slack_model.solve()\n",
    "style = visualize(slack_nurse_view.value(), factory, highlight_cover=True)\n",
    "style.data.loc[\"Slack under\"] = list(slack_under.value()) + [\" \"]\n",
    "style.data.loc[\"Slack over\"] = list(slack_over.value()) + [\" \"]\n",
    "display(style)"
   ]
  },
  {
   "cell_type": "markdown",
   "metadata": {
    "slideshow": {
     "slide_type": "subslide"
    }
   },
   "source": [
    "#### Minimize maximum violation"
   ]
  },
  {
   "cell_type": "code",
   "execution_count": null,
   "metadata": {
    "slideshow": {
     "slide_type": "-"
    }
   },
   "outputs": [],
   "source": [
    "slack_model.minimize(cp.max(slack)) # minimize max violation\n",
    " \n",
    "assert slack_model.solve()\n",
    "style = visualize(slack_nurse_view.value(), factory, highlight_cover=True)\n",
    "style.data.loc[\"Slack under\"] = list(slack_under.value()) + [\" \"]\n",
    "style.data.loc[\"Slack over\"] = list(slack_over.value()) + [\" \"]\n",
    "display(style)"
   ]
  },
  {
   "cell_type": "markdown",
   "metadata": {
    "slideshow": {
     "slide_type": "subslide"
    }
   },
   "source": [
    "#### Minimize nb of violated constraints"
   ]
  },
  {
   "cell_type": "code",
   "execution_count": null,
   "metadata": {
    "slideshow": {
     "slide_type": "-"
    }
   },
   "outputs": [],
   "source": [
    "slack_model.minimize(cp.sum(slack != 0)) # minimize nb of violated constraints\n",
    " \n",
    "assert slack_model.solve()\n",
    "style = visualize(slack_nurse_view.value(), factory, highlight_cover=True)\n",
    "style.data.loc[\"Slack under\"] = list(slack_under.value()) + [\" \"]\n",
    "style.data.loc[\"Slack over\"] = list(slack_over.value()) + [\" \"]\n",
    "display(style)"
   ]
  },
  {
   "cell_type": "markdown",
   "metadata": {
    "slideshow": {
     "slide_type": "subslide"
    }
   },
   "source": [
    "#### Or minimize any combination"
   ]
  },
  {
   "cell_type": "code",
   "execution_count": null,
   "metadata": {
    "slideshow": {
     "slide_type": "-"
    }
   },
   "outputs": [],
   "source": [
    "obj1 = cp.max(slack)       # minimize max violation\n",
    "obj2 = cp.sum(slack != 0)  # minimize nb of violations\n",
    "obj3 = cp.sum(slack)       # minimize global violation\n",
    "\n",
    "slack_model.minimize(10000 * obj1 + 1000 * obj2 + obj3) # multi-objective optimization\n",
    "\n",
    "assert slack_model.solve()\n",
    "style = visualize(slack_nurse_view.value(), factory, highlight_cover=True)\n",
    "style.data.loc[\"Slack under\"] = list(slack_under.value()) + [\" \"]\n",
    "style.data.loc[\"Slack over\"] = list(slack_over.value()) + [\" \"]\n",
    "display(style)"
   ]
  },
  {
   "cell_type": "markdown",
   "metadata": {
    "pycharm": {
     "name": "#%% md\n"
    },
    "slideshow": {
     "slide_type": "slide"
    }
   },
   "source": [
    "## Reformulation as Optimization problem\n",
    "\n",
    "- Using hard constraints and soft constraints\n",
    "    - Put fine grained penalty on violation of _soft constraints_\n",
    "- Preferences modeled as soft constraints, and minimize **penalty of unsatisfied preferences**"
   ]
  },
  {
   "cell_type": "code",
   "execution_count": null,
   "metadata": {
    "pycharm": {
     "name": "#%%\n"
    },
    "slideshow": {
     "slide_type": "slide"
    }
   },
   "outputs": [],
   "source": [
    "model, nurse_view = factory.get_full_model()\n",
    "assert model.solve()\n",
    "\n",
    "opt_sol = nurse_view.value()\n",
    "display(visualize(opt_sol, factory))\n",
    "print(\"Total penalty:\", model.objective_value())\n",
    "print(\"Time to calculate:\", model.status().runtime, \"s\")"
   ]
  },
  {
   "cell_type": "markdown",
   "metadata": {
    "pycharm": {
     "name": "#%% md\n"
    },
    "slideshow": {
     "slide_type": "slide"
    }
   },
   "source": [
    "## Hands-on Explainable Constraint Programming (XCP)\n",
    "\n",
    "\n",
    "<img src=\"img/interaction_figure4.png\" width=\"20%\" align=\"right\" style=\"margin:50px;\">\n",
    "\n",
    "- The model: Nurse Rostering\n",
    "- The system: CPMpy modeling library\n",
    "- Explain UNSAT:\n",
    "  - Causal explanations (MUS, OUS, sequence)\n",
    "  - Conversational explanations\n",
    "- **Explain a solution:**\n",
    "  - Causal explanations\n",
    "  - Contrastive explanations"
   ]
  },
  {
   "cell_type": "markdown",
   "metadata": {
    "slideshow": {
     "slide_type": "slide"
    }
   },
   "source": [
    "## Reformulation as Optimization problem\n",
    "\n",
    "- Using hard constraints and soft constraints\n",
    "    - Put fine grained penalty on violation of _soft constraints_\n",
    "- Preferences modeled as soft constraints, and minimize **penalty of unsatisfied preferences**"
   ]
  },
  {
   "cell_type": "code",
   "execution_count": null,
   "metadata": {
    "slideshow": {
     "slide_type": "fragment"
    }
   },
   "outputs": [],
   "source": [
    "model, nurse_view = factory.get_full_model()\n",
    "assert model.solve()\n",
    "\n",
    "opt_sol = nurse_view.value()\n",
    "display(visualize(opt_sol, factory))\n",
    "print(\"Total penalty:\", model.objective_value())\n",
    "print(\"Time to calculate:\", model.status().runtime, \"s\")"
   ]
  },
  {
   "cell_type": "markdown",
   "metadata": {
    "pycharm": {
     "name": "#%% md\n"
    },
    "slideshow": {
     "slide_type": "slide"
    }
   },
   "source": [
    "## Multiple solutions\n",
    "\n",
    "- User not satisfied with optimal solution?\n",
    "\n",
    "- There could be multiple optimal solutions\n",
    "\n",
    "- Find (a subset of) them by converting to a decision problem\n",
    "    - Enforcing the optimal objective value\n",
    "\n",
    "- Use `solveAll()`"
   ]
  },
  {
   "cell_type": "code",
   "execution_count": null,
   "metadata": {
    "pycharm": {
     "name": "#%%\n"
    },
    "slideshow": {
     "slide_type": "slide"
    }
   },
   "outputs": [],
   "source": [
    "opt_model = cp.Model(model.constraints) # init new model\n",
    "opt_model += (model.objective_ == model.objective_value()) # force objective\n",
    "\n",
    "opt_model.solveAll(solver=\"ortools\", solution_limit=3,\n",
    "                   display=lambda: display(visualize(nurse_view.value(), factory)))  # callback that visualizes sols"
   ]
  },
  {
   "cell_type": "markdown",
   "metadata": {
    "pycharm": {
     "name": "#%% md\n"
    },
    "slideshow": {
     "slide_type": "slide"
    }
   },
   "source": [
    "## Causal explanation: Why is there no better solution?\n",
    "\n",
    "\n",
    "<img src=\"img/why_not_better.png\" width=\"20%\" align=\"right\" style=\"margin:50px;\">\n",
    "        \n",
    "- Reduce to UNSAT problem\n",
    "\n",
    "- Add better-than optimal objective function as constraint \n",
    "\n",
    "- Then use the step-wise explanation techniques to explain<br> why it is now UNSAT"
   ]
  },
  {
   "cell_type": "markdown",
   "metadata": {
    "slideshow": {
     "slide_type": "-"
    }
   },
   "source": [
    "> Bleukx, I., Devriendt, J., Gamba, E., Bogaerts B., & Guns T. (2023). Simplifying Step-wise Explanation Sequences. In International Conference on Principles and Practice of Constraint Programming 2023"
   ]
  },
  {
   "cell_type": "code",
   "execution_count": null,
   "metadata": {
    "pycharm": {
     "name": "#%%\n"
    },
    "slideshow": {
     "slide_type": "subslide"
    }
   },
   "outputs": [],
   "source": [
    "opt_model = cp.Model(model.constraints)\n",
    "opt_model += (model.objective_ < model.objective_value())\n",
    "\n",
    "opt_model.solve()"
   ]
  },
  {
   "cell_type": "markdown",
   "metadata": {
    "pycharm": {
     "name": "#%% md\n"
    },
    "slideshow": {
     "slide_type": "slide"
    }
   },
   "source": [
    "## Hands-on Explainable Constraint Programming (XCP)\n",
    "\n",
    "\n",
    "<img src=\"img/interaction_figure4.png\" width=\"20%\" align=\"right\" style=\"margin:50px;\">\n",
    "\n",
    "- The model: Nurse Rostering\n",
    "- The system: CPMpy modeling library\n",
    "- Explain UNSAT:\n",
    "  - Causal explanations (MUS, OUS, sequence)\n",
    "  - Conversational explanations\n",
    "- Explain a solution:\n",
    "  - Causal explanations\n",
    "  - **Contrastive explanations**"
   ]
  },
  {
   "cell_type": "markdown",
   "metadata": {
    "pycharm": {
     "name": "#%% md\n"
    },
    "slideshow": {
     "slide_type": "slide"
    }
   },
   "source": [
    "## Changing the solution\n",
    "\n",
    "<img src=\"img/changing_solution.png\" width=\"20%\" align=\"right\" style=\"margin:50px;\">\n",
    "\n",
    "        \n",
    "* Some assignment might not be what the user wants<br> or expects\n",
    "        \n",
    "* Preferences or constraints not given to the model\n",
    "        \n",
    "* Add given assignment as constraint and solve again\n",
    "        \n",
    "    * May result in less optimal objective value\n",
    "        \n",
    "* Show new (changed) solution to the user\n"
   ]
  },
  {
   "cell_type": "code",
   "execution_count": null,
   "metadata": {
    "pycharm": {
     "name": "#%%\n"
    },
    "slideshow": {
     "slide_type": "slide"
    }
   },
   "outputs": [],
   "source": [
    "mmodel = model.copy()\n",
    "mmodel += nurse_view[2,5] == 0 # robert does not want to work on 1st saturday\n",
    "\n",
    "assert mmodel.solve()\n",
    "print(\"Total penalty: \", mmodel.objective_value())"
   ]
  },
  {
   "cell_type": "code",
   "execution_count": null,
   "metadata": {
    "pycharm": {
     "name": "#%%\n"
    },
    "slideshow": {
     "slide_type": "fragment"
    }
   },
   "outputs": [],
   "source": [
    "style = highlight_changes(nurse_view, opt_sol, factory)\n",
    "display(style)"
   ]
  },
  {
   "cell_type": "markdown",
   "metadata": {
    "pycharm": {
     "name": "#%% md\n"
    },
    "slideshow": {
     "slide_type": "slide"
    }
   },
   "source": [
    "## Slightly changing the solution\n",
    "\n",
    "<img src=\"img/changing_solution.png\" width=\"20%\" align=\"right\" style=\"margin:50px;\">\n",
    "\n",
    "        \n",
    "- Previous solution is very different from original! <br>\n",
    "    --> Do not want to change everyone's schedule!\n",
    "\n",
    "- Change only a few parts of it?\n",
    "\n",
    "- Tradeoff between difference and penalty\n",
    "\n"
   ]
  },
  {
   "cell_type": "code",
   "execution_count": null,
   "metadata": {
    "pycharm": {
     "name": "#%%\n"
    },
    "slideshow": {
     "slide_type": "slide"
    }
   },
   "outputs": [],
   "source": [
    "ov = mmodel.objective_value()\n",
    "mmodel += cp.sum(nurse_view != opt_sol)<= 3 # allow to make 3 changes\n",
    "assert mmodel.solve()\n",
    "print(\"Total penalty:\", mmodel.objective_value(), \"was:\", ov)\n",
    "\n",
    "style = highlight_changes(nurse_view, opt_sol, factory)\n",
    "display(style)"
   ]
  },
  {
   "cell_type": "markdown",
   "metadata": {
    "pycharm": {
     "name": "#%% md\n"
    },
    "slideshow": {
     "slide_type": "slide"
    }
   },
   "source": [
    "## Counterfactual optimisation model\n",
    "\n",
    "\n",
    "<img src=\"img/change_model.png\" width=\"20%\" align=\"right\" style=\"margin:50px;\">\n",
    "\n",
    "\n",
    "- \"Why not Y\" -> \"Under what conditions would Y<br> be optimal?\"\n",
    "        \n",
    "- _Given_: model with linear objective function $w*c$, <br>and a 'foil' Y (partial assignment)<br>\n",
    "- _Find_: new objective function weights $w'$<br> such that optimal solution satisfies $Y$\n",
    "        \n",
    "- Explains necessary changes to the **model**<br> rather than the solution!\n",
    "\n",
    "> [Korikov, Anton, and J. Christopher Beck. \"Counterfactual explanations via inverse constraint programming.\" In 27th International Conference on Principles and Practice of Constraint Programming (CP 2021).]"
   ]
  },
  {
   "cell_type": "markdown",
   "metadata": {
    "pycharm": {
     "name": "#%% md\n"
    },
    "slideshow": {
     "slide_type": "slide"
    }
   },
   "source": [
    "## Counterfactual optimisation model\n",
    "\n",
    "Find currently optimal solution $X$:"
   ]
  },
  {
   "cell_type": "code",
   "execution_count": null,
   "metadata": {
    "pycharm": {
     "name": "#%%\n"
    },
    "scrolled": true,
    "slideshow": {
     "slide_type": "-"
    }
   },
   "outputs": [],
   "source": [
    "model, nurse_view = factory.get_full_model()\n",
    "\n",
    "assert model.solve()\n",
    "print(\"Total penalty: \", model.objective_value())\n",
    "visualize(nurse_view.value(), factory)"
   ]
  },
  {
   "cell_type": "markdown",
   "metadata": {
    "pycharm": {
     "name": "#%% md\n"
    },
    "slideshow": {
     "slide_type": "subslide"
    }
   },
   "source": [
    "## Counterfactual optimisation model\n",
    "\n",
    "Robert is unhappy!"
   ]
  },
  {
   "cell_type": "code",
   "execution_count": null,
   "metadata": {
    "pycharm": {
     "name": "#%%\n"
    },
    "slideshow": {
     "slide_type": "-"
    }
   },
   "outputs": [],
   "source": [
    "nurse = \"Robert\"\n",
    " \n",
    "for (w,pref) in zip(*model.objective_.args):\n",
    "    if nurse in str(pref):\n",
    "        print(f\"{pref.value()} \\t w:{w} \\t{pref} \\t\")"
   ]
  },
  {
   "cell_type": "code",
   "execution_count": null,
   "metadata": {
    "pycharm": {
     "name": "#%%\n"
    },
    "slideshow": {
     "slide_type": "fragment"
    }
   },
   "outputs": [],
   "source": [
    "desc = \"Robert's requests to work shift D on Fri 1 is denied\"\n",
    "weight,d_on_fri1 = next((w,pref) for w,pref in zip(*model.objective_.args) if str(pref) == desc)\n",
    "print(f\"{d_on_fri1.value()} \\t w:{w} \\t{d_on_fri1}\")"
   ]
  },
  {
   "cell_type": "markdown",
   "metadata": {
    "pycharm": {
     "name": "#%% md\n"
    },
    "slideshow": {
     "slide_type": "slide"
    }
   },
   "source": [
    "## Counterfactual optimisation model\n",
    "\n",
    "Robert does not want to work on Fri 1!\n",
    "\n",
    "How should he minimally change _his_ preferences for that?"
   ]
  },
  {
   "cell_type": "code",
   "execution_count": null,
   "metadata": {
    "pycharm": {
     "name": "#%%\n"
    },
    "slideshow": {
     "slide_type": "fragment"
    }
   },
   "outputs": [],
   "source": [
    "foil = {d_on_fri1 : False}  # don't want to work on Fri 1!\n",
    "print(\"Foil:\", foil)\n",
    "print(\"\\n\")\n",
    "\n",
    "other_prefs = [(w,pref) for w,pref in zip(*model.objective_.args) if nurse in str(pref) and str(pref) != desc]\n",
    "print(f\"{nurse}'s other preferences:\")\n",
    "for w,pref in other_prefs:\n",
    "    print(\"- Weight\",w,\":\",pref)"
   ]
  },
  {
   "cell_type": "markdown",
   "metadata": {
    "pycharm": {
     "name": "#%% md\n"
    },
    "slideshow": {
     "slide_type": "slide"
    }
   },
   "source": [
    "## Counterfactual optimisation model\n",
    "\n",
    "Algorithmically, it is a beautiful inverse optimisation problem with a multi-solver main/subproblem algorithm"
   ]
  },
  {
   "cell_type": "code",
   "execution_count": null,
   "metadata": {
    "pycharm": {
     "name": "#%%\n"
    },
    "slideshow": {
     "slide_type": "fragment"
    }
   },
   "outputs": [],
   "source": [
    "from explanations.counterfactual import inverse_optimize\n",
    "\n",
    "ov = model.objective_value()\n",
    "new_obj = inverse_optimize(model=model, minimize=True,\n",
    "                           user_sol = foil,\n",
    "                           allowed_to_change = set(p[1] for p in other_prefs))\n",
    "print(f\"Done! Found solution with total penalty {new_obj.value()}, was {ov}\\n\")\n",
    "\n",
    "# Let's look at the preferences he should enter, to avoid Fri 1!\n",
    "print(f\"{nurse}'s new preferences:\")\n",
    "for w,pref in zip(*new_obj.args):\n",
    "    if nurse in str(pref) and str(pref) != desc and w != 1:  # previous weights were 1\n",
    "        print(\"Weight\",w,\":\",pref)"
   ]
  },
  {
   "cell_type": "markdown",
   "metadata": {
    "pycharm": {
     "name": "#%% md\n"
    },
    "slideshow": {
     "slide_type": "slide"
    }
   },
   "source": [
    "## Hands-on Explainable Constraint Programming (XCP)\n",
    "\n",
    "\n",
    "<img src=\"img/interaction_figure4.png\" width=\"20%\" align=\"right\" style=\"margin:50px;\">\n",
    "\n",
    "- The model: Nurse Rostering\n",
    "- The system: CPMpy modeling library\n",
    "- Explain UNSAT:\n",
    "  - Causal explanations (MUS, OUS, sequence)\n",
    "  - Conversational explanations\n",
    "- Explain a solution:\n",
    "  - Causal explanations\n",
    "  - Contrastive explanations"
   ]
  },
  {
   "cell_type": "markdown",
   "metadata": {
    "pycharm": {
     "name": "#%% md\n"
    },
    "slideshow": {
     "slide_type": "slide"
    }
   },
   "source": [
    "<img src=\"img/chatopt.png\" height=\"800px\">"
   ]
  },
  {
   "cell_type": "markdown",
   "metadata": {
    "pycharm": {
     "name": "#%%\n"
    },
    "slideshow": {
     "slide_type": "slide"
    }
   },
   "source": [
    "## Explainable Constraint Programming (XCP)\n",
    "\n",
    "In general, \"**Why X?**\" &nbsp;&nbsp;&nbsp;&nbsp;&nbsp;&nbsp; (with X a solution or UNSAT)\n",
    "\n",
    "To be defined... 3 patterns:\n",
    "- Causal explanation:\n",
    "  - _How was X derived?_\n",
    "- Contrastive explanation:\n",
    "  - _Why X and not Z?_\n",
    "- Conversational explanation:\n",
    "  - _Iteratively refine explanation & model_\n"
   ]
  },
  {
   "cell_type": "markdown",
   "metadata": {
    "pycharm": {
     "name": "#%% md\n"
    },
    "slideshow": {
     "slide_type": "slide"
    }
   },
   "source": [
    "## Connections to wider XAI\n",
    "\n",
    "* Explanations in planning, e.g. MUGS _[Eiflet et al]_, Model Reconciliation _[Chakraborti et al]_, ...\n",
    "* Explanations for KR/justifications _[Swartout et al]_, ASP _[Fandinno et al]_, in OWL _[Kalyanpur et al]_, ...\n",
    "* Formal explanations of ML models (e.g. impl. hitting-set based, _[Ignatiev et al]_)"
   ]
  },
  {
   "cell_type": "markdown",
   "metadata": {
    "pycharm": {
     "name": "#%% md\n"
    },
    "slideshow": {
     "slide_type": "slide"
    }
   },
   "source": [
    "## Explainable Constraint Programming (XCP)\n",
    "\n",
    "Recurring challenges:\n",
    "* Definition of explanation: _question and answer format_\n",
    "* Computational efficiency\n",
    "* Explanation selection: _which explanation to show_\n",
    "* User Interaction? _(visualisation, conversational, statefull, ...)_\n",
    "* Explanation evaluation: _computational, formal, user survey, user study, ..._\n"
   ]
  },
  {
   "cell_type": "markdown",
   "metadata": {
    "pycharm": {
     "name": "#%% md\n"
    },
    "slideshow": {
     "slide_type": "slide"
    }
   },
   "source": [
    "## Conclusion\n",
    "\n",
    "\n",
    "<img src=\"img/interaction_figure4.png\" width=\"20%\" align=\"right\" style=\"margin:50px;\">\n",
    "\n",
    "* Explanation of UNSAT/SAT/Opt      \n",
    "* Causal explanations relate back to finding a MUS/OUS\n",
    "* Need for programmable multi-solver tooling: CPMpy\n",
    "\n",
    "\n",
    "* Many open challenges and new problems!\n",
    "* Less developed: contrastive & conversational expl.  \n",
    "* We need incremental CP-solvers!\n",
    "\n",
    "\n"
   ]
  },
  {
   "cell_type": "markdown",
   "metadata": {
    "pycharm": {
     "name": "#%%\n"
    },
    "slideshow": {
     "slide_type": "slide"
    }
   },
   "source": [
    "### References mentioned (many more exist!!!)\n",
    "\n",
    "<small>\n",
    "    \n",
    "##### MUS\n",
    "* Liffiton, M. H., & Sakallah, K. A. (2008). Algorithms for computing minimal unsatisfiable subsets of constraints. Journal of Automated Reasoning, 40, 1-33.\n",
    "\n",
    "* Ignatiev, A., Previti, A., Liffiton, M., & Marques-Silva, J. (2015, August). Smallest MUS extraction with minimal hitting set dualization. In International Conference on Principles and Practice of Constraint Programming (pp. 173-182). Cham: Springer International Publishing.\n",
    "\n",
    "* Joao Marques-Silva. Minimal Unsatisfiability: Models, Algorithms and Applications. ISMVL 2010. pp. 9-14\n",
    "\n",
    "##### Feasibility restoration\n",
    "\n",
    "* Senthooran, I., Klapperstueck, M., Belov, G., Czauderna, T., Leo, K., Wallace, M., ... & De La Banda, M. G. (2021). Human-centred feasibility restoration. In 27th International Conference on Principles and Practice of Constraint Programming (CP 2021). Schloss Dagstuhl-Leibniz-Zentrum für Informatik.\n",
    "\n",
    "##### Explaining optimization problems\n",
    "* Korikov, A., & Beck, J. C. (2021). Counterfactual explanations via inverse constraint programming. In 27th International Conference on Principles and Practice of Constraint Programming (CP 2021). Schloss Dagstuhl-Leibniz-Zentrum für Informatik.\n",
    "\n",
    "##### Explanation in planning, ASP,  KR\n",
    "* Eifler, Rebecca, Michael Cashmore, Jörg Hoffmann, Daniele Magazzeni, and Marcel Steinmetz. \"A new approach to plan-space explanation: Analyzing plan-property dependencies in oversubscription planning.\" In Proceedings of the AAAI Conference on Artificial Intelligence, vol. 34, no. 06, pp. 9818-9826. 2020.\n",
    "* Chakraborti, Tathagata, Sarath Sreedharan, Yu Zhang, and Subbarao Kambhampati. \"Plan explanations as model reconciliation: moving beyond explanation as soliloquy.\" In Proceedings of the 26th International Joint Conference on Artificial Intelligence, pp. 156-163. 2017.\n",
    "* Fandinno, Jorge, and Claudia Schulz. \"Answering the “why” in answer set programming–A survey of explanation approaches.\" Theory and Practice of Logic Programming 19, no. 2 (2019): 114-203.\n",
    "* Swartout, William, Cecile Paris, and Johanna Moore. \"Explanations in knowledge systems: Design for explainable expert systems.\" IEEE Expert 6, no. 3 (1991): 58-64.\n",
    "* Kalyanpur, Aditya, Bijan Parsia, Evren Sirin, and Bernardo Cuenca-Grau. \"Repairing unsatisfiable concepts in OWL ontologies.\" In The Semantic Web: Research and Applications: 3rd European Semantic Web Conference, ESWC 2006 Budva, Montenegro, June 11-14, 2006 Proceedings 3, pp. 170-184. Springer Berlin Heidelberg, 2006.\n",
    "\n",
    "#### Formal explantions in ML\n",
    "* Ignatiev, Alexey, Nina Narodytska, and Joao Marques-Silva. \"Abduction-based explanations for machine learning models.\" In Proceedings of the AAAI Conference on Artificial Intelligence, vol. 33, no. 01, pp. 1511-1519. 2019.\n",
    "\n",
    "</small>"
   ]
  }
 ],
 "metadata": {
  "celltoolbar": "Slideshow",
  "kernelspec": {
   "display_name": "Python 3 (ipykernel)",
   "language": "python",
   "name": "python3"
  },
  "language_info": {
   "codemirror_mode": {
    "name": "ipython",
    "version": 3
   },
   "file_extension": ".py",
   "mimetype": "text/x-python",
   "name": "python",
   "nbconvert_exporter": "python",
   "pygments_lexer": "ipython3",
   "version": "3.9.18"
  },
  "varInspector": {
   "cols": {
    "lenName": 16,
    "lenType": 16,
    "lenVar": 40
   },
   "kernels_config": {
    "python": {
     "delete_cmd_postfix": "",
     "delete_cmd_prefix": "del ",
     "library": "var_list.py",
     "varRefreshCmd": "print(var_dic_list())"
    },
    "r": {
     "delete_cmd_postfix": ") ",
     "delete_cmd_prefix": "rm(",
     "library": "var_list.r",
     "varRefreshCmd": "cat(var_dic_list()) "
    }
   },
   "types_to_exclude": [
    "module",
    "function",
    "builtin_function_or_method",
    "instance",
    "_Feature"
   ],
   "window_display": false
  }
 },
 "nbformat": 4,
 "nbformat_minor": 4
}
