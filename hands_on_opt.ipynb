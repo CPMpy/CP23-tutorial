{
 "cells": [
  {
   "cell_type": "code",
   "execution_count": null,
   "metadata": {},
   "outputs": [],
   "source": [
    "# # code required to run on a fresh install or in google colab\n",
    "# ! git clone https://github.com/CPMpy/XCP-explain.git /tmp/XCP-explain\n",
    "# ! cd XCP-explain && git checkout ecai24\n",
    "# ! pip install -r XCP-explain/requirements.txt\n",
    "# ! pip install cpmpy\n",
    "\n",
    "# # add XCP-explain to the Python path\n",
    "# import sys\n",
    "# root = \"/tmp/XCP-explain\"\n",
    "# if root not in sys.path:\n",
    "#     sys.path.insert(0, root)\n",
    "root= \".\""
   ]
  },
  {
   "cell_type": "code",
   "execution_count": null,
   "metadata": {
    "pycharm": {
     "name": "#%%\n"
    },
    "slideshow": {
     "slide_type": "-"
    }
   },
   "outputs": [],
   "source": [
    "%load_ext autoreload\n",
    "%autoreload 2\n",
    "\"\"\"\n",
    "    Some imports used throughout the notebook\n",
    "\"\"\"\n",
    "import time\n",
    "import os\n",
    "from visualize import *\n",
    "\n",
    "from cpmpy.transformations.normalize import toplevel_list\n",
    "from factory import *\n",
    "from read_data import get_data\n",
    "from IPython.display import clear_output\n",
    "\n",
    "\n",
    "import numpy as np\n",
    "np.set_printoptions(linewidth=90)\n",
    "# preload solvers\n",
    "from cpmpy import SolverLookup\n",
    "names = SolverLookup.solvernames()"
   ]
  },
  {
   "cell_type": "markdown",
   "metadata": {},
   "source": [
    "## Explaning Optimization problems\n",
    "\n",
    "In this notebook, we will consider the Nurse Rostering problem as an optimization problem. First we will focus on the following:\n",
    "- \"I **do not like** this solution\" &#8592; Find **alternative** optimal or non-dominated solutions \n",
    "- \"Why is there no **even better** solution?\" &#8592; Find what **to change in my model** if I want a better solution?\n",
    "- \"What if **I want Y** in my solution **instead of X**?\" &#8592; Find **how to change** the solutions or our optimization model\n",
    "\n"
   ]
  },
  {
   "cell_type": "markdown",
   "metadata": {},
   "source": [
    "#### Load the optimization model\n",
    "\n",
    "Same instance as in the previous notebook.\n"
   ]
  },
  {
   "cell_type": "code",
   "execution_count": null,
   "metadata": {},
   "outputs": [],
   "source": [
    "instance = os.path.join(root,\"Benchmarks/CustomInstance.txt\")\n",
    "data = get_data(instance)\n",
    "factory = NurseSchedulingFactory(data)"
   ]
  },
  {
   "cell_type": "markdown",
   "metadata": {},
   "source": [
    "Now as (multi-objective) optimization model! 3 different objectives in nurse rostering:\n",
    "\n",
    "      - Penalty on positive shift requests\n",
    "\n",
    "      - Penalty on negative shift requests\n",
    "\n",
    "      - Penalty of the cover constraints"
   ]
  },
  {
   "cell_type": "code",
   "execution_count": null,
   "metadata": {},
   "outputs": [],
   "source": [
    "model, nurse_view, penalty_on, penalty_off, penalty_cover = factory.get_multi_objective_model()\n",
    "\n",
    "objectives = [penalty_on, penalty_off, penalty_cover] # penalty_on, penalty_off, penalty_cover are the 3 subobjectives\n",
    "\n",
    "assert model.solve(solver=\"ortools\") # you can try different solvers here!\n",
    "opt_sol = nurse_view.value()\n",
    "opt_value = model.objective_value()\n",
    "\n",
    "display(visualize(opt_sol, factory))\n",
    "print(\"Total penalty:\", model.objective_value())\n",
    "print(\"Time to calculate:\", model.status().runtime, \"s\")"
   ]
  },
  {
   "cell_type": "markdown",
   "metadata": {},
   "source": [
    "## Multiple solutions\n",
    "\n",
    "- User not satisfied with optimal solution!!\n",
    "\n",
    "- There could be multiple optimal solutions\n",
    "\n",
    "- Find (a subset of) them by converting to a decision problem!"
   ]
  },
  {
   "cell_type": "code",
   "execution_count": null,
   "metadata": {},
   "outputs": [],
   "source": [
    "opt_model = cp.Model(model.constraints) # init new model\n",
    "opt_model += (model.objective_ == model.objective_value()) # force objective\n",
    "\n",
    "opt_model.solveAll(solver=\"ortools\", solution_limit=1,\n",
    "                   display=lambda: display(visualize(nurse_view.value(), factory)))  # callback that visualizes sols"
   ]
  },
  {
   "cell_type": "code",
   "execution_count": null,
   "metadata": {},
   "outputs": [],
   "source": [
    "# Convert to decision model enforcing the same objective value and use solveAll (with a limited number of solutions!)\n",
    "new_model = cp.Model(model.constraints) # init new model\n",
    "new_model += ... # force objective\n",
    "\n",
    "sols_limit = ...\n",
    "\n",
    "new_model.solveAll(solver=\"ortools\", solution_limit=sols_limit,\n",
    "                   display=lambda: display(visualize(nurse_view.value(), factory)))  # callback that visualizes sols"
   ]
  },
  {
   "cell_type": "markdown",
   "metadata": {},
   "source": [
    "### Non-Dominated solutions"
   ]
  },
  {
   "cell_type": "markdown",
   "metadata": {},
   "source": [
    "User not satisfied with optimal solution, considering bad the trade-offs it makes\n",
    "- Optimize again, considering non-dominated solutions based on sub objectives!\n",
    "- Non-dominated solution: No other solution will be better (lower penalty) on all objectives..."
   ]
  },
  {
   "cell_type": "code",
   "execution_count": null,
   "metadata": {},
   "outputs": [],
   "source": [
    "# We have already loaded the subobjectives: penalty_on, penalty_off, penalty_cover!!\n",
    "## And we have them stored in the list 'objectives'\n",
    "non_dom_model = model.copy()\n",
    "\n",
    "solutions_limit = 5\n",
    "solutions = []\n",
    "solution_images = []\n",
    "\n",
    "while len(solutions) < solutions_limit:\n",
    "    non_dom_model.solve() # find solution by optimizing again\n",
    "    non_dom_model += cp.any([obj > obj.value() for obj in objectives])  # dominance constraint\n",
    "    solutions.append(nurse_view.value())\n",
    "    solution_images.append([obj.value() for obj in objectives])\n",
    "\n",
    "for s in solutions:\n",
    "    display(visualize(s, factory))\n",
    "\n"
   ]
  },
  {
   "cell_type": "code",
   "execution_count": null,
   "metadata": {},
   "outputs": [],
   "source": [
    "# Create a DataFrame from the solution_images list\n",
    "solutions_df = pd.DataFrame(\n",
    "    solution_images,\n",
    "    columns=['Penalty On', 'Penalty Off', 'Penalty Cover']\n",
    ")\n",
    "\n",
    "display(solutions_df)"
   ]
  },
  {
   "cell_type": "markdown",
   "metadata": {},
   "source": [
    "## Deductive explanations\n",
    "\n",
    "In the remainder of this notebook, we will explore different ways of explaining unsatisfiabily of the instance."
   ]
  },
  {
   "cell_type": "code",
   "execution_count": null,
   "metadata": {},
   "outputs": [],
   "source": [
    "model, nurse_view = factory.get_decision_model()\n",
    "model.solve()"
   ]
  },
  {
   "cell_type": "code",
   "execution_count": null,
   "metadata": {},
   "outputs": [],
   "source": [
    "from cpmpy.tools.explain import mus\n",
    "\n",
    "t0 = time.time()\n",
    "conflict = mus(model.constraints) # try different solvers here!\n",
    "print(f\"Found conflict of size {len(conflict)} in {round(time.time()-t0,2)}s\")"
   ]
  },
  {
   "cell_type": "code",
   "execution_count": null,
   "metadata": {},
   "outputs": [],
   "source": [
    "for c in conflict:\n",
    "    print(\"-\", c)\n",
    "\n",
    "visualize_constraints(conflict, nurse_view, factory)"
   ]
  },
  {
   "cell_type": "markdown",
   "metadata": {},
   "source": [
    "Now, let's influence the MUS we would like to find.\n",
    "\n",
    "We can chose from QuickXplain [1] or Optimal MUS (OUS) [2]\n",
    "\n",
    "**QuickXplain** takes as input a total ordering of constraints, and returns a lexicographically minimal MUS.\n",
    "The algorithm is build up as a divide-and-conquer approach, and therefore has a good average complexity.\n",
    "\n",
    "**OUS** takes as input a weight for each constraint, and finds a **optimal** MUS. While this optimality guarantee is sometimes required, it comes at a penalty of longer computation times, as you will notice here!"
   ]
  },
  {
   "cell_type": "code",
   "execution_count": null,
   "metadata": {},
   "outputs": [],
   "source": [
    "# QuickXplain first\n",
    "from cpmpy.tools.explain import quickxplain\n",
    "\n",
    "\n",
    "def get_weight(cons):\n",
    "    if \"William\" in str(cons): # Find a different MUS than the previous\n",
    "        return 2 \n",
    "    return 1\n",
    "\n",
    "ordered = sorted(model.constraints, key=get_weight)\n",
    "conflict = quickxplain(ordered)\n",
    "print(f\"Found conflict of size {len(conflict)} in {round(time.time()-t0,2)}s\")"
   ]
  },
  {
   "cell_type": "code",
   "execution_count": null,
   "metadata": {},
   "outputs": [],
   "source": [
    "for c in conflict:\n",
    "    print(\"-\", c)\n",
    "\n",
    "visualize_constraints(conflict, nurse_view, factory)"
   ]
  },
  {
   "cell_type": "code",
   "execution_count": null,
   "metadata": {},
   "outputs": [],
   "source": [
    "# Now find truely OPTIMAL MUSes\n",
    "## Careful, this takes a while if you are not using Exact!\n",
    "from cpmpy.tools.explain import optimal_mus\n",
    "\n",
    "def get_weight(cons):\n",
    "    if \"william\" in str(cons).lower():\n",
    "        return 5\n",
    "    else:\n",
    "        return 1\n",
    "\n",
    "solver = \"exact\" if \"exact\" in cp.SolverLookup.solvernames() else \"ortools\"\n",
    "print(\"Using solver\", solver)\n",
    "\n",
    "conflict = optimal_mus(model.constraints, \n",
    "                       weights=[get_weight(c) for c in model.constraints],\n",
    "                       solver=solver,\n",
    "                       hs_solver=\"gurobi\")\n",
    "print(f\"Found conflict of size {len(conflict)} in {round(time.time()-t0,2)}s\")"
   ]
  },
  {
   "cell_type": "code",
   "execution_count": null,
   "metadata": {},
   "outputs": [],
   "source": [
    "for c in conflict:\n",
    "    print(\"-\", c)\n",
    "\n",
    "visualize_constraints(conflict, nurse_view, factory)"
   ]
  },
  {
   "cell_type": "markdown",
   "metadata": {},
   "source": [
    "## Part 2, fixing UNSAT models\n",
    "\n",
    "Now that we know _why_ a model is UNSAT, we need to fix it.\n",
    "\n",
    "In the presentation, several techniques are shown for doing so.\n",
    "\n",
    "Below, you can find some skeleton code to play around with feasibiliy restoration techniques"
   ]
  },
  {
   "cell_type": "code",
   "execution_count": null,
   "metadata": {},
   "outputs": [],
   "source": [
    "model, nurse_view = factory.get_decision_model()\n",
    "model.solve()"
   ]
  },
  {
   "cell_type": "code",
   "execution_count": null,
   "metadata": {},
   "outputs": [],
   "source": [
    "from cpmpy.tools.explain import mss_opt, mcs_opt\n",
    "\n",
    "def get_weight(cons):\n",
    "    if \"cover\" in str(cons):\n",
    "        return 10\n",
    "    return 1\n",
    "\n",
    "# find Max-CSP solution\n",
    "optimal_subset = mss_opt(model.constraints, hard=[],weights=[get_weight(c) for c in model.constraints])\n",
    "mcs = set(model.constraints) - set(optimal_subset)\n",
    "print(\"Found solution after dropping these constraints:\")\n",
    "for i,c in enumerate(mcs):\n",
    "    print(f\"{i}.\", c)\n"
   ]
  },
  {
   "cell_type": "code",
   "execution_count": null,
   "metadata": {},
   "outputs": [],
   "source": [
    "assert cp.Model(optimal_subset).solve() is True\n",
    "visualize(nurse_view.value(), factory)\n",
    "visualize_constraints(mcs, nurse_view, factory, do_clear=False)"
   ]
  },
  {
   "cell_type": "markdown",
   "metadata": {},
   "source": [
    "### Slack-based relaxation\n",
    "\n",
    "Apart from dropping constraints, they can also be _relaxed_ when numeric"
   ]
  },
  {
   "cell_type": "code",
   "execution_count": null,
   "metadata": {},
   "outputs": [],
   "source": [
    "model, nurse_view, slack_under, slack_over = factory.get_slack_model()  # CMPpy Model\n",
    "\n",
    "# TODO.."
   ]
  },
  {
   "cell_type": "code",
   "execution_count": null,
   "metadata": {},
   "outputs": [],
   "source": [
    "import math\n",
    "\n",
    "480 * 11"
   ]
  }
 ],
 "metadata": {
  "celltoolbar": "Slideshow",
  "kernelspec": {
   "display_name": "Python 3 (ipykernel)",
   "language": "python",
   "name": "python3"
  },
  "language_info": {
   "codemirror_mode": {
    "name": "ipython",
    "version": 3
   },
   "file_extension": ".py",
   "mimetype": "text/x-python",
   "name": "python",
   "nbconvert_exporter": "python",
   "pygments_lexer": "ipython3",
   "version": "3.12.3"
  },
  "rise": {
   "transition": "none"
  },
  "varInspector": {
   "cols": {
    "lenName": 16,
    "lenType": 16,
    "lenVar": 40
   },
   "kernels_config": {
    "python": {
     "delete_cmd_postfix": "",
     "delete_cmd_prefix": "del ",
     "library": "var_list.py",
     "varRefreshCmd": "print(var_dic_list())"
    },
    "r": {
     "delete_cmd_postfix": ") ",
     "delete_cmd_prefix": "rm(",
     "library": "var_list.r",
     "varRefreshCmd": "cat(var_dic_list()) "
    }
   },
   "types_to_exclude": [
    "module",
    "function",
    "builtin_function_or_method",
    "instance",
    "_Feature"
   ],
   "window_display": false
  }
 },
 "nbformat": 4,
 "nbformat_minor": 4
}
