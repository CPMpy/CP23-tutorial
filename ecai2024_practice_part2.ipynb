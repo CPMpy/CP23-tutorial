{
 "cells": [
  {
   "cell_type": "code",
   "execution_count": null,
   "metadata": {},
   "outputs": [],
   "source": [
    "# code required to run on a fresh install or in google colab\n",
    "root = \"/tmp/XCP-explain\"\n",
    "! git clone https://github.com/CPMpy/XCP-explain.git {root}\n",
    "! cd {root}\n",
    "! pip install -r {root}/requirements.txt\n",
    "! pip install cpmpy\n",
    "\n",
    "# add XCP-explain to the Python path\n",
    "import sys\n",
    "if root not in sys.path:\n",
    "    sys.path.insert(0, root)"
   ]
  },
  {
   "cell_type": "markdown",
   "metadata": {},
   "source": [
    "# Hands on deductive explanations\n",
    "\n",
    "In this notebook, we will use another instance of the nurse rostering problem to generate some deductive explanations."
   ]
  },
  {
   "cell_type": "markdown",
   "metadata": {},
   "source": [
    "First, let's inspect the instance"
   ]
  },
  {
   "cell_type": "code",
   "execution_count": null,
   "metadata": {
    "pycharm": {
     "name": "#%%\n"
    },
    "slideshow": {
     "slide_type": "-"
    }
   },
   "outputs": [],
   "source": [
    "\"\"\"\n",
    "    Some imports used throughout the notebook\n",
    "\"\"\"\n",
    "import os\n",
    "import time\n",
    "from visualize import *\n",
    "\n",
    "# functions required for generating the model\n",
    "from read_data import get_data"
   ]
  },
  {
   "cell_type": "code",
   "execution_count": null,
   "metadata": {},
   "outputs": [],
   "source": [
    "from read_data import get_data\n",
    "from factory import *\n",
    "\n",
    "instance = os.path.join(root,\"Benchmarks/CustomInstance.txt\")\n",
    "data = get_data(instance)\n",
    "factory = NurseSchedulingFactory(data)"
   ]
  },
  {
   "cell_type": "code",
   "execution_count": null,
   "metadata": {
    "pycharm": {
     "name": "#%%\n"
    },
    "scrolled": false,
    "slideshow": {
     "slide_type": "-"
    }
   },
   "outputs": [],
   "source": [
    "data.staff[[\"name\", \"MaxShifts\",\"MaxWeekends\"]]"
   ]
  },
  {
   "cell_type": "code",
   "execution_count": null,
   "metadata": {},
   "outputs": [],
   "source": [
    "print(f\"Planning for {data.horizon} days\")"
   ]
  },
  {
   "cell_type": "markdown",
   "metadata": {},
   "source": [
    "Now, let's solve the model.\n",
    "\n",
    "In the optimization formulation as given by schedulingbenchmarks.org, some constraints or requests may be unsatisfied."
   ]
  },
  {
   "cell_type": "code",
   "execution_count": null,
   "metadata": {},
   "outputs": [],
   "source": [
    "model, nurse_view = factory.get_optimization_model()\n",
    "assert model.solve(solver=\"ortools\", num_workers=8) # need 8 workers for efficient solving\n",
    "\n",
    "print(model.status())\n",
    "print(\"Total penalty:\", model.objective_value())\n",
    "visualize(nurse_view.value(), factory)"
   ]
  },
  {
   "cell_type": "markdown",
   "metadata": {},
   "source": [
    "which requests are not satisfied by this solution?"
   ]
  },
  {
   "cell_type": "code",
   "execution_count": null,
   "metadata": {},
   "outputs": [],
   "source": [
    "requests, _ = factory.shift_on_requests(formulation=\"hard\")\n",
    "\n",
    "denied_requests = [req for req in requests if req.value() is False]\n",
    "print(\"The following requests were denied:\")\n",
    "for req in denied_requests:\n",
    "    print(\"-\", req)\n",
    "\n",
    "visualize_constraints(denied_requests, nurse_view, factory, do_clear=False)"
   ]
  },
  {
   "cell_type": "code",
   "execution_count": null,
   "metadata": {},
   "outputs": [],
   "source": [
    "# try it yourself!\n",
    "\n",
    "# requests, _ = factory.shift_off_requests(formulation=\"hard\")\n",
    "# cover_constraints, _ = factory.cover(formulation=\"hard\")\n",
    "\n",
    "# TODO: find out which are not satisfied, and visualize!"
   ]
  },
  {
   "cell_type": "markdown",
   "metadata": {},
   "source": [
    "Ok, so clearly it's not possible to satisfy all constraints and requests.\n",
    "\n",
    "But _why_ is that the case? Can we gain more insight in this instance and investigate how the conflic(t)s look like?\n",
    "\n",
    "\n"
   ]
  },
  {
   "cell_type": "markdown",
   "metadata": {},
   "source": [
    "We treat all constraints and requests equal, so we get a _decision_ problem"
   ]
  },
  {
   "cell_type": "code",
   "execution_count": null,
   "metadata": {},
   "outputs": [],
   "source": [
    "from cpmpy.tools.explain import mus\n",
    "\n",
    "model, nurse_view = factory.get_decision_model()\n",
    "\n",
    "subset = mus(model.constraints)\n",
    "for c in subset:\n",
    "    print(\"-\", c, c.__repr__())\n",
    "visualize_constraints(subset, nurse_view, factory)"
   ]
  },
  {
   "cell_type": "markdown",
   "metadata": {},
   "source": [
    "Are there more MUSes? Of course :-)\n",
    "\n",
    "Let's enumerate a few of them using the MARCO algorithm"
   ]
  },
  {
   "cell_type": "code",
   "execution_count": null,
   "metadata": {
    "scrolled": false
   },
   "outputs": [],
   "source": [
    "from cpmpy.tools.explain import marco\n",
    "\n",
    "model, nurse_view = factory.get_decision_model()\n",
    "\n",
    "for i, (kind, subset) in enumerate(marco(model.constraints, solver=\"exact\", return_mcs=False)):\n",
    "    if kind == \"MUS\":\n",
    "        display(visualize_constraints(subset, nurse_view, factory))\n",
    "        \n",
    "    if i == 3:\n",
    "        break"
   ]
  },
  {
   "cell_type": "markdown",
   "metadata": {},
   "source": [
    "Clearly, these MUSes are very different! And some are more interpretable than others.\n",
    "\n",
    "In the remainder of this notebook, we will influence which MUS is found.\n",
    "\n",
    "First, by finding prefered MUSes using QuickXplain, then finding optimal MUSes given a cost function"
   ]
  },
  {
   "cell_type": "code",
   "execution_count": null,
   "metadata": {},
   "outputs": [],
   "source": [
    "# QuickXplain first\n",
    "from cpmpy.tools.explain import quickxplain\n",
    "\n",
    "model, nurse_view = factory.get_decision_model()\n",
    "\n",
    "# DIY: craft your own ordering of constraints here!\n",
    "def get_order(cons):\n",
    "    if \"cover\" in str(cons): # Find a MUS that does include many cover constraints\n",
    "        return 1\n",
    "    return 10\n",
    "\n",
    "\n",
    "ordered = sorted(model.constraints, key=get_order)\n",
    "conflict = quickxplain(ordered)\n",
    "for c in conflict:\n",
    "    print(\"-\", c)"
   ]
  },
  {
   "cell_type": "code",
   "execution_count": null,
   "metadata": {},
   "outputs": [],
   "source": [
    "visualize_constraints(conflict, nurse_view, factory)"
   ]
  },
  {
   "cell_type": "markdown",
   "metadata": {},
   "source": [
    "#### Optimal MUS\n",
    "\n",
    "Now find truely OPTIMAL MUSes given a cost function $f$\n"
   ]
  },
  {
   "cell_type": "code",
   "execution_count": null,
   "metadata": {},
   "outputs": [],
   "source": [
    "## Careful, this takes a while if you are not using Exact!\n",
    "from cpmpy.tools.explain import optimal_mus\n",
    "\n",
    "model, nurse_view = factory.get_decision_model()\n",
    "\n",
    "# DIY: craft your own cost for constraints here!\n",
    "def get_weight(cons):\n",
    "    return 1 # find the smallest one\n",
    "\n",
    "solver = \"exact\" if \"exact\" in cp.SolverLookup.solvernames() else \"ortools\"\n",
    "hs_solver = \"gurobi\" if \"gurobi\" in cp.SolverLookup.solvernames() else \"ortools\"\n",
    "\n",
    "conflict = optimal_mus(model.constraints, \n",
    "                       weights=[get_weight(c) for c in model.constraints],\n",
    "                       solver=solver,\n",
    "                       hs_solver=hs_solver)\n",
    "print(f\"Found conflict of size {len(conflict)}\")"
   ]
  },
  {
   "cell_type": "code",
   "execution_count": null,
   "metadata": {},
   "outputs": [],
   "source": [
    "visualize_constraints(conflict, nurse_view, factory)"
   ]
  },
  {
   "cell_type": "markdown",
   "metadata": {},
   "source": [
    "# Part 2, fixing UNSAT models\n",
    "\n",
    "Now that we know _why_ a model is UNSAT, we need to fix it.\n",
    "\n",
    "In the presentation, several techniques are shown for doing so.\n",
    "\n",
    "Below, you can find some skeleton code to play around with feasibiliy restoration techniques"
   ]
  },
  {
   "cell_type": "code",
   "execution_count": null,
   "metadata": {},
   "outputs": [],
   "source": [
    "model, nurse_view = factory.get_decision_model()\n",
    "model.solve()"
   ]
  },
  {
   "cell_type": "code",
   "execution_count": null,
   "metadata": {},
   "outputs": [],
   "source": [
    "from cpmpy.tools.explain import mss_opt, mcs_opt\n",
    "\n",
    "# DIY: craft your own cost for constraints here!\n",
    "def get_weight(cons):\n",
    "    return 1 # equal weights\n",
    "\n",
    "# find Max-CSP solution\n",
    "optimal_subset = mss_opt(model.constraints, hard=[],weights=[get_weight(c) for c in model.constraints])\n",
    "mcs = set(model.constraints) - set(optimal_subset)\n",
    "print(\"Found solution after dropping these constraints:\")\n",
    "for i,c in enumerate(mcs):\n",
    "    print(f\"{i}.\", c)\n"
   ]
  },
  {
   "cell_type": "code",
   "execution_count": null,
   "metadata": {},
   "outputs": [],
   "source": [
    "assert cp.Model(optimal_subset).solve() is True\n",
    "visualize(nurse_view.value(), factory)\n",
    "visualize_constraints(mcs, nurse_view, factory, do_clear=False)"
   ]
  },
  {
   "cell_type": "markdown",
   "metadata": {},
   "source": [
    "### Slack-based relaxation\n",
    "\n",
    "Apart from dropping constraints, they can also be _relaxed_ when numeric"
   ]
  },
  {
   "cell_type": "code",
   "execution_count": null,
   "metadata": {},
   "outputs": [],
   "source": [
    "model, nurse_view, slack_under, slack_over = factory.get_slack_model()  # CMPpy Model\n",
    "\n",
    "# minimize the maximal violation\n",
    "slack = cp.cpm_array(np.append(slack_under, slack_over))\n",
    "model.minimize(cp.max(slack))\n",
    "\n",
    "assert model.solve()\n",
    "\n",
    "visualize(nurse_view.value(), factory)"
   ]
  },
  {
   "cell_type": "code",
   "execution_count": null,
   "metadata": {},
   "outputs": [],
   "source": [
    "# DIY: craft your own objective functions"
   ]
  }
 ],
 "metadata": {
  "celltoolbar": "Slideshow",
  "kernelspec": {
   "display_name": "Python 3 (ipykernel)",
   "language": "python",
   "name": "python3"
  },
  "language_info": {
   "codemirror_mode": {
    "name": "ipython",
    "version": 3
   },
   "file_extension": ".py",
   "mimetype": "text/x-python",
   "name": "python",
   "nbconvert_exporter": "python",
   "pygments_lexer": "ipython3",
   "version": "3.10.14"
  },
  "rise": {
   "transition": "none"
  },
  "varInspector": {
   "cols": {
    "lenName": 16,
    "lenType": 16,
    "lenVar": 40
   },
   "kernels_config": {
    "python": {
     "delete_cmd_postfix": "",
     "delete_cmd_prefix": "del ",
     "library": "var_list.py",
     "varRefreshCmd": "print(var_dic_list())"
    },
    "r": {
     "delete_cmd_postfix": ") ",
     "delete_cmd_prefix": "rm(",
     "library": "var_list.r",
     "varRefreshCmd": "cat(var_dic_list()) "
    }
   },
   "types_to_exclude": [
    "module",
    "function",
    "builtin_function_or_method",
    "instance",
    "_Feature"
   ],
   "window_display": false
  }
 },
 "nbformat": 4,
 "nbformat_minor": 4
}
