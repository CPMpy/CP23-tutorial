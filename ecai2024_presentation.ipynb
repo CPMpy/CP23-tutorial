{
 "cells": [
  {
   "cell_type": "markdown",
   "metadata": {
    "pycharm": {
     "name": "#%% md\n"
    },
    "slideshow": {
     "slide_type": "notes"
    }
   },
   "source": [
    "# Notes Tias, TODOs\n",
    "\n",
    "* pingpong: update with figure from Dimos' lecture?\n",
    "* Some pseudo-code on step-wise needed, see journal version Emilio, should be doable.\n",
    "* P3 optimisation, Counterfactual needs care (structure less clear than parts before)\n",
    "* P4, Tias TODO rework this\n",
    "  - Monash paper and the Airbus to 'expl in the wild'\n",
    "  - Concl: add some of Airbus CP paper\n",
    "* Notebook P1 TODO Tias\n",
    "* Add Tuples logo to opening slides (reimbursement Ignace)\n",
    "\n",
    "\n",
    "# Outline FROM OVERLEAF\n",
    "\n",
    "### Introduction to eXplainable Constraint Programming (55min)\n",
    "  * Introduction to constraint solving\n",
    "    - Motivation model + solve paradigm (10min)\n",
    "    - Intro to solving technologies and failure (10min)\n",
    "    - Hands-on Graph Coloring (5min) [start from Ignace'?]\n",
    "    - Example problems including nurse rostering (15min)\n",
    "  * eXplainable Constraint Programming in the eXplainable AI Field (15min)\n",
    "    - Introduction to eXplainable AI (history and current focus on black-box models) (5min)\n",
    "    - Types of explanations specific to CP and constraints solving (10min)\n",
    "\n",
    "### Explaining Satisfiablity problems 1/2 (40min)\n",
    "  * Deductive explanations (explaining why a fact was derived from the constraints) (35min)\n",
    "    - Deletion-based MUS-calculation\n",
    "    - QuickXplain MUS-calculation to find lexicographically preferred MUS’es\n",
    "    - Hitting-set algorithms for optimal MUS’es under a cost function\n",
    "    - Step-wise explanations (split in 2 parts)\n",
    "  * Hands-on with other instance of NR (5min)\n",
    "\n",
    "#### Break\n",
    "### Explaining Satisfiablity problems 2/2 (20min)\n",
    "  * Counter-factual explanations (explaining how to change the model to get another outcome) (20min)\n",
    "    - Computation of correction subsets\n",
    "    - Diagnosis\n",
    "    - Max-CSP\n",
    "    - Slack-based feasibility restauration\n",
    "\n",
    "### Explaining Optimization problems (40min)\n",
    "  * Alternative optimal solutions: multi-objective view and Pareto optimality (10min)\n",
    "    - Table view of pareto solutions\n",
    "    - hands on (?)\n",
    "  * Deductive explanations (10min)\n",
    "    - Explaining why no better solution exists (reduction to explaining unsatisfiability)\n",
    "  * Contrasive explanations (explaining how to change the model to get another outcome) (15min)\n",
    "    - How to change the model to get a better-than-optimal solution (reducing to feasibility restau-\n",
    "ration) (5min)\n",
    "    - Explaining how to change the objective function such that other decisions become optimal\n",
    "using inverse optimization techniques (10min)\n",
    "\n",
    "### Outlook (10min)\n",
    "### Hands-on session with Q&A (20min)"
   ]
  },
  {
   "cell_type": "markdown",
   "metadata": {
    "pycharm": {
     "name": "#%% md\n"
    },
    "slideshow": {
     "slide_type": "slide"
    }
   },
   "source": [
    "## Outline of the tutorial\n",
    "\n",
    "### Part 1: Introduction to Explainable Constraint Programming\n",
    "- Constraint Solving and Explanations &#x1F4BB;\n",
    "\n",
    "### Part 2: Explaining Satisfiability Problems\n",
    "- Deductive explanations (MUS, QuickXplain, OUS, stepwise) &#9194; &#x1F4BB;\n",
    "- Counterfactual explanations (MCS & Diagnosis, FastDiag, Max-CSP, Slack-based relaxation) &#x1F4BB;\n",
    "\n",
    "### Part 3: Explaining Optimization problems\n",
    "- Multi-objective optimization and Pareto-optimal solutions;\n",
    "- Deductive explanations (UNSAT-based)\n",
    "- Counterfactual explanations (UNSAT-based, inverse optimization) &#x1F4BB;\n",
    "\n",
    "### Part 4: Outlook and Q&A\n"
   ]
  },
  {
   "cell_type": "code",
   "execution_count": null,
   "metadata": {
    "pycharm": {
     "name": "#%%\n"
    },
    "slideshow": {
     "slide_type": "skip"
    }
   },
   "outputs": [],
   "source": [
    "%load_ext autoreload\n",
    "%autoreload 2\n",
    "\"\"\"\n",
    "    Some imports used throughout the notebook\n",
    "\"\"\"\n",
    "import time\n",
    "import cpmpy\n",
    "from visualize import *\n",
    "\n",
    "from cpmpy.transformations.normalize import toplevel_list\n",
    "from cpmpy.tools.explain import make_assump_model\n",
    "from factory import *\n",
    "from read_data import get_data\n",
    "from IPython.display import clear_output\n",
    "\n",
    "import warnings\n",
    "warnings.filterwarnings('ignore')\n",
    "\n",
    "import numpy as np\n",
    "np.set_printoptions(linewidth=90)\n",
    "# preload solvers\n",
    "from cpmpy import SolverLookup\n",
    "names = SolverLookup.solvernames()\n",
    "\n",
    "import networkx as nx\n",
    "import re\n",
    "draw = lambda g,**kwargs : nx.draw_circular(g, width=5, node_size=500,**kwargs)\n",
    "cmap = [\"black\", \"yellow\", \"cyan\", \"lightgreen\", \"blue\"]\n",
    "\n",
    "def graph_highlight(graph, cons, dotted=False, **kwargs):\n",
    "    edges = []\n",
    "    for c in cons:\n",
    "        n1, n2 = c.args\n",
    "        if n1.name == \"max\": continue\n",
    "        a = int(re.search(\"\\[[0-9]*\\]\", str(n1)).group()[1:-1])\n",
    "        b = int(re.search(\"\\[[0-9]*\\]\", str(n2)).group()[1:-1])\n",
    "        edges.append((a,b))\n",
    "        \n",
    "    colors = [\"red\" if (a,b) in edges else \"black\" for (a,b) in graph.edges()]\n",
    "    linestyles = [\"dotted\" if c == \"red\" and dotted else \"solid\" for c in colors]\n",
    "    return draw(graph, edge_color=colors, style=linestyles, **kwargs)"
   ]
  },
  {
   "cell_type": "markdown",
   "metadata": {
    "pycharm": {
     "name": "#%% md\n"
    },
    "slideshow": {
     "slide_type": "slide"
    }
   },
   "source": [
    "## Explainable Constraint Solving - A Hands-On Tutorial @ ECAI-2024\n",
    "### Ignace Bleukx, Dimos Tsouros, Tias Guns\n",
    "\n",
    "#### KU Leuven, Belgium\n",
    "\n",
    "<p>&nbsp;</p>\n",
    "\n",
    "<table><tr style=\"background: white;\">\n",
    "    <td>&nbsp;</td>\n",
    "    <td style=\"text-align: center; vertical-align: middle;\"><img src=\"img/kul.jpg\" width=45%></td>\n",
    "    <td style=\"text-align: center; vertical-align: middle;\"><img src=\"img/tuples_logo.jpeg\" width=45%></td>\n",
    "    <td style=\"text-align: center; vertical-align: middle;\"><img src=\"img/erc.jpg\" width=45%></td>\n",
    "</tr></table>\n",
    "\n",
    "<!-- Thanks to Bart Bogaerts, Emilio Gamba and Jo Devriendt -->"
   ]
  },
  {
   "cell_type": "markdown",
   "metadata": {
    "pycharm": {
     "name": "#%% md\n"
    },
    "slideshow": {
     "slide_type": "-"
    }
   },
   "source": [
    "\n",
    "<small>This presentation is an executable Jupyter notebook</small>\n",
    "\n",
    "Link to slides and more examples: https://github.com/CPMpy/XCP-explain"
   ]
  },
  {
   "cell_type": "markdown",
   "metadata": {
    "pycharm": {
     "name": "#%% md\n"
    },
    "slideshow": {
     "slide_type": "slide"
    }
   },
   "source": [
    "\n",
    "## Constraint Solving\n",
    "\n",
    "<img src=\"img/solutions_vizual.png\" width=\"45%\" align=\"right\" style=\"margin-top:100px\">\n",
    "\n",
    "Solving combinatorial optimization problems in AI\n",
    "\n",
    "- Vehicle Routing\n",
    "\n",
    "- Scheduling\n",
    "\n",
    "- Manufacturing\n",
    "\n",
    "- Other combinatorial problems ..."
   ]
  },
  {
   "cell_type": "markdown",
   "metadata": {
    "pycharm": {
     "name": "#%% md\n"
    },
    "slideshow": {
     "slide_type": "slide"
    }
   },
   "source": [
    "## Model + Solve\n",
    "\n",
    "<center><img src=\"img/prob2sol.png\" width=70%></center>"
   ]
  },
  {
   "cell_type": "markdown",
   "metadata": {
    "pycharm": {
     "name": "#%% md\n"
    },
    "slideshow": {
     "slide_type": "fragment"
    }
   },
   "source": [
    "- What if no solution is found?\n",
    "- What if the user does not _like_ the solution?\n",
    "- What if the user _expected_ a different solution?\n",
    "- ...\n"
   ]
  },
  {
   "cell_type": "markdown",
   "metadata": {
    "pycharm": {
     "name": "#%% md\n"
    },
    "slideshow": {
     "slide_type": "slide"
    }
   },
   "source": [
    "## Trustworthy & Explainable constraint solving\n",
    "\n",
    "Human-aware AI:\n",
    "\n",
    "- Respect human _agency_\n",
    "- _Support_ users in decision making\n",
    "- Provide explanations and learning opportunities"
   ]
  },
  {
   "cell_type": "markdown",
   "metadata": {
    "pycharm": {
     "name": "#%% md\n"
    },
    "slideshow": {
     "slide_type": "fragment"
    }
   },
   "source": [
    "Acknowledges that a 'model' is only an approximation of the full problem,<br />\n",
    "that it might result in _undesirable_ solutions."
   ]
  },
  {
   "cell_type": "markdown",
   "metadata": {
    "pycharm": {
     "name": "#%% md\n"
    },
    "slideshow": {
     "slide_type": "slide"
    }
   },
   "source": [
    "## Hands-on Explainable Constraint Programming (XCP)\n",
    "\n",
    "\n",
    "### Part 1: Introduction to Explainable Constraint Programming\n",
    "- Constraint Solving and Explanations &#x1F4BB; &#9194;\n",
    "\n",
    "### Part 2: Explaining Satisfiability Problems\n",
    "- Deductive explanations (MUS, QuickXplain, OUS, stepwise) &#x1F4BB; \n",
    "- Counterfactual explanations (MCS & Diagnosis, FastDiag, Max-CSP, Slack-based relaxation) &#x1F4BB;\n",
    "\n",
    "### Part 3: Explaining Optimization problems\n",
    "- Multi-objective optimization and Pareto-optimal solutions\n",
    "- Deductive explanations (UNSAT-based)\n",
    "- Counterfactual explanations (UNSAT-based, inverse optimization) &#x1F4BB;\n",
    "\n",
    "### Part 4: Outlook and Q&A"
   ]
  },
  {
   "cell_type": "markdown",
   "metadata": {
    "pycharm": {
     "name": "#%% md\n"
    },
    "slideshow": {
     "slide_type": "slide"
    }
   },
   "source": [
    "## Explainable Constraint Programming (XCP)\n",
    "\n",
    "In general, \"**Why X?**\" &nbsp;&nbsp;&nbsp;&nbsp;&nbsp;&nbsp; (with X a solution or UNSAT)\n",
    "\n",
    "<center><img src=\"img/interaction_figure4.png\" width=20%></center>\n",
    "\n",
    "\n",
    "<!-- Can be combined in interactive systems:\n",
    "  - _Iteratively refine explanation & model_ -->"
   ]
  },
  {
   "cell_type": "markdown",
   "metadata": {
    "pycharm": {
     "name": "#%% md\n"
    },
    "slideshow": {
     "slide_type": "slide"
    }
   },
   "source": [
    "## Explaining constraint 'propagation'?\n",
    "\n",
    "Concept from Lazy Clause Generation / CP-SAT solvers (Stuckey, 2010)\n",
    "\n",
    "\"every time a propagator determines a domain change of a variable,<br>\n",
    "it records a **clause** that _explains_ the domain change.\"\n",
    "\n",
    "- _someone_: one propagator\n",
    "- _something_: a clause (disjunction of literals)\n",
    "- to _someone_: a SAT solver, not a person\n",
    "\n",
    "#### We focus on <b>user-oriented explanations</b> involving multiple constraints."
   ]
  },
  {
   "cell_type": "markdown",
   "metadata": {
    "pycharm": {
     "name": "#%% md\n"
    },
    "slideshow": {
     "slide_type": "slide"
    }
   },
   "source": [
    "## Explainable Constraint Programming (XCP)\n",
    "\n",
    "In general, \"**Why X?**\" &nbsp;&nbsp;&nbsp;&nbsp;&nbsp;&nbsp; (with X a solution or UNSAT)\n",
    "\n",
    "<img src=\"img/interaction_figure4.png\" width=20% align=\"right\">\n",
    "\n",
    "- **Deductive explanation:**\n",
    "  - _What constraints cause X?_\n",
    "- **Counterfactual explanation**:\n",
    "  - _What to change if I want Y instead of X?_\n",
    "\n",
    "\n",
    "<!-- Can be combined in interactive systems:\n",
    "  - _Iteratively refine explanation & model_ -->"
   ]
  },
  {
   "cell_type": "markdown",
   "metadata": {
    "pycharm": {
     "name": "#%% md\n"
    },
    "slideshow": {
     "slide_type": "skip"
    }
   },
   "source": [
    "### Then what?\n",
    "\n",
    "<img src=\"img/interaction_figure4.png\" width=\"20%\" align=\"left\" style=\"margin:5%;\"/>\n",
    "\n",
    "1. User is happy with the answer <br>\n",
    "    (e.g. better understands the problem)\n",
    "2. User changes the answer and uses that <br>\n",
    "    (solution interaction; no solver involvement)\n",
    "3. User changes the model and reiterates <br>\n",
    "    (e.g. better understands how to model the problem)\n",
    "4. User interacts with interactive system <br>\n",
    "    (e.g. conversational explanations)\n",
    "\n"
   ]
  },
  {
   "cell_type": "markdown",
   "metadata": {
    "pycharm": {
     "name": "#%% md\n"
    },
    "slideshow": {
     "slide_type": "slide"
    }
   },
   "source": [
    "# Example XCP interaction\n",
    "\n",
    "Toy example, graph coloring:"
   ]
  },
  {
   "cell_type": "code",
   "execution_count": null,
   "metadata": {
    "pycharm": {
     "name": "#%%\n"
    },
    "slideshow": {
     "slide_type": "-"
    }
   },
   "outputs": [],
   "source": [
    "G = nx.fast_gnp_random_graph(5, 0.8, seed=0)\n",
    "draw(G)"
   ]
  },
  {
   "cell_type": "markdown",
   "metadata": {
    "pycharm": {
     "name": "#%% md\n"
    },
    "slideshow": {
     "slide_type": "fragment"
    }
   },
   "source": [
    "Assigning colors to the nodes of a graph, such that no two _adjacent_ nodes share the same color,c and the number of colors is minimized.\n",
    "\n",
    "(real example: assign each booking request (node) to a room (color) such that no temporally overlapping requests use the same room)"
   ]
  },
  {
   "cell_type": "markdown",
   "metadata": {
    "pycharm": {
     "name": "#%% md\n"
    },
    "slideshow": {
     "slide_type": "slide"
    }
   },
   "source": [
    "# Modeling Minimum Graph Coloring as a CP problem\n",
    "\n",
    "* Decision variables:<br> $x_i \\in \\{1..\\text{max_colors}\\} \\quad \\forall i \\in \\{1..N\\}$\n",
    "* Constraints:<br> $x_i \\neq x_j \\quad \\forall (i,j) \\in \\text{Edges}$\n",
    "* Objective:<br> minimize $max(x)$"
   ]
  },
  {
   "cell_type": "code",
   "execution_count": null,
   "metadata": {
    "pycharm": {
     "name": "#%%\n"
    },
    "slideshow": {
     "slide_type": "fragment"
    }
   },
   "outputs": [],
   "source": [
    "def graph_coloring(G, max_colors=None):\n",
    "    n = G.number_of_nodes()\n",
    "    if max_colors is None:\n",
    "        max_colors = n  # upper bound: all distinct\n",
    "    \n",
    "    x = cp.intvar(1, max_colors, shape=n, name=\"x\")\n",
    "    m = cp.Model(\n",
    "        [x[i] != x[j] for i,j in G.edges()],\n",
    "        minimize=cp.max(x)\n",
    "    )\n",
    "    return m, x"
   ]
  },
  {
   "cell_type": "markdown",
   "metadata": {
    "pycharm": {
     "name": "#%% md\n"
    },
    "slideshow": {
     "slide_type": "skip"
    }
   },
   "source": [
    "## Multiple high-level constraint programming languages exist\n",
    "\n",
    "We will use the CPMpy modeling library in Python for this presentation\n",
    "\n",
    "<center><img src=\"img/cpmpy-intro.png\" style=\"max-width: 70%;\" /></center>\n"
   ]
  },
  {
   "cell_type": "markdown",
   "metadata": {
    "pycharm": {
     "name": "#%% md\n"
    },
    "slideshow": {
     "slide_type": "slide"
    }
   },
   "source": [
    "## The system: http://cpmpy.readthedocs.io\n",
    "\n",
    "CPMpy is a Constraint Programming and Modeling library in Python, <br /> based on numpy, with direct solver access. <br /> \n",
    "\n",
    "**Language**:\n",
    "- Boolean and Integer variables\n",
    "- Logical and Arithmetic constraints\n",
    "- 'Global Constraints' (AllDifferent, Cumulative, Element, Abs, Max, Min, ...)\n",
    "- Arbitrary nesting and reification of expressions\n",
    "\n",
    "**Features** used in this tutorial:\n",
    "\n",
    "- Easy integration with visualisation tools (pandas, matplotlib)\n",
    "- Object-oriented programming (constraints are Python objects we can create, copy, update)\n",
    "- Repeatedly solving subsets of constraints (assumption variables)\n",
    "- Incremental solving (e.g. SAT, MIP/Hitting set)\n",
    "\n"
   ]
  },
  {
   "cell_type": "markdown",
   "metadata": {
    "pycharm": {
     "name": "#%% md\n"
    },
    "slideshow": {
     "slide_type": "slide"
    }
   },
   "source": [
    "## Solver-independent modeling library\n",
    "\n",
    "Incremental solving (&amp; transformations):\n",
    "\n",
    "<center><img src=\"img/cpmpy_transformations.png\" style=\"max-width: 70%;\" /></center>"
   ]
  },
  {
   "cell_type": "markdown",
   "metadata": {
    "pycharm": {
     "name": "#%% md\n"
    },
    "slideshow": {
     "slide_type": "slide"
    }
   },
   "source": [
    "# Modeling Minimal Graph Coloring as a CP problem\n",
    "\n",
    "### Lets color the graph..."
   ]
  },
  {
   "cell_type": "code",
   "execution_count": null,
   "metadata": {
    "pycharm": {
     "name": "#%%\n"
    },
    "scrolled": false,
    "slideshow": {
     "slide_type": "-"
    }
   },
   "outputs": [],
   "source": [
    "m, nodes = graph_coloring(G, max_colors=None)\n",
    "if m.solve():\n",
    "    print(m.status())\n",
    "    print(f\"Found optimal coloring with {m.objective_value()} colors\")\n",
    "    draw(G, node_color=[cmap[v.value()] for v in nodes])\n",
    "else:\n",
    "    print(\"No solution found.\")"
   ]
  },
  {
   "cell_type": "markdown",
   "metadata": {
    "pycharm": {
     "name": "#%% md\n"
    },
    "slideshow": {
     "slide_type": "skip"
    }
   },
   "source": [
    "# Example XCP interaction"
   ]
  },
  {
   "cell_type": "code",
   "execution_count": null,
   "metadata": {
    "pycharm": {
     "name": "#%%\n"
    },
    "slideshow": {
     "slide_type": "skip"
    }
   },
   "outputs": [],
   "source": [
    "print(f\"Found optimal coloring with {m.objective_value()} colors\")\n",
    "draw(G, node_color=[cmap[n.value()] for n in nodes])"
   ]
  },
  {
   "cell_type": "markdown",
   "metadata": {
    "pycharm": {
     "name": "#%% md\n"
    },
    "slideshow": {
     "slide_type": "fragment"
    }
   },
   "source": [
    "<img src=\"img/why.png\" width=\"15%\" align=\"left\" style=\"margin-top:-40px; margin-right:50px; margin-left: 300px\">\n",
    "yes... but why do we need 4? "
   ]
  },
  {
   "cell_type": "markdown",
   "metadata": {
    "pycharm": {
     "name": "#%% md\n"
    },
    "slideshow": {
     "slide_type": "slide"
    }
   },
   "source": [
    "# Example XCP interaction\n",
    "\n",
    "## _Why_ do we need at least 4 colors?\n",
    "\n",
    "**Deductive** explanation: pinpoint to constraints _causing_ this fact"
   ]
  },
  {
   "cell_type": "code",
   "execution_count": null,
   "metadata": {
    "pycharm": {
     "name": "#%%\n"
    },
    "slideshow": {
     "slide_type": "fragment"
    }
   },
   "outputs": [],
   "source": [
    "from cpmpy.tools.explain import mus\n",
    "\n",
    "m, nodes = graph_coloring(G, max_colors=3)  # less than 4?\n",
    "\n",
    "if m.solve() is False:\n",
    "    conflict = mus(m.constraints)  # Minimal Unsatisfiable Subset\n",
    "    print(\"UNSAT is caused by the following constraint(s):\")\n",
    "    graph_highlight(G, conflict)"
   ]
  },
  {
   "cell_type": "markdown",
   "metadata": {
    "pycharm": {
     "name": "#%% md\n"
    },
    "slideshow": {
     "slide_type": "slide"
    }
   },
   "source": [
    "# Example XCP interaction\n",
    "\n",
    "## _Why_ do we need at least 4 colors?\n",
    "\n",
    "**Counterfactual** explanation: pinpoint to constraint *changes* that would allow, e.g. 3 colors"
   ]
  },
  {
   "cell_type": "code",
   "execution_count": null,
   "metadata": {
    "pycharm": {
     "name": "#%%\n"
    },
    "scrolled": false,
    "slideshow": {
     "slide_type": "fragment"
    }
   },
   "outputs": [],
   "source": [
    "from cpmpy.tools.explain import mcs\n",
    "\n",
    "m, nodes = graph_coloring(G, max_colors=3)  # less than 4?\n",
    "\n",
    "if m.solve() is False:    \n",
    "    corr = mcs(m.constraints)  # Minimal Correction Subset\n",
    "    print(\"UNSAT can be resolved by removing the following constraint(s):\")\n",
    "    graph_highlight(G, corr, dotted=True)"
   ]
  },
  {
   "cell_type": "markdown",
   "metadata": {
    "pycharm": {
     "name": "#%% md\n"
    },
    "slideshow": {
     "slide_type": "slide"
    }
   },
   "source": [
    "# Example XCP interaction\n",
    "\n",
    "## _Why_ do we need 4 colors?\n",
    "\n",
    "**Counterfactual** explanation: pinpoint to constraint *changes* that would allow, e.g. 3 colors\n",
    "\n",
    "Can now compute the counterfactual solution:"
   ]
  },
  {
   "cell_type": "code",
   "execution_count": null,
   "metadata": {
    "pycharm": {
     "name": "#%%\n"
    },
    "slideshow": {
     "slide_type": "fragment"
    }
   },
   "outputs": [],
   "source": [
    "# compute and visualise counter-factual solution\n",
    "m2 = cp.Model([c for c in m.constraints if c not in corr])\n",
    "m2.solve()\n",
    "graph_highlight(G, corr, node_color=[cmap[n.value()] for n in nodes], dotted=True)"
   ]
  },
  {
   "cell_type": "markdown",
   "metadata": {
    "pycharm": {
     "name": "#%% md\n"
    },
    "slideshow": {
     "slide_type": "slide"
    }
   },
   "source": [
    "# Applications of explanation techniques\n",
    "\n",
    "> \"Sudoku Assistant–an AI-Powered App to Help Solve Pen-And-Paper Sudokus\", AAAI-2023 Best Demo Award, Tias Guns, Emilio Gamba, Maxime Mulamba, Ignace Bleukx, Senne Berden, and Milan Pesa.\n",
    "\n",
    "<center><img src=\"img/app_explanations.png\"  style=\"max-width: 80%;\"></center>"
   ]
  },
  {
   "cell_type": "markdown",
   "metadata": {},
   "source": [
    "# Applications of explanation techniques\n",
    "\n",
    "> \"Human-centred feasibility restoration in practice\", CP 2021, Ilankaikone Senthooran, Gleb Belov, Kevin Leo, Michael Wybrow, Matthias Klapperstueck, Tobias Czauderna, Mark Wallace, and Maria Garcia De La Banda.\n",
    "\n",
    "<center><img src=\"img/plant_layout_expl.png\"  style=\"max-width: 80%;\"></center>"
   ]
  },
  {
   "cell_type": "markdown",
   "metadata": {},
   "source": [
    "# Applications of explanation techniques\n",
    "\n",
    "> \"Trustworthy and Explainable Decision-Making for Workforce Allocation\", CP 2024 PTHG workshop, Guillaume Povéda, Andreas Strahl, Mark Hall, Ryma Boumazouza, Santiago Quintana-Amate, Nahum Alvarez, Ignace Bleukx, Dimos Tsouros, Hélène Verhaeghe, Tias Guns.\n",
    "\n",
    "Workforce allocation (e.g. moving airplane parts in an Airbus factory site)\n",
    "\n",
    "<center><img src=\"img/task_alloc_expl.png\"  style=\"max-width: 80%;\"></center>"
   ]
  },
  {
   "cell_type": "markdown",
   "metadata": {
    "pycharm": {
     "name": "#%% md\n"
    },
    "slideshow": {
     "slide_type": "slide"
    }
   },
   "source": [
    "### Relation to Explainable AI (XAI) at large\n",
    "\n",
    "#### D. Gunning, 2015: DARPA XAI challenge\n",
    "\"Every explanation is set within a context that depends...\" <!-- on the task, abilities, and expectations of the user of the AI system.\" --> -> domain dependent\n",
    "\n",
    "#### M. Fox et al, 2017: Explainable Planning\n",
    "\n",
    "Need for trust, interaction and transparancy.\n",
    "\n",
    "#### T. Miller, 2018: Explainable AI: Beware of Inmates Running the Asylum\n",
    "\n",
    "Insights from the social sciences: _Someone_ explains _something_ to _someone_\n",
    "\n",
    "#### R. Guidotti, 2018: A survey of methods for explaining black box ML models\n",
    "\n",
    "The vast majority of work/attention..."
   ]
  },
  {
   "cell_type": "markdown",
   "metadata": {
    "pycharm": {
     "name": "#%% md\n"
    },
    "slideshow": {
     "slide_type": "slide"
    }
   },
   "source": [
    "## Formal XAI\n",
    "\n",
    "**J. Marques-Silva, A. Ignatiev, AAAI-2022: Delivering Trustworthy AI through Formal XAI**\n",
    "\n",
    "... best known XAI approaches (in ML) fail to provide sound explanations or exhibit significant redundance ...\n",
    "\n",
    "\"Formal explanations are not only sound but guarantee irredundancy.\"\n",
    "\n",
    "$ $\n",
    "\n",
    "**All formal XAI methods** relate back to two crucial concepts and related meta-algorithms:\n",
    "\n",
    "* Minimal Unsatisfiable Subset (MUS)\n",
    "* Minimal Correction Subset (MCS)\n",
    "\n",
    "What conceptually changes is the **set of what**..."
   ]
  },
  {
   "cell_type": "markdown",
   "metadata": {
    "pycharm": {
     "name": "#%% md\n"
    },
    "slideshow": {
     "slide_type": "slide"
    }
   },
   "source": [
    "## Formal XAI\n",
    "\n",
    "**All formal XAI methods** relate back to two crucial concepts and related meta-algorithms.\n",
    "\n",
    "What conceptually changes is the **set of what** (and the solvers underneath):\n",
    "\n",
    "### In Constraint Solving: [Liffiton et al, 2008]\n",
    "\n",
    "* Deductive Explanations: e.g. Minimal Unsatisfiable Subset **of constraints**\n",
    "* Contrastive Explanations: e.g. Minimal Correction Subset **of constraints**\n",
    "\n",
    "### In Machine Learning [Marques-Silva et al, 2022]\n",
    "\n",
    "* Abductive Explanations (AXp's), PI-explanations, sufficient reasons: e.g. Minimal Unsatisfiable Subset **of feature assignments**\n",
    "\n",
    "* Contrastive Explanations (CXp's): e.g. Minimal Correction Subset **of feature assignments**\n",
    "\n",
    "### In Planning: [Eiffler et al, 2020]\n",
    "\n",
    "* Minimal Unsatisfiable Subset **of unsolvable goals**\n",
    "* Minimal Correction Subset **of unsolvable goals**\n"
   ]
  },
  {
   "cell_type": "markdown",
   "metadata": {
    "cell_style": "center",
    "pycharm": {
     "name": "#%% md\n"
    },
    "slideshow": {
     "slide_type": "skip"
    }
   },
   "source": [
    "## Running example in this talk: Nurse Scheduling\n",
    "\n",
    "* The assignment of _shifts_ and _holidays_ to nurses.\n",
    "* Each nurse has their own restrictions and preferences,\n",
    "    as does the hospital."
   ]
  },
  {
   "cell_type": "markdown",
   "metadata": {
    "pycharm": {
     "name": "#%% md\n"
    },
    "slideshow": {
     "slide_type": "skip"
    }
   },
   "source": [
    "### hospital constraints:\n",
    "\n",
    "<img src=\"img/nurse_rost_prob.jpg\" align=\"right\">\n",
    "\n",
    "* nb of shifts required on each day\n",
    "* max nb of shifts per nurse\n",
    "* max nb of weekend shifts\n",
    "* min/max consecutive shifts\n",
    "\n",
    "### nurse constraints / preferences:\n",
    "\n",
    "* specific days off-duty\n",
    "* specific shift requests (on/off)"
   ]
  },
  {
   "cell_type": "markdown",
   "metadata": {
    "pycharm": {
     "name": "#%% md\n"
    },
    "slideshow": {
     "slide_type": "slide"
    }
   },
   "source": [
    "## Running example in this talk: Nurse Scheduling\n",
    "\n",
    "* The assignment of _shifts_ and _holidays_ to nurses.\n",
    "* Each nurse has their own restrictions and preferences,\n",
    "    as does the hospital."
   ]
  },
  {
   "cell_type": "code",
   "execution_count": null,
   "metadata": {
    "pycharm": {
     "name": "#%%\n"
    },
    "slideshow": {
     "slide_type": "-"
    }
   },
   "outputs": [],
   "source": [
    "instance = \"Benchmarks/Instance1.txt\"  # \"http://www.schedulingbenchmarks.org/nrp/data/Instance1.txt\"\n",
    "data = get_data(instance)"
   ]
  },
  {
   "cell_type": "markdown",
   "metadata": {
    "pycharm": {
     "name": "#%% md\n"
    },
    "slideshow": {
     "slide_type": "skip"
    }
   },
   "source": [
    "## Nurse Rostering: data\n",
    "\n",
    "Instances from http://www.schedulingbenchmarks.org/\n",
    "\n",
    "\"benchmark test instances from various sources including industrial collaborators and scientific publications.\"\n",
    "\n",
    "<!-- 7 types of hospital constraints, 2 types of nurse constraints -->"
   ]
  },
  {
   "cell_type": "code",
   "execution_count": null,
   "metadata": {
    "pycharm": {
     "name": "#%%\n"
    },
    "slideshow": {
     "slide_type": "fragment"
    }
   },
   "outputs": [],
   "source": [
    "print(\"Nr of days to schedule:\", data.horizon)\n",
    "print(\"Nr of shift types:\", len(data.shifts))\n",
    "\n",
    "print(\"Staff holidays:\")\n",
    "pd.merge(data.days_off, data.staff[[\"# ID\",\"name\"]], left_on=\"EmployeeID\", right_on=\"# ID\", how=\"left\")"
   ]
  },
  {
   "cell_type": "code",
   "execution_count": null,
   "metadata": {
    "pycharm": {
     "name": "#%%\n"
    },
    "slideshow": {
     "slide_type": "slide"
    }
   },
   "outputs": [],
   "source": [
    "factory = NurseSchedulingFactory(data)\n",
    "model, nurse_view = factory.get_optimization_model()  # CPMpy model with all constraints\n",
    "\n",
    "model.solve(solver=\"ortools\")\n",
    "visualize(nurse_view.value(), factory)  # live decorated dataframe"
   ]
  },
  {
   "cell_type": "markdown",
   "metadata": {
    "pycharm": {
     "name": "#%% md\n"
    },
    "slideshow": {
     "slide_type": "slide"
    }
   },
   "source": [
    "## Outline of the tutorial\n",
    "\n",
    "### Part 1: Introduction to Explainable Constraint Programming\n",
    "- Constraint Solving and Explanations &#x1F4BB; &#9194; \n",
    "\n",
    "### Part 2: Explaining Satisfiability Problems\n",
    "- Deductive explanations (MUS, QuickXplain, OUS, stepwise) &#x1F4BB;\n",
    "- Counterfactual explanations (MCS & Diagnosis, FastDiag, Max-CSP, Slack-based relaxation) &#x1F4BB;\n",
    "\n",
    "### Part 3: Explaining Optimization problems\n",
    "- Multi-objective optimization and Pareto-optimal solutions\n",
    "- Deductive explanations (UNSAT-based)\n",
    "- Counterfactual explanations (UNSAT-based, inverse optimization) &#x1F4BB;\n",
    "\n",
    "### Part 4: Outlook and Q&A\n"
   ]
  },
  {
   "cell_type": "markdown",
   "metadata": {
    "pycharm": {
     "name": "#%% md\n"
    },
    "slideshow": {
     "slide_type": "slide"
    }
   },
   "source": [
    "## Hands-on: exploring graph coloring explanations\n",
    "\n",
    "https://github.com/CPMpy/XCP-explain\n",
    "\n",
    "Notebook: XXX\n",
    "\n",
    "(also through Google Colab, no installation needed!)"
   ]
  },
  {
   "cell_type": "markdown",
   "metadata": {
    "pycharm": {
     "name": "#%% md\n"
    },
    "slideshow": {
     "slide_type": "slide"
    }
   },
   "source": [
    "## Outline of the tutorial\n",
    "\n",
    "### Part 1: Introduction to Explainable Constraint Programming\n",
    "- Constraint Solving and Explanations &#x1F4BB;\n",
    "\n",
    "### Part 2: Explaining Satisfiability Problems\n",
    "- Deductive explanations (MUS, QuickXplain, OUS, stepwise) &#9194; &#x1F4BB;\n",
    "- Counterfactual explanations (MCS & Diagnosis, FastDiag, Max-CSP, Slack-based relaxation) &#x1F4BB;\n",
    "\n",
    "### Part 3: Explaining Optimization problems\n",
    "- Multi-objective optimization and Pareto-optimal solutions\n",
    "- Deductive explanations (UNSAT-based)\n",
    "- Counterfactual explanations (UNSAT-based, inverse optimization) &#x1F4BB;\n",
    "\n",
    "### Part 4: Outlook and Q&A\n"
   ]
  },
  {
   "cell_type": "markdown",
   "metadata": {
    "pycharm": {
     "name": "#%% md\n"
    },
    "slideshow": {
     "slide_type": "slide"
    }
   },
   "source": [
    "# Deductive explanations\n",
    "\n",
    "_What constraints cause X?_\n",
    "\n",
    "Explain _why_ X is a logical consequence of (part of) the input.\n",
    "\n",
    "E.g.,\n",
    "- _why_ is there no solution\n",
    "- _why_ does an assignment follow from the constraints\n",
    "- _..._"
   ]
  },
  {
   "cell_type": "markdown",
   "metadata": {
    "pycharm": {
     "name": "#%% md\n"
    },
    "slideshow": {
     "slide_type": "fragment"
    }
   },
   "source": [
    "All these cases can typically be reduced to explaining UNSAT.\n",
    "\n",
    "Example, explain why _fact_ follows from constraints _C_:\n",
    "\n",
    "$\\quad\\quad C \\models \\mathit{fact} \\quad\\Leftrightarrow\\quad C \\wedge \\neg \\mathit{fact} \\models \\bot$"
   ]
  },
  {
   "cell_type": "markdown",
   "metadata": {
    "pycharm": {
     "name": "#%% md\n"
    },
    "slideshow": {
     "slide_type": "slide"
    }
   },
   "source": [
    "## Nurse rosterering, explaining unsatisfiability\n",
    "\n",
    "\n",
    "<img src=\"img/explain_unsat.png\" width=\"15%\" align=\"left\" style=\"margin:50px;\">\n",
    "\n",
    "* Model nurse rostering problem as decision problem <br>\n",
    "    (no objective)\n",
    "        \n",
    "* Nurse **preferences** are also hard constraints"
   ]
  },
  {
   "cell_type": "code",
   "execution_count": null,
   "metadata": {
    "pycharm": {
     "name": "#%%\n"
    },
    "slideshow": {
     "slide_type": "fragment"
    }
   },
   "outputs": [],
   "source": [
    "# model as decision model\n",
    "factory = NurseSchedulingFactory(data)\n",
    "model, nurse_view = factory.get_decision_model()  # CMPpy DECISION Model\n",
    "model.solve()"
   ]
  },
  {
   "cell_type": "markdown",
   "metadata": {
    "pycharm": {
     "name": "#%% md\n"
    },
    "slideshow": {
     "slide_type": "fragment"
    }
   },
   "source": [
    "... no solution found"
   ]
  },
  {
   "cell_type": "code",
   "execution_count": null,
   "metadata": {
    "pycharm": {
     "name": "#%%\n"
    },
    "scrolled": true,
    "slideshow": {
     "slide_type": "slide"
    }
   },
   "outputs": [],
   "source": [
    "print(f\"Model has {len(model.constraints)} constraints:\")\n",
    "for cons in model.constraints: print(\"-\", cons)"
   ]
  },
  {
   "cell_type": "markdown",
   "metadata": {
    "pycharm": {
     "name": "#%% md\n"
    },
    "slideshow": {
     "slide_type": "slide"
    }
   },
   "source": [
    "## Deductive Explanations for UNSAT problems\n",
    "\n",
    "The set of all constraints is unsatisfiable.\n",
    "\n",
    "<img src=\"img/allcons.png\" width=\"20%\" float=\"right\" style=\"margin:50px;\">\n"
   ]
  },
  {
   "cell_type": "markdown",
   "metadata": {
    "pycharm": {
     "name": "#%% md\n"
    },
    "slideshow": {
     "slide_type": "fragment"
    }
   },
   "source": [
    "But do all constraints contribute to this?"
   ]
  },
  {
   "cell_type": "markdown",
   "metadata": {
    "pycharm": {
     "name": "#%% md\n"
    },
    "slideshow": {
     "slide_type": "slide"
    }
   },
   "source": [
    "## Deductive Explanations for UNSAT problems\n",
    "\n",
    "### Minimal Unsatisfiable Subset (MUS)\n",
    "\n",
    "<img src=\"img/mus.png\" width=\"20%\" align=\"left\" style=\"margin:50px;\">\n",
    "\n",
    "Pinpoint to constraints causing a conflict\n",
    "\n",
    "... trim model to a minimal set of constraints\n",
    "\n",
    "... minimize cognitive burden for user\n"
   ]
  },
  {
   "cell_type": "markdown",
   "metadata": {
    "pycharm": {
     "name": "#%% md\n"
    },
    "slideshow": {
     "slide_type": "slide"
    }
   },
   "source": [
    "### How to compute a MUS?\n",
    "\n",
    "Deletion-based MUS algorithm\n",
    "\n",
    "_[Joao Marques-Silva. Minimal Unsatisfiability: Models, Algorithms and Applications. ISMVL 2010. pp. 9-14]_"
   ]
  },
  {
   "cell_type": "code",
   "execution_count": null,
   "metadata": {
    "pycharm": {
     "name": "#%%\n"
    },
    "slideshow": {
     "slide_type": "fragment"
    }
   },
   "outputs": [],
   "source": [
    "def mus_naive(constraints):\n",
    "    m = cp.Model(constraints)\n",
    "    assert m.solve() is False, \"Model should be UNSAT\"\n",
    "    \n",
    "    core = constraints\n",
    "    i = 0\n",
    "    while i < len(core):\n",
    "        print(f\"\\rLeaving out constraint {i}:\", core[i], end=\"\\t\"*5)\n",
    "        subcore = core[:i] + core[i+1:]\n",
    "        if cp.Model(subcore).solve():\n",
    "            i += 1 # removing makes it SAT, need to keep\n",
    "        else:\n",
    "            core = subcore # can safely delete \n",
    "    print()\n",
    "    return core"
   ]
  },
  {
   "cell_type": "markdown",
   "metadata": {
    "pycharm": {
     "name": "#%% md\n"
    },
    "slideshow": {
     "slide_type": "slide"
    }
   },
   "source": [
    "### How to compute a MUS?\n",
    "\n",
    "Deletion-based MUS algorithm\n",
    "\n",
    "<img src=\"img/order_delmus.png\" width=\"85%\">\n"
   ]
  },
  {
   "cell_type": "markdown",
   "metadata": {
    "pycharm": {
     "name": "#%% md\n"
    },
    "slideshow": {
     "slide_type": "slide"
    }
   },
   "source": [
    "### How to compute a MUS, <u>efficiently</u>?"
   ]
  },
  {
   "cell_type": "code",
   "execution_count": null,
   "metadata": {
    "pycharm": {
     "name": "#%%\n"
    },
    "slideshow": {
     "slide_type": "-"
    }
   },
   "outputs": [],
   "source": [
    "# t0 = time.time()\n",
    "# core = mus_naive(model.constraints)\n",
    "# print(f\"Naive MUS took {time.time()-t0} seconds\")"
   ]
  },
  {
   "cell_type": "code",
   "execution_count": null,
   "metadata": {
    "pycharm": {
     "name": "#%%\n"
    }
   },
   "outputs": [],
   "source": [
    "from cpmpy.tools.explain import mus\n",
    "\n",
    "t0 = time.time()\n",
    "core = mus(model.constraints, solver=\"exact\")\n",
    "print(f\"Assumption-based MUS took {time.time()-t0} seconds\")"
   ]
  },
  {
   "cell_type": "markdown",
   "metadata": {
    "pycharm": {
     "name": "#%% md\n"
    },
    "slideshow": {
     "slide_type": "skip"
    }
   },
   "source": [
    "### How to compute a MUS, <u>efficiently</u>?"
   ]
  },
  {
   "cell_type": "code",
   "execution_count": null,
   "metadata": {
    "pycharm": {
     "name": "#%%\n"
    },
    "slideshow": {
     "slide_type": "skip"
    }
   },
   "outputs": [],
   "source": [
    "def mus_assum(constraints, solver=\"ortools\"):\n",
    "    # add indicator variable per expression\n",
    "    constraints = toplevel_list(constraints, merge_and=False)\n",
    "    assump = cp.boolvar(shape=len(constraints), name=\"assump\")  # Boolean indicators\n",
    "    m = cp.Model(assump.implies(constraints))  # [assump[i] -> constraints[i] for all i]\n",
    "    \n",
    "    s = cp.SolverLookup.get(solver, model)\n",
    "    assert s.solve(assumptions=assump) is False, \"Model should be UNSAT\"\n",
    "\n",
    "    core = s.get_core()  # start from solver's UNSAT core of assumption variables\n",
    "    i = 0\n",
    "    while i < len(core):\n",
    "        subcore = core[:i] + core[i+1:]  # try all but constraint 'i'\n",
    "        if s.solve(assumptions=subcore) is True:\n",
    "            i += 1  # removing 'i' makes it SAT, need to keep for UNSAT\n",
    "        else:\n",
    "            core = subcore\n",
    "    return [c for c,var in zip(constraints,assump) if var in core]"
   ]
  },
  {
   "cell_type": "markdown",
   "metadata": {
    "pycharm": {
     "name": "#%% md\n"
    },
    "slideshow": {
     "slide_type": "slide"
    }
   },
   "source": [
    "### How to compute a MUS, <u>efficiently</u>?\n",
    "\n",
    "<center><img src=\"img/mus_assum.png\" style=\"max-width: 85%;\" /></center>"
   ]
  },
  {
   "cell_type": "markdown",
   "metadata": {
    "pycharm": {
     "name": "#%% md\n"
    },
    "slideshow": {
     "slide_type": "slide"
    }
   },
   "source": [
    "### How to compute a MUS, <u>efficiently</u>?\n",
    "\n",
    "Assumption-based incremental solving **only for Boolean SAT** problems?"
   ]
  },
  {
   "cell_type": "markdown",
   "metadata": {
    "pycharm": {
     "name": "#%% md\n"
    },
    "slideshow": {
     "slide_type": "fragment"
    }
   },
   "source": [
    "<b>No!</b>\n",
    "\n",
    "* SMT solvers: <i>SAT Module Theories with CDCL</i> (e.g. Z3)\n",
    "* CP-solvers: <i>Lazy Clause Generation</i> (e.g. OR-Tools)\n",
    "* Pseudo-Boolean solvers: <i>Conflict-Driven Cutting Plane Learning</i> (e.g. Exact)\n",
    "* MaxSAT solvers: <i>Core-guided solvers</i>"
   ]
  },
  {
   "cell_type": "markdown",
   "metadata": {
    "pycharm": {
     "name": "#%% md\n"
    },
    "slideshow": {
     "slide_type": "slide"
    }
   },
   "source": [
    "### Running example\n",
    "\n",
    "MUS explanation of why the nurse rostering instance is UNSAT\n"
   ]
  },
  {
   "cell_type": "code",
   "execution_count": null,
   "metadata": {
    "pycharm": {
     "name": "#%%\n"
    },
    "slideshow": {
     "slide_type": "fragment"
    }
   },
   "outputs": [],
   "source": [
    "from cpmpy.tools.mus import mus\n",
    "\n",
    "solver = \"ortools\" # change to \"exact\" for incremental\n",
    "subset = mus(model.constraints, solver=solver) \n",
    "\n",
    "print(\"Length of MUS:\", len(subset))\n",
    "for cons in subset: print(\"-\", cons)"
   ]
  },
  {
   "cell_type": "markdown",
   "metadata": {
    "pycharm": {
     "name": "#%% md\n"
    },
    "slideshow": {
     "slide_type": "slide"
    }
   },
   "source": [
    "## Running example\n",
    "\n",
    "MUS explanation of why the nurse rostering instance is UNSAT"
   ]
  },
  {
   "cell_type": "code",
   "execution_count": null,
   "metadata": {
    "pycharm": {
     "name": "#%%\n"
    },
    "slideshow": {
     "slide_type": "fragment"
    }
   },
   "outputs": [],
   "source": [
    "visualize_constraints(subset, nurse_view, factory)"
   ]
  },
  {
   "cell_type": "markdown",
   "metadata": {
    "pycharm": {
     "name": "#%%\n"
    },
    "slideshow": {
     "slide_type": "slide"
    }
   },
   "source": [
    "### Many MUS'es may exist...\n",
    "\n",
    "_Liffiton, M.H., & Malik, A. (2013). Enumerating infeasibility: Finding multiple MUSes quickly. In\n",
    "Proceedings of the 10th International Conference on Integration of AI and OR Techniques in Constraint\n",
    "    Programming (CPAIOR 2013) (pp. 160–175)_"
   ]
  },
  {
   "cell_type": "code",
   "execution_count": null,
   "metadata": {
    "pycharm": {
     "name": "#%%\n"
    }
   },
   "outputs": [],
   "source": [
    "from cpmpy.tools.explain import marco\n",
    "\n",
    "solver = \"ortools\"  # default solver\n",
    "if \"exact\" in cp.SolverLookup.solvernames(): solver = \"exact\"  # fast for increment solving\n",
    "\n",
    "t0 = time.time()\n",
    "cnt = 0\n",
    "for (kind, sset) in marco(model.constraints, solver=solver, map_solver=solver):\n",
    "    if kind == \"MUS\":\n",
    "        print(\"M\", end=\"\")\n",
    "        cnt += 1\n",
    "    else: print(\".\", end=\"\") # MSS\n",
    "    \n",
    "    if time.time() - t0 > 15:  break  # for tutorial: break after 15s\n",
    "print(f\"\\nFound {cnt} MUSes in\", time.time() - t0)\n"
   ]
  },
  {
   "cell_type": "markdown",
   "metadata": {
    "pycharm": {
     "name": "#%%\n"
    },
    "slideshow": {
     "slide_type": "slide"
    }
   },
   "source": [
    "### Many MUS'es may exist...\n",
    "\n",
    "<img src=\"img/musses.png\" width=\"40%\" align=\"left\" style=\"margin-left:50px; margin-right:50px\">\n",
    "\n",
    "This problem has just 360 constraints, yet 100.000+ MUSes exist...\n",
    "\n",
    "Which one to show? \n",
    "\n",
    "Can we influence which MUS is found?"
   ]
  },
  {
   "cell_type": "markdown",
   "metadata": {
    "pycharm": {
     "name": "#%% md\n"
    },
    "slideshow": {
     "slide_type": "slide"
    }
   },
   "source": [
    "## Influencing which MUS is found?\n",
    "\n",
    "<b>QuickXPlain algorithm</b> <i>(Junker, 2004)</i>.\n",
    "Widely used, in model-based diagnosis, recommender systems, verification, and more.\n",
    "\n",
    "Divide-and-conquer given a lexicographic <i>preference</i> order over the constraints:\n",
    "\n",
    "$c_1 < c_2 < c_3 < ... < c_n$ (= have as few 'right-most' as possible)"
   ]
  },
  {
   "cell_type": "code",
   "execution_count": null,
   "metadata": {
    "pycharm": {
     "name": "#%%\n"
    },
    "slideshow": {
     "slide_type": "slide"
    }
   },
   "outputs": [],
   "source": [
    "# the order of 'soft' matters! lexicographic preference for the first ones\n",
    "def quickxplain_naive(soft, hard=[], solver=\"ortools\"):\n",
    "    model, soft, assump = make_assump_model(soft, hard)\n",
    "    s = cp.SolverLookup.get(solver, model)\n",
    "    assert s.solve(assumptions=assump) is False, \"The model should be UNSAT!\"\n",
    "\n",
    "    # the recursive call\n",
    "    def do_recursion(tocheck, other, delta):\n",
    "        print(\"@\", end=\"\")\n",
    "        if len(delta) != 0 and s.solve(assumptions=tocheck) is False:\n",
    "            # conflict is in hard constraints, no need to recurse\n",
    "            return []\n",
    "\n",
    "        if len(other) == 1:\n",
    "            # conflict is not in 'tocheck' constraints, but only 1 'other' constraint\n",
    "            return list(other)  # base case of recursion\n",
    "\n",
    "        split = len(other) // 2  # determine split point\n",
    "        more_preferred, less_preferred = other[:split], other[split:]  # split constraints into two sets\n",
    "\n",
    "        # treat more preferred part as hard and find extra constants from less preferred\n",
    "        delta2 = do_recursion(tocheck + more_preferred, less_preferred, more_preferred)\n",
    "        # find which preferred constraints exactly\n",
    "        delta1 = do_recursion(tocheck + delta2, more_preferred, delta2)\n",
    "        return delta1 + delta2\n",
    "\n",
    "    core = do_recursion([], list(assump), [])\n",
    "    dmap = dict(zip(assump, soft))\n",
    "    return [dmap[a] for a in core]\n"
   ]
  },
  {
   "cell_type": "markdown",
   "metadata": {
    "pycharm": {
     "name": "#%% md\n"
    },
    "slideshow": {
     "slide_type": "slide"
    }
   },
   "source": [
    "## Influencing which MUS is found?\n",
    "\n",
    "<b>QuickXPlain</b>: Divide-and-conquer given a lexicographic <i>preference</i> order over the constraints:\n",
    "\n",
    "&nbsp;\n",
    "\n",
    "<center><img src=\"img/quickxplain.png\" style=\"max-width: 70%;\" /></center>"
   ]
  },
  {
   "cell_type": "markdown",
   "metadata": {
    "pycharm": {
     "name": "#%% md\n"
    },
    "slideshow": {
     "slide_type": "slide"
    }
   },
   "source": [
    "## Running example\n",
    "\n",
    "<b>QuickXPlain algorithm</b> <i>(Junker, 2004)</i>.\n",
    "Widely used, in model-based diagnosis, recommender systems, verification, and more.\n",
    "\n",
    "Divide-and-conquer given a lexicographic order over the constraints"
   ]
  },
  {
   "cell_type": "code",
   "execution_count": null,
   "metadata": {
    "pycharm": {
     "name": "#%%\n"
    },
    "slideshow": {
     "slide_type": "-"
    }
   },
   "outputs": [],
   "source": [
    "from cpmpy.tools.explain import quickxplain\n",
    "\n",
    "t0 = time.time()\n",
    "subset = quickxplain_naive(sorted(model.constraints, key=lambda c: -len(str(c))), solver=\"ortools\")  # prefer complex constraints\n",
    "print(\"\\nPrefer complex (long len(str)) constraints: Length of MUS:\", len(subset))\n",
    "print(f\"(in {time.time()-t0} seconds)\")\n",
    "\n",
    "t0 = time.time()\n",
    "subset = quickxplain_naive(sorted(model.constraints, key=lambda c: len(str(c))), solver=\"ortools\")  # prefer short constraints\n",
    "print(\"\\nPrefer short len(str) constraints: Length of MUS:\", len(subset))\n",
    "print(f\"(in {time.time()-t0} seconds)\")"
   ]
  },
  {
   "cell_type": "markdown",
   "metadata": {
    "pycharm": {
     "name": "#%% md\n"
    },
    "slideshow": {
     "slide_type": "fragment"
    }
   },
   "source": [
    "Best algorithm when you have a non-incremental solver! (logarithmic nr solve calls)"
   ]
  },
  {
   "cell_type": "markdown",
   "metadata": {
    "pycharm": {
     "name": "#%% md\n"
    }
   },
   "source": [
    "## Finding a _smallest_ or _weighted smallest_ MUS?\n",
    "\n",
    "Give every constraint a weight: OUS: Optimal Unsatisfiable Subsets <i>(Gamba, Bogaerts, Guns, 2021)</i>.\n",
    "\n",
    "An extension of the **implicit hitting-set approach** for finding _smallest_ MUSes <i>(Ignatiev, Janota, Marques-Silva, 2014)\n",
    "\n",
    "<br>\n",
    "\n",
    "**Key properties we will need**:\n",
    "\n",
    "1. If a subset is SAT, can <i>grow</i> it to a Maximal Satisfiable Subset (MSS)\n",
    "2. The complement of a MSS is a Minimal Correction Subset (MCS)\n",
    "3. Theorem: A MUS is a hitting set of the MCSes (= covers at least 1 constraint in every MCS)\n",
    "\n",
    "<table><tr>\n",
    "    <td width=10%>\n",
    "        <center><img width=60% src=\"img/mcs.png\" /></center>\n",
    "    </td> \n",
    "    <td width=10%>\n",
    "        <center><img width=60% src=\"img/hittingset.png\" /></center>\n",
    "    </td>\n",
    "</tr></table>"
   ]
  },
  {
   "cell_type": "markdown",
   "metadata": {
    "pycharm": {
     "name": "#%% md\n"
    },
    "slideshow": {
     "slide_type": "slide"
    }
   },
   "source": [
    "## Optimising which MUS is found?\n",
    "\n",
    "OUS: Optimal Unsatisfiable Subsets <i>(Gamba, Bogaerts, Guns, 2021)</i>. Every constraints has a weight.\n",
    "\n",
    "1. Initialize sets-to-hit $\\mathcal{H}$   (e.g. insert one set of all constraints)\n",
    "2. Find *optimal* hitting set $S$\n",
    "3. Check if SAT: grow and take complement = MCS $K$, add to sets-to-hit $\\mathcal{H}$\n",
    "4. Repeat until UNSAT: optimal unsatisfiable subset $S$ found\n",
    "\n",
    "<center><img src=\"img/smus.png\" width=55% /></center>"
   ]
  },
  {
   "cell_type": "markdown",
   "metadata": {
    "pycharm": {
     "name": "#%% md\n"
    },
    "slideshow": {
     "slide_type": "slide"
    }
   },
   "source": [
    "## <u>Efficiently</u> optimising which MUS is found?\n",
    "\n",
    "OUS: Optimal Unsatisfiable Subsets <i>(Gamba, Bogaerts, Guns, 2021)</i>. Every constraints has a weight.\n",
    "\n",
    "&nbsp;\n",
    "\n",
    "<center><img src=\"img/smus_efficient.png\" width=65%/></center>"
   ]
  },
  {
   "cell_type": "markdown",
   "metadata": {
    "pycharm": {
     "name": "#%% md\n"
    },
    "slideshow": {
     "slide_type": "slide"
    }
   },
   "source": [
    "## Running example, nurse rostering\n",
    "\n",
    "OUS: Optimal Unsatisfiable Subsets <i>(Gamba, Bogaerts, Guns, 2021)</i>. Every constraint has a weight."
   ]
  },
  {
   "cell_type": "code",
   "execution_count": null,
   "metadata": {
    "pycharm": {
     "name": "#%%\n"
    },
    "slideshow": {
     "slide_type": "-"
    }
   },
   "outputs": [],
   "source": [
    "from cpmpy.tools.explain import optimal_mus\n",
    "\n",
    "sat_solver = \"exact\" if \"exact\" in names else \"ortools\" # incremental SAT solver\n",
    "hs_solver = \"gurobi\" if \"gurobi\" in names else \"ortools\" # incremental MIP solver\n",
    "\n",
    "small_subset = optimal_mus(model.constraints, solver=sat_solver, hs_solver=hs_solver)\n",
    "\n",
    "print(\"Length of sMUS:\", len(small_subset))\n",
    "for cons in small_subset:  \n",
    "    print(\"-\", cons)"
   ]
  },
  {
   "cell_type": "code",
   "execution_count": null,
   "metadata": {
    "pycharm": {
     "name": "#%%\n"
    },
    "slideshow": {
     "slide_type": "slide"
    }
   },
   "outputs": [],
   "source": [
    "visualize_constraints(small_subset, nurse_view, factory)"
   ]
  },
  {
   "cell_type": "markdown",
   "metadata": {
    "pycharm": {
     "name": "#%% md\n"
    },
    "slideshow": {
     "slide_type": "slide"
    }
   },
   "source": [
    "## Step-wise explanation\n",
    "\n",
    "<img src=\"img/explain_step-wise.png\" width=\"20%\" align=\"right\" style=\"margin:50px;\">\n",
    "\n",
    "- We were lucky, the SMUS is pretty understandable\n",
    "- What if its not?\n",
    "- Split a large MUS into smaller steps <br>\n",
    "  -> Step-wise Explanations\n",
    "\n",
    "> Ignace Bleukx, Jo Devriendt, Emilio Gamba, Bart Bogaerts, Tias Guns. Simplifying Step-wise Explanation Sequences. 29th International Conference on Principles and Practice of Constraint Programming (CP23), 2023."
   ]
  },
  {
   "cell_type": "markdown",
   "metadata": {
    "pycharm": {
     "name": "#%% md\n"
    },
    "slideshow": {
     "slide_type": "slide"
    }
   },
   "source": [
    "## Step-wise explanations\n",
    "\n",
    "Step-wise explanations originally proposed for explaining *satisfiable* problems (the unique solution or maximal consequence).\n",
    "\n",
    "> Bogaerts, Bart, Emilio Gamba, and Tias Guns. \"A framework for step-wise explaining how to solve constraint satisfaction problems.\" Artificial Intelligence 300 (2021): 103550.\n",
    "\n",
    "&nbsp;\n",
    "\n",
    "### Example: step-wise explaining a Sudoku assignment\n",
    "\n",
    "<center><img src=\"img/stepwise.png\" /></center>"
   ]
  },
  {
   "cell_type": "markdown",
   "metadata": {
    "pycharm": {
     "name": "#%% md\n"
    },
    "slideshow": {
     "slide_type": "slide"
    }
   },
   "source": [
    "## Step-wise explanations\n",
    "\n",
    "**Sudoku**\n",
    "- Step derives assignment\n",
    "- Stop at full assignment (solution)\n",
    "\n",
    "**UNSAT**\n",
    "- Step derives invalid assignments\n",
    "- Stop when domain is empty"
   ]
  },
  {
   "cell_type": "markdown",
   "metadata": {
    "pycharm": {
     "name": "#%% md\n"
    },
    "slideshow": {
     "slide_type": "slide"
    }
   },
   "source": [
    "## Step-wise explanations\n",
    "\n",
    "- $C$: set of all constraints\n",
    "- $I$: set of literals\n",
    "- $f$: cost function\n",
    "- $\\texttt{propagate}(C)$: full propagation  \n",
    "\n",
    "$\\texttt{Explain-One-Step}$: \n",
    "\n",
    "find optimal MUS for each remaining literal \n",
    "\n",
    "($C \\wedge \\neg l$)\n",
    "\n",
    "Select optimal one amongst the all of them\n",
    "\n",
    "<img src=\"img/stepwise_pseudo.png\" width=\"40%\" align=\"right\" style=\"margin-top:-600px;\">"
   ]
  },
  {
   "cell_type": "markdown",
   "metadata": {
    "pycharm": {
     "name": "#%% md\n"
    },
    "slideshow": {
     "slide_type": "slide"
    }
   },
   "source": [
    "## Step-wise explanations for any target\n",
    "\n",
    "Risk on redundancy in sequence\n",
    "\n",
    "<center><img src=\"img/stepwise.png\" /></center>\n",
    "\n",
    "Need filtering and __simplification__ in post-processing\n",
    "\n",
    ">Ignace Bleukx, Jo Devriendt, Emilio Gamba, Bart Bogaerts, Tias Guns. Simplifying Step-wise Explanation Sequences. 29th International Conference on Principles and Practice of Constraint Programming (CP23), 2023."
   ]
  },
  {
   "cell_type": "markdown",
   "metadata": {
    "pycharm": {
     "name": "#%% md\n"
    },
    "slideshow": {
     "slide_type": "slide"
    }
   },
   "source": [
    "### Any MUS"
   ]
  },
  {
   "cell_type": "code",
   "execution_count": null,
   "metadata": {
    "pycharm": {
     "name": "#%%\n"
    },
    "slideshow": {
     "slide_type": "-"
    }
   },
   "outputs": [],
   "source": [
    "subset = mus(model.constraints)\n",
    "\n",
    "visualize_constraints(subset, nurse_view, factory)"
   ]
  },
  {
   "cell_type": "markdown",
   "metadata": {
    "pycharm": {
     "name": "#%% md\n"
    },
    "slideshow": {
     "slide_type": "slide"
    }
   },
   "source": [
    "### Let's find a sequence of step-wise explanations of this MUS"
   ]
  },
  {
   "cell_type": "code",
   "execution_count": null,
   "metadata": {
    "pycharm": {
     "name": "#%%\n"
    },
    "slideshow": {
     "slide_type": "-"
    }
   },
   "outputs": [],
   "source": [
    "from explanations.stepwise import find_sequence\n",
    "\n",
    "seq = find_sequence(subset)"
   ]
  },
  {
   "cell_type": "code",
   "execution_count": null,
   "metadata": {
    "pycharm": {
     "name": "#%%\n"
    },
    "slideshow": {
     "slide_type": "subslide"
    }
   },
   "outputs": [],
   "source": [
    "nurse_view.clear()\n",
    "visualize_step(seq[0], nurse_view, factory)"
   ]
  },
  {
   "cell_type": "code",
   "execution_count": null,
   "metadata": {
    "pycharm": {
     "name": "#%%\n"
    },
    "slideshow": {
     "slide_type": "subslide"
    }
   },
   "outputs": [],
   "source": [
    "visualize_step(seq[1], nurse_view, factory)"
   ]
  },
  {
   "cell_type": "code",
   "execution_count": null,
   "metadata": {
    "pycharm": {
     "name": "#%%\n"
    },
    "slideshow": {
     "slide_type": "subslide"
    }
   },
   "outputs": [],
   "source": [
    "visualize_step(seq[2], nurse_view, factory)"
   ]
  },
  {
   "cell_type": "code",
   "execution_count": null,
   "metadata": {
    "pycharm": {
     "name": "#%%\n"
    },
    "slideshow": {
     "slide_type": "subslide"
    }
   },
   "outputs": [],
   "source": [
    "visualize_step(seq[3], nurse_view, factory)"
   ]
  },
  {
   "cell_type": "code",
   "execution_count": null,
   "metadata": {
    "pycharm": {
     "name": "#%%\n"
    },
    "slideshow": {
     "slide_type": "subslide"
    }
   },
   "outputs": [],
   "source": [
    "visualize_step(seq[4], nurse_view, factory)"
   ]
  },
  {
   "cell_type": "code",
   "execution_count": null,
   "metadata": {
    "pycharm": {
     "name": "#%%\n"
    },
    "slideshow": {
     "slide_type": "subslide"
    }
   },
   "outputs": [],
   "source": [
    "visualize_step(seq[5], nurse_view, factory)"
   ]
  },
  {
   "cell_type": "code",
   "execution_count": null,
   "metadata": {
    "pycharm": {
     "name": "#%%\n"
    },
    "slideshow": {
     "slide_type": "subslide"
    }
   },
   "outputs": [],
   "source": [
    "visualize_step(seq[6], nurse_view, factory)"
   ]
  },
  {
   "cell_type": "code",
   "execution_count": null,
   "metadata": {
    "pycharm": {
     "name": "#%%\n"
    },
    "slideshow": {
     "slide_type": "subslide"
    }
   },
   "outputs": [],
   "source": [
    "visualize_step(seq[7], nurse_view, factory)"
   ]
  },
  {
   "cell_type": "code",
   "execution_count": null,
   "metadata": {
    "pycharm": {
     "name": "#%%\n"
    },
    "slideshow": {
     "slide_type": "subslide"
    }
   },
   "outputs": [],
   "source": [
    "visualize_step(seq[8], nurse_view, factory)"
   ]
  },
  {
   "cell_type": "code",
   "execution_count": null,
   "metadata": {
    "pycharm": {
     "name": "#%%\n"
    },
    "slideshow": {
     "slide_type": "subslide"
    }
   },
   "outputs": [],
   "source": [
    "visualize_step(seq[9], nurse_view, factory)"
   ]
  },
  {
   "cell_type": "code",
   "execution_count": null,
   "metadata": {
    "pycharm": {
     "name": "#%%\n"
    },
    "slideshow": {
     "slide_type": "subslide"
    }
   },
   "outputs": [],
   "source": [
    "visualize_step(seq[10], nurse_view, factory)"
   ]
  },
  {
   "cell_type": "markdown",
   "metadata": {
    "pycharm": {
     "name": "#%% md\n"
    },
    "slideshow": {
     "slide_type": "subslide"
    }
   },
   "source": [
    "## Recap: deductive explanations\n",
    "\n",
    "MUS = Minimal Unsatisfiable Subset\n",
    "\n",
    "| **Algorithm**           | **Characteristics**                                                                                                                                  | **First solver call**                | **Subsequent calls**                | **Efficiency**                                                              |\n",
    "|-------------------------|------------------------------------------------------------------------------------------------------------------------------------------------------|--------------------------------|---------------------------------------|------------------------------------------------------------------------------|\n",
    "| **Deletion-based MUS**   | Trivial to implement, arbitrary MUS                                                            | All constraints except one     | Linear decrease                       | Efficient for assumption-based incremental solvers.                           |\n",
    "| **QuickXplain**          | Optional lexicographic preference over constraints.                                                                       | Half the constraints (n/2)     | Divide and conquer                  | Reasonably efficient for non-incremental solvers.                             |\n",
    "| **sMUS/OUS**             | Guaranteed smallest/optimal US. One weight per constraint.                                       | One constraint                 | Slow increase                       | Only calls solver with small subsets of constraints.            |"
   ]
  },
  {
   "cell_type": "markdown",
   "metadata": {
    "pycharm": {
     "name": "#%% md\n"
    },
    "slideshow": {
     "slide_type": "slide"
    }
   },
   "source": [
    "## Outline of the tutorial\n",
    "\n",
    "### Part 1: Introduction to Explainable Constraint Programming\n",
    "- Constraint Solving and Explanations &#x1F4BB;\n",
    "\n",
    "### Part 2: Explaining Satisfiability Problems\n",
    "- Deductive explanations (MUS, QuickXplain, OUS, stepwise) &#x1F4BB; &#9194; \n",
    "- Counterfactual explanations (MCS & Diagnosis, FastDiag, Max-CSP, Slack-based relaxation) &#x1F4BB;\n",
    "\n",
    "### Part 3: Explaining Optimization problems\n",
    "- Multi-objective optimization and Pareto-optimal solutions\n",
    "- Deductive explanations (UNSAT-based)\n",
    "- Counterfactual explanations (UNSAT-based, inverse optimization) &#x1F4BB;\n",
    "\n",
    "### Part 4: Outlook and Q&A\n"
   ]
  },
  {
   "cell_type": "markdown",
   "metadata": {
    "pycharm": {
     "name": "#%% md\n"
    },
    "slideshow": {
     "slide_type": "slide"
    }
   },
   "source": [
    "## Hands-on: exploring graph coloring explanations\n",
    "\n",
    "https://github.com/CPMpy/XCP-explain\n",
    "\n",
    "Notebook: XXX\n",
    "\n",
    "(also through Google Colab, no installation needed!)"
   ]
  },
  {
   "cell_type": "markdown",
   "metadata": {
    "pycharm": {
     "name": "#%% md\n"
    },
    "slideshow": {
     "slide_type": "slide"
    }
   },
   "source": [
    "## Outline of the tutorial\n",
    "\n",
    "### Part 1: Introduction to Explainable Constraint Programming\n",
    "- Constraint Solving and Explanations &#x1F4BB;\n",
    "\n",
    "### Part 2: Explaining Satisfiability Problems\n",
    "- Deductive explanations (MUS, QuickXplain, OUS, stepwise) &#x1F4BB;\n",
    "- Counterfactual explanations (Diagonis, Max-CSP, MCS, Slack-based relaxation) &#9194; &#x1F4BB;\n",
    "\n",
    "### Part 3: Explaining Optimization problems\n",
    "- Multi-objective optimization and Pareto-optimal solutions\n",
    "- Deductive explanations (UNSAT-based)\n",
    "- Counterfactual explanations (UNSAT-based, inverse optimization) &#x1F4BB;\n",
    "\n",
    "### Part 4: Outlook and Q&A\n"
   ]
  },
  {
   "cell_type": "markdown",
   "metadata": {
    "pycharm": {
     "name": "#%% md\n"
    },
    "slideshow": {
     "slide_type": "slide"
    }
   },
   "source": [
    "## Explainable Constraint Programming (XCP)\n",
    "\n",
    "Recap, \"**Why X?**\" &nbsp;&nbsp;&nbsp;&nbsp;&nbsp;&nbsp; (with X a solution or UNSAT)\n",
    "\n",
    "<img src=\"img/coloring_mus.png\" width=25% align=\"right\">\n",
    "\n",
    "- **Deductive explanation:**\n",
    "  - _What constraints cause X?_\n",
    "  - answer: a minimal inference set"
   ]
  },
  {
   "cell_type": "markdown",
   "metadata": {
    "pycharm": {
     "name": "#%% md\n"
    },
    "slideshow": {
     "slide_type": "fragment"
    }
   },
   "source": [
    "<img src=\"img/coloring_mcs.png\" width=25% align=\"right\">\n",
    "\n",
    "- **Counterfactual explanation**:\n",
    "  - _What to change if I want Y instead of X?_\n",
    "  - answer: a constraint relaxation + new solution"
   ]
  },
  {
   "cell_type": "markdown",
   "metadata": {
    "pycharm": {
     "name": "#%% md\n"
    },
    "slideshow": {
     "slide_type": "slide"
    }
   },
   "source": [
    "## Resolving conflicts: _\"What to change if I want a solution instead of UNSAT?\"_\n",
    "\n",
    "First idea: iteratively resolve each conflict\n",
    "\n",
    "Diagnosis: *interactively* computing and resolving conflicts\n",
    "\n",
    "> Reiter, Raymond. \"A theory of diagnosis from first principles.\" Artificial intelligence 32.1 (1987): 57-95."
   ]
  },
  {
   "cell_type": "markdown",
   "metadata": {
    "pycharm": {
     "name": "#%% md\n"
    },
    "slideshow": {
     "slide_type": "slide"
    }
   },
   "source": [
    "## Interactive conflict resolution"
   ]
  },
  {
   "cell_type": "code",
   "execution_count": null,
   "metadata": {
    "pycharm": {
     "name": "#%%\n"
    },
    "slideshow": {
     "slide_type": "-"
    }
   },
   "outputs": [],
   "source": [
    "def diagnose_naive(soft, hard=[], solver=\"ortools\"):\n",
    "    \n",
    "    cons = set(soft)\n",
    "    while cp.Model(list(cons) + hard).solve(solver=solver) is False:\n",
    "        subset = mus(soft=list(cons), hard=hard, solver=solver)  # find conflict\n",
    "        print(\"Constraints in subset\")\n",
    "        for i,c in enumerate(subset):\n",
    "            print(f\"{i}. {c}\")\n",
    "        idx = int(input(\"Which one to remove? \"))\n",
    "        # resolve conflict\n",
    "        cons.remove(subset[idx])\n",
    "        clear_output()"
   ]
  },
  {
   "cell_type": "markdown",
   "metadata": {
    "pycharm": {
     "name": "#%% md\n"
    },
    "slideshow": {
     "slide_type": "slide"
    }
   },
   "source": [
    "## Interactive conflict resolution"
   ]
  },
  {
   "cell_type": "code",
   "execution_count": null,
   "metadata": {
    "pycharm": {
     "name": "#%%\n"
    },
    "slideshow": {
     "slide_type": "-"
    }
   },
   "outputs": [],
   "source": [
    "start_interactive_mode = False\n",
    "\n",
    "if start_interactive_mode:\n",
    "    def cb_visu(core): \n",
    "        clear_output(), display(visualize_constraints(core, nurse_view, factory))\n",
    "\n",
    "    from explanations.diagnosis import diagnose, diagnose_optimal\n",
    "    corr_subset = diagnose(model.constraints, solver=\"exact\", callback=cb_visu)\n",
    "    clear_output()\n",
    "    print(\"Resolved.\")"
   ]
  },
  {
   "cell_type": "markdown",
   "metadata": {
    "pycharm": {
     "name": "#%% md\n"
    },
    "slideshow": {
     "slide_type": "slide"
    }
   },
   "source": [
    "## Counterfactual explanation of an UNSAT problem\n",
    "\n",
    "<img src=\"img/fixing_mcs.png\" width=\"20%\" align=\"left\" style=\"margin:50px;\">\n",
    "\n",
    "How to **change the model**, in order to find a solution?\n",
    "\n",
    "Previous approach may require many iterations...\n",
    "\n",
    "AND user only has __local__ information, global resolution may be sub-optimal\n",
    "\n",
    "Instead, directly find subset of _soft constraints_ to **remove** <br> "
   ]
  },
  {
   "cell_type": "markdown",
   "metadata": {
    "slideshow": {
     "slide_type": "slide"
    }
   },
   "source": [
    "## Counterfactual explanation of an UNSAT problem\n",
    "\n",
    "<img src=\"img/fixing_mcs.png\" width=\"20%\" align=\"left\" style=\"margin:50px;\">\n",
    "\n",
    "How to **change the model**, in order to find a solution?\n",
    "\n",
    "Previous approach may require many iterations...\n",
    "\n",
    "AND user only has __local__ information, global resolution may be sub-optimal\n",
    "\n",
    "Instead, directly find subset of _soft constraints_ to **remove** <br> \n",
    "\n",
    "Find __optimal__ set to remove\n",
    "\n",
    "This is textbook Max-CSP solving!"
   ]
  },
  {
   "cell_type": "markdown",
   "metadata": {
    "slideshow": {
     "slide_type": "slide"
    }
   },
   "source": [
    "### Max-CSP solving\n",
    "\n",
    "$$\n",
    "    \\mathit{maximize} \\sum w_i \\cdot b_i \n",
    "    st. b_i \\implies c_i\n",
    "$$\n",
    "\n",
    "<img src=\"img/mcs.png\" width=\"20%\" align=\"right\" style=\"margin-top:-100px;\">\n",
    "\n"
   ]
  },
  {
   "cell_type": "code",
   "execution_count": null,
   "metadata": {
    "pycharm": {
     "name": "#%%\n"
    },
    "slideshow": {
     "slide_type": "slide"
    }
   },
   "outputs": [],
   "source": [
    "indicators = cp.boolvar(shape=len(model.constraints), name=\"ind\")\n",
    "ind_model = cp.Model(indicators.implies(model.constraints))\n",
    "ind_model.maximize(indicators.sum())\n",
    "\n",
    "assert ind_model.solve() is True\n",
    "print(f\"Found optimal solution with {ind_model.objective_value()} out of {len(ind_model.constraints)} constraints\")"
   ]
  },
  {
   "cell_type": "code",
   "execution_count": null,
   "metadata": {
    "pycharm": {
     "name": "#%%\n"
    },
    "slideshow": {
     "slide_type": "slide"
    }
   },
   "outputs": [],
   "source": [
    "print(\"Removed these constraints:\")\n",
    "for c in model.constraints:\n",
    "    if c.value() is False:\n",
    "        print(\"-\", c)\n",
    "        \n",
    "print(\"Resulting solution:\")\n",
    "visualize(nurse_view.value(), factory)"
   ]
  },
  {
   "cell_type": "markdown",
   "metadata": {
    "pycharm": {
     "name": "#%% md\n"
    },
    "slideshow": {
     "slide_type": "slide"
    }
   },
   "source": [
    "### Max-CSP solving\n",
    "\n",
    "Finds an __optimal__ correction subset\n",
    "\n",
    "BUT may be hard to compute (e.g., stuck proving optimality)\n",
    "\n",
    "Instead, find non-optimal, but minimal correction subset, fast\n"
   ]
  },
  {
   "cell_type": "markdown",
   "metadata": {
    "pycharm": {
     "name": "#%% md\n"
    },
    "slideshow": {
     "slide_type": "slide"
    }
   },
   "source": [
    "### How to compute a Minimal Correction Subset of an UNSAT problem?\n",
    "\n",
    "<img src=\"img/mcs.png\" width=\"20%\" align=\"left\" style=\"margin:50px;\">\n",
    "\n",
    "\n",
    "Grow-based MCS/MSS\n",
    "\n",
    "* Start from the empty (satisfiable) set\n",
    "\n",
    "* Grow the satisable subset by adding one constraint at a time\n",
    "\n",
    "* Each constraint that causes UNSAT is in the MCS"
   ]
  },
  {
   "cell_type": "markdown",
   "metadata": {
    "pycharm": {
     "name": "#%% md\n"
    },
    "slideshow": {
     "slide_type": "slide"
    }
   },
   "source": [
    "### Grow-based MCS"
   ]
  },
  {
   "cell_type": "code",
   "execution_count": null,
   "metadata": {
    "pycharm": {
     "name": "#%%\n"
    },
    "slideshow": {
     "slide_type": "slide"
    }
   },
   "outputs": [],
   "source": [
    "def mcs_naive(constraints):\n",
    "    mss = []  # grow a satisfiable subset one-by-one\n",
    "    mcs = []  # everything else is in the minimum conflict set\n",
    "    \n",
    "    for cons in constraints:\n",
    "        if cp.Model(mss + [cons]).solve():\n",
    "            mss.append(cons)  # adding it remains SAT\n",
    "        else:\n",
    "            mcs.append(cons)  # UNSAT, causes conflict\n",
    "    \n",
    "    return mcs"
   ]
  },
  {
   "cell_type": "markdown",
   "metadata": {
    "pycharm": {
     "name": "#%% md\n"
    },
    "slideshow": {
     "slide_type": "slide"
    }
   },
   "source": [
    "### Grow-based MCS"
   ]
  },
  {
   "cell_type": "code",
   "execution_count": null,
   "metadata": {
    "pycharm": {
     "name": "#%%\n"
    },
    "slideshow": {
     "slide_type": "-"
    }
   },
   "outputs": [],
   "source": [
    "from cpmpy.tools.explain import mcs  # using assumption variables\n",
    "\n",
    "corr_subset = mcs(model.constraints)\n",
    "\n",
    "print(\"By removing these constraints, the model becomes SAT:\")\n",
    "for cons in corr_subset: print(\"-\",cons)\n",
    "    \n",
    "visualize_constraints(corr_subset, nurse_view, factory)"
   ]
  },
  {
   "cell_type": "code",
   "execution_count": null,
   "metadata": {
    "pycharm": {
     "name": "#%%\n"
    },
    "slideshow": {
     "slide_type": "slide"
    }
   },
   "outputs": [],
   "source": [
    "mss = set(model.constraints) - set(corr_subset)\n",
    "        \n",
    "corrected_model = cp.Model(list(mss))\n",
    "assert corrected_model.solve()\n",
    "\n",
    "print(f\"Counterfactual solution: ({len(corr_subset)} fewer constraints)\")\n",
    "visualize(nurse_view.value(), factory)"
   ]
  },
  {
   "cell_type": "markdown",
   "metadata": {
    "pycharm": {
     "name": "#%% md\n"
    },
    "slideshow": {
     "slide_type": "slide"
    }
   },
   "source": [
    "### Influencing which MCS is found?\n",
    "\n",
    "* Lexicographic order over constraints: FastDiag is the MCS counterpart of QuickXplain\n",
    "\n",
    "> A. Felfernig, M. Schubert, and C. Zehentner. An efficient diagnosis algorithm for inconsistent constraint sets. AI EDAM, 26(1):53–62, 2012.\n",
    "  "
   ]
  },
  {
   "cell_type": "code",
   "execution_count": null,
   "metadata": {
    "pycharm": {
     "name": "#%%\n"
    },
    "slideshow": {
     "slide_type": "slide"
    }
   },
   "outputs": [],
   "source": [
    "# the order of 'soft' matters! lexicographic preference for the first ones\n",
    "def fastdiag_naive(soft, hard=[], solver=\"ortools\"):\n",
    "    model, soft, assump = make_assump_model(soft, hard)\n",
    "    s = cp.SolverLookup.get(solver, model)\n",
    "    assert s.solve(assumptions=assump) is False, \"The model should be UNSAT!\"\n",
    "\n",
    "    # the recursive call\n",
    "    def do_recursion(tocheck, other, delta):\n",
    "        print(\"@\", end=\"\")\n",
    "        if len(tocheck) != 0 and s.solve(assumptions=delta):\n",
    "            # constraints without tocheck is satisfiable, no need to recurse over other\n",
    "            return []\n",
    "\n",
    "        if len(other) == 1:\n",
    "            # only 1 'other' constraint remaining to search over\n",
    "            return list(other)  # base case of recursion\n",
    "\n",
    "        split = len(other) // 2  # determine split point\n",
    "        more_preferred, less_preferred = other[:split], other[split:]  # split constraints into two sets\n",
    "\n",
    "        # treat more preferred part as hard and find extra constraints in less preferred\n",
    "        delta1 = do_recursion(more_preferred, less_preferred, [c for c in delta if c not in set(more_preferred)])\n",
    "        # find which more preferred constraints exactly\n",
    "        delta2 = do_recursion(delta1, more_preferred, [c for c in delta if c not in set(delta1)])\n",
    "        return delta1 + delta2\n",
    "\n",
    "    mcs = do_recursion([], list(assump), list(assump))\n",
    "    dmap = dict(zip(assump, soft))\n",
    "    return [dmap[a] for a in mcs]"
   ]
  },
  {
   "cell_type": "markdown",
   "metadata": {
    "pycharm": {
     "name": "#%% md\n"
    },
    "slideshow": {
     "slide_type": "slide"
    }
   },
   "source": [
    "Let's find an MCS with _short_ constraints"
   ]
  },
  {
   "cell_type": "code",
   "execution_count": null,
   "metadata": {
    "pycharm": {
     "name": "#%%\n"
    },
    "slideshow": {
     "slide_type": "-"
    }
   },
   "outputs": [],
   "source": [
    "t0 = time.time()\n",
    "subset = fastdiag_naive(sorted(model.constraints, key=lambda c: len(str(c))), solver=\"ortools\")  # prefer short constraints\n",
    "print(\"\\nPrefer short len(str) constraints: Length of MCS:\", len(subset))\n",
    "print(f\"(in {time.time()-t0} seconds)\")\n",
    "visualize_constraints(subset, nurse_view, factory)"
   ]
  },
  {
   "cell_type": "markdown",
   "metadata": {
    "pycharm": {
     "name": "#%% md\n"
    },
    "slideshow": {
     "slide_type": "slide"
    }
   },
   "source": [
    "### How to compute a Minimal Correction _Subset_ of an UNSAT problem?\n",
    "\n",
    "A minimal correction **subset** corrects an unsatisfiable problem by **dropping** constraints.\n",
    "\n",
    "If each constraint is a clause, that is probably the best you can do...\n",
    "\n",
    "$ $\n",
    "\n",
    "For rich applications, like nurse rostering, there is often a softer **degree of violation**"
   ]
  },
  {
   "cell_type": "code",
   "execution_count": null,
   "metadata": {
    "pycharm": {
     "name": "#%%\n"
    },
    "slideshow": {
     "slide_type": "fragment"
    }
   },
   "outputs": [],
   "source": [
    "visualize_constraints(mcs(model.constraints), nurse_view, factory)"
   ]
  },
  {
   "cell_type": "markdown",
   "metadata": {
    "pycharm": {
     "name": "#%% md\n"
    },
    "slideshow": {
     "slide_type": "fragment"
    }
   },
   "source": [
    "E.g. from requiring 5 nurses on Saturday and Sunday to requiring 0 nurses is **pretty drastic**..."
   ]
  },
  {
   "cell_type": "markdown",
   "metadata": {
    "pycharm": {
     "name": "#%% md\n"
    },
    "slideshow": {
     "slide_type": "slide"
    }
   },
   "source": [
    "### How to compute a Minimal Correction of an UNSAT problem?\n",
    "\n",
    "Requires defining **corrective actions**, e.g. constraint violations that allows for *relaxations* of constraints.\n",
    "\n",
    "E.g. **feasbility restoration** by modifying rather then removing constraints"
   ]
  },
  {
   "cell_type": "markdown",
   "metadata": {
    "pycharm": {
     "name": "#%% md\n"
    },
    "slideshow": {
     "slide_type": "-"
    }
   },
   "source": [
    "> Senthooran I, Klapperstueck M, Belov G, Czauderna T, Leo K, Wallace M, Wybrow M, Garcia de la Banda M. Human-centred __feasibility restoration__ in practice. Constraints. 2023 Jul 20:1-41."
   ]
  },
  {
   "cell_type": "markdown",
   "metadata": {
    "pycharm": {
     "name": "#%% md\n"
    },
    "slideshow": {
     "slide_type": "subslide"
    }
   },
   "source": [
    "### Types of relaxations of constraints:\n",
    "\n",
    "<img src=\"img/slack.png\" width=\"20%\" align=\"right\" style=\"margin:20px;\">\n",
    "\n",
    "* Boolean constraints: can only be turned on/off\n",
    "* Numerical constraints: can be __violated__ to some extend\n",
    "  * Introduce slack for each numerical constraint\n",
    "  * Slack indicates how much a constraint may be violated\n",
    "    * = fine grained penalty of solution\n",
    "  * Minimize (weighted) aggregate of slack values"
   ]
  },
  {
   "cell_type": "markdown",
   "metadata": {
    "pycharm": {
     "name": "#%% md\n"
    },
    "slideshow": {
     "slide_type": "slide"
    }
   },
   "source": [
    "## Running example, nurse rostering\n",
    "\n",
    "### Slack-based relaxations\n",
    "\n",
    "<img src=\"img/slack.png\" width=\"10%\" align=\"right\" style=\"margin:20px;\">\n",
    "\n",
    "E.g., allow violation of _cover constraints_ (nr of nurses on a specific day)<br>\n",
    "    --> Allow days to be *slightly* under/overstaffed"
   ]
  },
  {
   "cell_type": "code",
   "execution_count": null,
   "metadata": {
    "pycharm": {
     "name": "#%%\n"
    },
    "slideshow": {
     "slide_type": "fragment"
    }
   },
   "outputs": [],
   "source": [
    "# slack variables can only be positive here (separate over and under relaxation)\n",
    "slack_under = cp.intvar(0, len(data.staff), shape=data.horizon, name=\"slack_under\")\n",
    "slack_over = cp.intvar(0, len(data.staff), shape=data.horizon, name=\"slack_over\")\n",
    "\n",
    "for _, cover in factory.data.cover.iterrows():\n",
    "    # read the data\n",
    "    day = cover[\"# Day\"]\n",
    "    shift = factory.shift_name_to_idx[cover[\"ShiftID\"]]\n",
    "\n",
    "    nb_nurses = cp.Count(nurse_view[:, day], shift)\n",
    "    # deviation of `nb_nurses` from `requirement`\n",
    "    expr = (nb_nurses == cover[\"Requirement\"] - slack_under[day] + slack_over[day])"
   ]
  },
  {
   "cell_type": "markdown",
   "metadata": {
    "pycharm": {
     "name": "#%% md\n"
    },
    "slideshow": {
     "slide_type": "subslide"
    }
   },
   "source": [
    "## Running example, nurse rostering"
   ]
  },
  {
   "cell_type": "markdown",
   "metadata": {
    "pycharm": {
     "name": "#%% md\n"
    }
   },
   "source": [
    "### Minimize global violation"
   ]
  },
  {
   "cell_type": "code",
   "execution_count": null,
   "metadata": {
    "pycharm": {
     "name": "#%%\n"
    },
    "slideshow": {
     "slide_type": "-"
    }
   },
   "outputs": [],
   "source": [
    "slack_model, slack_nurse_view, slack_under, slack_over = factory.get_slack_model()  # CMPpy Model\n",
    "\n",
    "slack = cp.cpm_array(np.append(slack_under, slack_over))\n",
    "slack_model.minimize(cp.sum(slack_under) + cp.sum(slack_over)) # minimize global violation\n",
    "\n",
    "# visualize\n",
    "assert slack_model.solve()\n",
    "style = visualize(slack_nurse_view.value(), factory, highlight_cover=True)\n",
    "style.data.loc[\"Slack under\"] = list(slack_under.value()) + [\" \",\" \"]\n",
    "style.data.loc[\"Slack over\"] = list(slack_over.value()) + [\" \", \" \"]\n",
    "display(style)"
   ]
  },
  {
   "cell_type": "markdown",
   "metadata": {
    "pycharm": {
     "name": "#%% md\n"
    },
    "slideshow": {
     "slide_type": "slide"
    }
   },
   "source": [
    "## Running example, nurse rostering\n",
    "\n",
    "### Slack-based relaxations\n",
    "\n",
    "Minimize nb of non-zero slacks constraints (similar to the MAX-CSP approach)"
   ]
  },
  {
   "cell_type": "code",
   "execution_count": null,
   "metadata": {
    "pycharm": {
     "name": "#%%\n"
    },
    "slideshow": {
     "slide_type": "-"
    }
   },
   "outputs": [],
   "source": [
    "slack_model.minimize(cp.sum(slack != 0)) # minimize nb of violated constraints\n",
    " \n",
    "assert slack_model.solve()\n",
    "style = visualize(slack_nurse_view.value(), factory, highlight_cover=True)\n",
    "style.data.loc[\"Slack under\"] = list(slack_under.value()) + [\" \"]*2\n",
    "style.data.loc[\"Slack over\"] = list(slack_over.value()) + [\" \"]*2\n",
    "display(style)"
   ]
  },
  {
   "cell_type": "markdown",
   "metadata": {
    "pycharm": {
     "name": "#%% md\n"
    },
    "slideshow": {
     "slide_type": "slide"
    }
   },
   "source": [
    "## Running example, nurse rostering\n",
    "\n",
    "### Slack-based relaxations\n",
    "\n",
    "Or minimize any combination"
   ]
  },
  {
   "cell_type": "code",
   "execution_count": null,
   "metadata": {
    "pycharm": {
     "name": "#%%\n"
    },
    "slideshow": {
     "slide_type": "-"
    }
   },
   "outputs": [],
   "source": [
    "obj1 = cp.max(slack)       # minimize max violation\n",
    "obj2 = cp.sum(slack != 0)  # minimize nb of violations\n",
    "obj3 = cp.sum(slack)       # minimize global violation\n",
    "\n",
    "slack_model.minimize(10000 * obj1 + 1000 * obj2 + obj3) # multi-objective optimization\n",
    "\n",
    "assert slack_model.solve()\n",
    "style = visualize(slack_nurse_view.value(), factory, highlight_cover=True)\n",
    "style.data.loc[\"Slack under\"] = list(slack_under.value()) + [\" \"]*2\n",
    "style.data.loc[\"Slack over\"] = list(slack_over.value()) + [\" \"]*2\n",
    "display(style)"
   ]
  },
  {
   "cell_type": "markdown",
   "metadata": {
    "pycharm": {
     "name": "#%% md\n"
    },
    "slideshow": {
     "slide_type": "slide"
    }
   },
   "source": [
    "## Recap: counterfactual explanations for UNSAT\n",
    "\n",
    "MCS = Minimal Correction Subset\n",
    "\n",
    "| **Algorithm**           | **Characteristics**                                                                                                                                  | **First solver call**                | **Subsequent calls**                | **Efficiency**                                                              |\n",
    "|-------------------------|------------------------------------------------------------------------------------------------------------------------------------------------------|--------------------------------|---------------------------------------|------------------------------------------------------------------------------|\n",
    "| **Grow-based MCS**   | Trivial to implement, arbitrary MCS                                                            | One constraint     | Linear increase                       | Efficient for assumption-based incremental solvers.                           |\n",
    "| **FastDiag**          | Optional lexicographic preference over constraints.                                                                       | Half the constraints (n/2)     | Divide and conquer                  | Reasonably efficient for non-incremental solvers.                             |\n",
    "| **Max-CSP**             | Optimal, e.g. weight per constraint                 | Reified constraints                 | /                       | Reified formulation can be more difficult to solve            |\n",
    "| **Slack-based COP**     | Optimal, define slack-based relaxation for every constraint | Relaxed constraints   | / | Adding slack decision variables can be more difficult to solve"
   ]
  },
  {
   "cell_type": "markdown",
   "metadata": {
    "pycharm": {
     "name": "#%% md\n"
    },
    "slideshow": {
     "slide_type": "slide"
    }
   },
   "source": [
    "\n",
    "## Outline of the tutorial\n",
    "\n",
    "### Part 1: Introduction to Explainable Constraint Programming\n",
    "- Constraint Solving and Explanations &#x1F4BB;\n",
    "\n",
    "### Part 2: Explaining Satisfiability Problems\n",
    "- Deductive explanations (MUS, QuickXplain, OUS, stepwise) &#x1F4BB;\n",
    "- Counterfactual explanations (MCS & Diagnosis, FastDiag, Max-CSP, Slack-based relaxation) &#x1F4BB; &#9194;\n",
    "\n",
    "### Part 3: Explaining Optimization problems\n",
    "- Multi-objective optimization and Pareto-optimal solutions\n",
    "- Deductive explanations (UNSAT-based)\n",
    "- Counterfactual explanations (UNSAT-based, inverse optimization) &#x1F4BB;\n",
    "\n",
    "### Part 4: Outlook and Q&A\n"
   ]
  },
  {
   "cell_type": "markdown",
   "metadata": {
    "pycharm": {
     "name": "#%% md\n"
    },
    "slideshow": {
     "slide_type": "slide"
    }
   },
   "source": [
    "## Hands-on: exploring graph coloring explanations\n",
    "\n",
    "https://github.com/CPMpy/XCP-explain\n",
    "\n",
    "Notebook: XXX\n",
    "\n",
    "(also through Google Colab, no installation needed!)"
   ]
  },
  {
   "cell_type": "markdown",
   "metadata": {
    "pycharm": {
     "name": "#%% md\n"
    },
    "slideshow": {
     "slide_type": "slide"
    }
   },
   "source": [
    "## Outline of the tutorial\n",
    "\n",
    "### Part 1: Introduction to Explainable Constraint Programming\n",
    "- Constraint Solving and Explanations &#x1F4BB;\n",
    "\n",
    "### Part 2: Explaining Satisfiability Problems\n",
    "- Deductive explanations (MUS, QuickXplain, OUS, stepwise) &#x1F4BB;\n",
    "- Counterfactual explanations (MCS & Diagnosis, FastDiag, Max-CSP, Slack-based relaxation) &#x1F4BB;\n",
    "\n",
    "### Part 3: Explaining Optimization problems\n",
    "- Multi-objective optimization and Pareto-optimal solutions &#9194;\n",
    "- Deductive explanations (UNSAT-based)\n",
    "- Counterfactual explanations (UNSAT-based, inverse optimization) &#x1F4BB;\n",
    "\n",
    "### Part 4: Outlook and Q&A\n"
   ]
  },
  {
   "cell_type": "markdown",
   "metadata": {
    "pycharm": {
     "name": "#%% md\n"
    },
    "slideshow": {
     "slide_type": "slide"
    }
   },
   "source": [
    "## Explaining Optimization problems\n",
    "\n",
    "- Model uses hard constraints and soft constraints\n",
    "    - Not all constraints can be satisfied, some of them (preferences) are modeled as _soft constraints_\n",
    "    - Put fine grained penalty on violation of _soft constraints_ based on their importance\n",
    "- Given objective: minimize **penalty of unsatisfied preferences**\n",
    "- Objective may contain subobjectives\n",
    "- Subobjectives/types of preferences in nurse rostering\n",
    "    - shift requests on,\n",
    "    - shift requested off,\n",
    "    - cover constraints"
   ]
  },
  {
   "cell_type": "code",
   "execution_count": null,
   "metadata": {
    "pycharm": {
     "name": "#%%\n"
    },
    "slideshow": {
     "slide_type": "fragment"
    }
   },
   "outputs": [],
   "source": [
    "model, nurse_view = factory.get_optimization_model()\n",
    "\n",
    "assert model.solve()\n",
    "opt_sol = nurse_view.value()\n",
    "opt_value = model.objective_value()\n",
    "\n",
    "display(visualize(opt_sol, factory))\n",
    "print(\"Total penalty:\", model.objective_value())\n",
    "print(\"Time to calculate:\", model.status().runtime, \"s\")"
   ]
  },
  {
   "cell_type": "markdown",
   "metadata": {
    "pycharm": {
     "name": "#%% md\n"
    },
    "slideshow": {
     "slide_type": "slide"
    }
   },
   "source": [
    "## Multiple solutions\n",
    "\n",
    "- User not satisfied with optimal solution?\n",
    "\n",
    "- There could be multiple optimal solutions\n",
    "\n",
    "- Find (a subset of) them by converting to a decision problem\n",
    "    - Enforcing the optimal objective value\n",
    "\n",
    "- Use `solveAll()`"
   ]
  },
  {
   "cell_type": "code",
   "execution_count": null,
   "metadata": {
    "pycharm": {
     "name": "#%%\n"
    },
    "slideshow": {
     "slide_type": "slide"
    }
   },
   "outputs": [],
   "source": [
    "opt_model = cp.Model(model.constraints) # init new model\n",
    "opt_model += (model.objective_ == model.objective_value()) # force objective\n",
    "\n",
    "opt_model.solveAll(solver=\"ortools\", solution_limit=3,\n",
    "                   display=lambda: display(visualize(nurse_view.value(), factory)))  # callback that visualizes sols"
   ]
  },
  {
   "cell_type": "markdown",
   "metadata": {
    "pycharm": {
     "name": "#%% md\n"
    }
   },
   "source": [
    "## Multiple non-dominated solutions\n",
    "\n",
    "- User not satisfied with optimal solution?\n",
    "\n",
    "- Optimize again, considering non-dominated solutions based on sub objectives!\n",
    "    - Non-dominated solution: No other solution will be better (lower penalty) on all objectives...\n",
    "\n",
    "- There could be multiple non-dominated solutions -> with different trade-offs!!\n",
    "\n",
    "3 different objectives in nurse rostering:\n",
    "\n",
    "      - Penalty on positive shift requests\n",
    "\n",
    "      - Penalty on negative shift requests\n",
    "\n",
    "      - Penalty of the cover constraints\n"
   ]
  },
  {
   "cell_type": "code",
   "execution_count": null,
   "metadata": {
    "pycharm": {
     "name": "#%%\n"
    }
   },
   "outputs": [],
   "source": [
    "# Find non-dominated solutions --\n",
    "model, nurse_view, penalty_on, penalty_off, penalty_cover = factory.get_multi_objective_model()\n",
    "\n",
    "objectives = [penalty_on, penalty_off, penalty_cover] # penalty_on, penalty_off, penalty_cover are the 3 subobjectives\n",
    "\n",
    "solutions_limit = 10\n",
    "solutions = []\n",
    "solution_images = []\n",
    "\n",
    "while len(solutions) < solutions_limit:\n",
    "    model.solve() # find solution\n",
    "    model += cp.any([obj > obj.value() for obj in objectives])  # dominance constraint\n",
    "    solutions.append(nurse_view.value())\n",
    "    solution_images.append([obj.value() for obj in objectives])\n",
    "\n",
    "for s in solutions:\n",
    "    display(visualize(s, factory))\n"
   ]
  },
  {
   "cell_type": "code",
   "execution_count": null,
   "metadata": {
    "pycharm": {
     "name": "#%%\n"
    }
   },
   "outputs": [],
   "source": [
    "# Create a DataFrame from the solution_images list\n",
    "solutions_df = pd.DataFrame(\n",
    "    solution_images,\n",
    "    columns=['Penalty On', 'Penalty Off', 'Penalty Cover']\n",
    ")\n",
    "\n",
    "display(solutions_df)"
   ]
  },
  {
   "cell_type": "markdown",
   "metadata": {
    "pycharm": {
     "name": "#%% md\n"
    },
    "slideshow": {
     "slide_type": "slide"
    }
   },
   "source": [
    "## Hands-on Explainable Constraint Programming (XCP)\n",
    "\n",
    "<img src=\"img/interaction_figure4.png\" width=\"20%\" align=\"right\" style=\"margin:50px;\">\n",
    "\n",
    "### Part 1: Introduction to Explainable Constraint Programming\n",
    "- Constraint Solving and Explanations &#x1F4BB;\n",
    "\n",
    "### Part 2: Explaining Satisfiability Problems\n",
    "- Deductive explanations (MUS, QuickXplain, OUS, stepwise) &#x1F4BB;\n",
    "- Counterfactual explanations (MCS & Diagnosis, FastDiag, Max-CSP, Slack-based relaxation) &#x1F4BB;\n",
    "\n",
    "\n",
    "### Part 3: Explaining Optimization problems\n",
    "- Multi-objective optimization and pareto-optimal solutions\n",
    "- Deductive explanations &#9194;\n",
    "- Counterfactual explanations &#x1F4BB;\n",
    "\n",
    "### Part 4: Outlook and Q&A"
   ]
  },
  {
   "cell_type": "markdown",
   "metadata": {
    "pycharm": {
     "name": "#%% md\n"
    },
    "slideshow": {
     "slide_type": "slide"
    }
   },
   "source": [
    "## Deductive explanation for optimization problems\n",
    "\n",
    "<img src=\"img/why_not_better.png\" width=\"20%\" align=\"right\" style=\"margin:50px;\">\n",
    "\n",
    "#### Why is there no **even better** solution?\n",
    "\n",
    "What constraints **causes** that there is no better solution?\n",
    "\n",
    "- Reduce to UNSAT problem:\n",
    "\n",
    "  - Add better-than-optimal objective value as constraint: $C \\wedge (f(x) < o) \\models \\bot$\n",
    "\n",
    "- Then use deductive explanations for UNSAT!\n"
   ]
  },
  {
   "cell_type": "markdown",
   "metadata": {
    "pycharm": {
     "name": "#%% md\n"
    },
    "slideshow": {
     "slide_type": "subslide"
    }
   },
   "source": [
    "### Graph colouring problem:"
   ]
  },
  {
   "cell_type": "code",
   "execution_count": null,
   "metadata": {
    "pycharm": {
     "name": "#%%\n"
    },
    "slideshow": {
     "slide_type": "-"
    }
   },
   "outputs": [],
   "source": [
    "m, nodes = graph_coloring(G)  # back to graph colouring\n",
    "m.solve()\n",
    "m += (m.objective_ < m.objective_value())\n",
    "\n",
    "if m.solve() is False:\n",
    "    conflict = mus(m.constraints) # Minimal Unsatisfiable Subset\n",
    "    print(\"Cannot find better solution due to the following constraint(s):\")\n",
    "    graph_highlight(G, conflict)"
   ]
  },
  {
   "cell_type": "markdown",
   "metadata": {
    "pycharm": {
     "name": "#%% md\n"
    },
    "slideshow": {
     "slide_type": "subslide"
    }
   },
   "source": [
    "### Nurse rostering problem"
   ]
  },
  {
   "cell_type": "code",
   "execution_count": null,
   "metadata": {
    "pycharm": {
     "name": "#%%\n"
    },
    "scrolled": true,
    "slideshow": {
     "slide_type": "-"
    }
   },
   "outputs": [],
   "source": [
    "model, nurse_view = factory.get_optimization_model()\n",
    "model.solve() # find optimal solution\n",
    "\n",
    "dmodel = cp.Model(model.constraints)\n",
    "dmodel += (model.objective_ < model.objective_value())\n",
    "\n",
    "assert dmodel.solve() is False\n",
    "t0 = time.time()\n",
    "core = mus(dmodel.constraints, solver=\"exact\")\n",
    "print(len(core))\n",
    "print(f\"(in {time.time()-t0} seconds)\")\n",
    "visualize_constraints(core, nurse_view, factory)"
   ]
  },
  {
   "cell_type": "markdown",
   "metadata": {
    "pycharm": {
     "name": "#%% md\n"
    },
    "slideshow": {
     "slide_type": "fragment"
    }
   },
   "source": [
    "Can use the step-wise explanation techniques to explain why it is now UNSAT!\n",
    "\n",
    "> Bleukx, I., Devriendt, J., Gamba, E., Bogaerts B., & Guns T. (2023). Simplifying Step-wise Explanation Sequences. In International Conference on Principles and Practice of Constraint Programming 2023\n",
    "\n",
    "**Challenges**\n",
    " \n",
    "- How to deal with redundancy in the sequence? \n",
    "    - _I.e., how to decide what information is relevant to derive?_\n",
    "- Simplify to interpretable sequences?\n",
    "    - Few and small steps \n",
    "- How to make the algorithm incremental?\n",
    "    - _I.e., how to find good sequences fast?_"
   ]
  },
  {
   "cell_type": "markdown",
   "metadata": {
    "pycharm": {
     "name": "#%% md\n"
    },
    "slideshow": {
     "slide_type": "slide"
    }
   },
   "source": [
    "## Hands-on Explainable Constraint Programming (XCP)\n",
    "\n",
    "<img src=\"img/interaction_figure4.png\" width=\"20%\" align=\"right\" style=\"margin:50px;\">\n",
    "\n",
    "### Part 1: Introduction to Explainable Constraint Programming\n",
    "- Constraint Solving and Explanations &#x1F4BB;\n",
    "\n",
    "### Part 2: Explaining Satisfiability Problems\n",
    "- Deductive explanations (MUS, QuickXplain, OUS, stepwise) &#x1F4BB;\n",
    "- Counterfactual explanations (MCS & Diagnosis, FastDiag, Max-CSP, Slack-based relaxation) &#x1F4BB;\n",
    "\n",
    "\n",
    "### Part 3: Explaining Optimization problems\n",
    "- Multi-objective optimization and pareto-optimal solutions\n",
    "- Deductive explanations\n",
    "- Counterfactual explanations &#9194; &#x1F4BB;\n",
    "\n",
    "### Part 4: Outlook and Q&A"
   ]
  },
  {
   "cell_type": "markdown",
   "metadata": {
    "pycharm": {
     "name": "#%% md\n"
    },
    "slideshow": {
     "slide_type": "slide"
    }
   },
   "source": [
    "## Counterfactual explanation for optimization problems\n",
    "\n",
    "<img src=\"img/why_not_better.png\" width=\"20%\" align=\"right\" style=\"margin:50px;\">\n",
    "\n",
    "#### Why is there no **even better** solution?\n",
    "\n",
    "\n",
    "What **to change** if I want a better solution?\n",
    "\n",
    "- Reduce to UNSAT problem:\n",
    "\n",
    "  - Add better-than-optimal objective value as constraint: $C \\wedge (f(x) < o) \\models \\bot$\n",
    "\n",
    "- Then use counterfactual explanations for UNSAT!\n"
   ]
  },
  {
   "cell_type": "code",
   "execution_count": null,
   "metadata": {
    "pycharm": {
     "name": "#%%\n"
    },
    "slideshow": {
     "slide_type": "subslide"
    }
   },
   "outputs": [],
   "source": [
    "from cpmpy.tools.explain import mcs\n",
    "\n",
    "# Find best solution\n",
    "model.solve()\n",
    "\n",
    "# Convert to UNSAT\n",
    "constraints = model.constraints\n",
    "hard_con = (model.objective_ < model.objective_value())\n",
    "opt_model = cp.Model(model.constraints)\n",
    "opt_model += hard_con\n",
    "\n",
    "assert opt_model.solve() is False\n",
    "t0 = time.time()\n",
    "corr_subset = mcs(constraints, hard=hard_con)\n",
    "print(len(corr_subset))\n",
    "print(f\"(in {time.time()-t0} seconds)\")\n",
    "visualize_constraints(corr_subset, nurse_view, factory)\n"
   ]
  },
  {
   "cell_type": "markdown",
   "metadata": {
    "pycharm": {
     "name": "#%% md\n"
    },
    "slideshow": {
     "slide_type": "subslide"
    }
   },
   "source": [
    "Compute and visualise counter-factual solution"
   ]
  },
  {
   "cell_type": "code",
   "execution_count": null,
   "metadata": {
    "pycharm": {
     "name": "#%%\n"
    },
    "slideshow": {
     "slide_type": "-"
    }
   },
   "outputs": [],
   "source": [
    "opt_model2 = cp.Model([c for c in model.constraints if c not in set(corr_subset)])\n",
    "opt_model2.minimize(model.objective_)\n",
    "\n",
    "assert opt_model2.solve() is True\n",
    "display(visualize(nurse_view.value(), factory))\n",
    "print(\"Total penalty:\", model.objective_value())"
   ]
  },
  {
   "cell_type": "markdown",
   "metadata": {
    "pycharm": {
     "name": "#%% md\n"
    }
   },
   "source": [
    "## Counterfactual explanations for optimization problems\n",
    "\n",
    "#### What if I want Y in my solution instead of X? &#8592; Changing the solutions or our model\n",
    "\n",
    "Our model is based on the problem definition &#8594; which is an <b>approximation of our problem</b>! <br>\n",
    "\\- can have undesirable solutions <br>\n",
    "\\- due to preferences or constraints not given to the model\n",
    "\n",
    "  \n",
    "<center><img src=\"img/prob2sol.png\" width=70%></center>"
   ]
  },
  {
   "cell_type": "markdown",
   "metadata": {
    "pycharm": {
     "name": "#%% md\n"
    },
    "slideshow": {
     "slide_type": "slide"
    }
   },
   "source": [
    "## Counterfactual explanations for optimization problems\n",
    "\n",
    "<img src=\"img/changing_solution.png\" width=\"20%\" align=\"right\" style=\"margin:50px;\">\n",
    "\n",
    "#### What if I want Y in my solution instead of X? &#8592; Changing the solution\n",
    "        \n",
    "How to (optimally) change the solution having Y instead of X? \n",
    "\n",
    "<b>Y is a foil</b>: a partial assignment or constraint that is counter-factual &#8594; different from the returned solution.\n",
    "\n",
    "Need to solve $C + Y$, with $C$ the (original) set of constraints and $Y$ the foil\n",
    "\n",
    "* Case 1: $C + Y$ is SAT &#8594; May result in less optimal objective value <br>\n",
    "\\- Show new (changed) solution to the user <br>\n",
    "\\- Along with resulting penalty\n",
    "\n",
    "* Case 2: $C + Y$ is UNSAT: <br>\n",
    "\\- counterfactual explanation of why the foil leads to UNSAT\n",
    "\n"
   ]
  },
  {
   "cell_type": "code",
   "execution_count": null,
   "metadata": {
    "pycharm": {
     "name": "#%%\n"
    },
    "slideshow": {
     "slide_type": "slide"
    }
   },
   "outputs": [],
   "source": [
    "# Find optimal solution\n",
    "model.solve()\n",
    "opt_sol = nurse_view.value()\n",
    "opt_value = model.objective_value()\n",
    "\n",
    "display(visualize(opt_sol, factory))"
   ]
  },
  {
   "cell_type": "markdown",
   "metadata": {
    "pycharm": {
     "name": "#%% md\n"
    }
   },
   "source": [
    "Robert __does not__ want to work on 1st saturday"
   ]
  },
  {
   "cell_type": "code",
   "execution_count": null,
   "metadata": {
    "pycharm": {
     "name": "#%%\n"
    }
   },
   "outputs": [],
   "source": [
    "Y = nurse_view[2,5] == 0 # The foil is that Robert does not want to work on 1st saturday\n",
    "mmodel = model.copy()\n",
    "mmodel += Y \n",
    "\n",
    "assert mmodel.solve()\n",
    "print(\"Total penalty:\", mmodel.objective_value(), \"was:\", opt_value)"
   ]
  },
  {
   "cell_type": "code",
   "execution_count": null,
   "metadata": {
    "pycharm": {
     "name": "#%%\n"
    },
    "slideshow": {
     "slide_type": "fragment"
    }
   },
   "outputs": [],
   "source": [
    "style = highlight_changes(nurse_view.value(), opt_sol, factory)\n",
    "display(style)"
   ]
  },
  {
   "cell_type": "markdown",
   "metadata": {
    "pycharm": {
     "name": "#%% md\n"
    },
    "slideshow": {
     "slide_type": "slide"
    }
   },
   "source": [
    "## Counterfactual explanations for optimization problems\n",
    "\n",
    "<img src=\"img/changing_solution.png\" width=\"20%\" align=\"right\" style=\"margin:50px;\">\n",
    "\n",
    "#### What if I want Y in my solution instead of X? &#8592; Limited changes to last solution\n",
    "        \n",
    "- Previous solution is very different from original! <br>\n",
    "    &#8594; Do not want to change everyone's schedule!\n",
    "\n",
    "- Change only a few parts of it?\n",
    "\n",
    "- Tradeoff between difference and penalty\n",
    "\n"
   ]
  },
  {
   "cell_type": "code",
   "execution_count": null,
   "metadata": {
    "pycharm": {
     "name": "#%%\n"
    },
    "slideshow": {
     "slide_type": "slide"
    }
   },
   "outputs": [],
   "source": [
    "mmodel += cp.sum(nurse_view != opt_sol) <= 5 # allow to make 5 changes\n",
    "assert mmodel.solve()\n",
    "print(\"Total penalty:\", mmodel.objective_value(), \"was:\", opt_value)\n",
    "\n",
    "style = highlight_changes(nurse_view.value(), opt_sol, factory)\n",
    "display(style)"
   ]
  },
  {
   "cell_type": "markdown",
   "metadata": {
    "pycharm": {
     "name": "#%% md\n"
    },
    "slideshow": {
     "slide_type": "slide"
    }
   },
   "source": [
    "## Counterfactual explanations for optimization problems\n",
    "\n",
    "<img src=\"img/change_model.png\" width=\"20%\" align=\"right\" style=\"margin:50px;\">\n",
    "\n",
    "#### What if I want Y in my solution instead of X? &#8592; Changing the optimization model\n",
    "\n",
    "- \"Why not Y\" &#8594; \"Under <b>what conditions</b> would Y be optimal?\"\n",
    "        \n",
    "- _Given_: model with linear objective function $w*c$, <br>and a 'foil' Y (constraints to satisfy in optimal)<br>\n",
    "- _Find_: new objective function weights $w'$<br> such that optimal solution satisfies $Y$\n",
    "        \n",
    "- Explains necessary **changes to the model**<br> &#8594; rather than the solution!\n",
    "\n",
    "> [Korikov, Anton, and J. Christopher Beck. \"Counterfactual explanations via inverse constraint programming.\" In 27th International Conference on Principles and Practice of Constraint Programming (CP 2021).]"
   ]
  },
  {
   "cell_type": "markdown",
   "metadata": {
    "pycharm": {
     "name": "#%% md\n"
    },
    "slideshow": {
     "slide_type": "slide"
    }
   },
   "source": [
    "## Counterfactual explanations for optimization problems\n",
    "\n",
    "#### What if I want Y in my solution instead of X? &#8592; Changing the optimization model\n",
    "Find currently optimal solution $X$:"
   ]
  },
  {
   "cell_type": "code",
   "execution_count": null,
   "metadata": {
    "pycharm": {
     "name": "#%%\n"
    },
    "slideshow": {
     "slide_type": "-"
    }
   },
   "outputs": [],
   "source": [
    "model, nurse_view = factory.get_optimization_model()\n",
    "\n",
    "assert model.solve()\n",
    "print(\"Total penalty: \", model.objective_value())\n",
    "visualize(nurse_view.value(), factory)"
   ]
  },
  {
   "cell_type": "markdown",
   "metadata": {
    "pycharm": {
     "name": "#%% md\n"
    },
    "slideshow": {
     "slide_type": "subslide"
    }
   },
   "source": [
    "## Counterfactual explanations: changing the optimisation model\n",
    "\n",
    "Robert is unhappy!"
   ]
  },
  {
   "cell_type": "code",
   "execution_count": null,
   "metadata": {
    "pycharm": {
     "name": "#%%\n"
    },
    "slideshow": {
     "slide_type": "-"
    }
   },
   "outputs": [],
   "source": [
    "nurse = \"Robert\"\n",
    " \n",
    "for (w,pref) in zip(*model.objective_.args):\n",
    "    if nurse in str(pref):\n",
    "        print('\\033[1m' if pref.value() else '\\033[0m', f\"{pref.value()} \\t Penalty:{w} \\t{pref} \\t\")"
   ]
  },
  {
   "cell_type": "code",
   "execution_count": null,
   "metadata": {
    "pycharm": {
     "name": "#%%\n"
    },
    "slideshow": {
     "slide_type": "fragment"
    }
   },
   "outputs": [],
   "source": [
    "desc = \"Deny Robert's request to work shift D on Fri 1\"\n",
    "weight,d_on_fri1 = next((w,pref) for w,pref in zip(*model.objective_.args) if str(pref) == desc)\n",
    "print(f\"{d_on_fri1.value()} \\t Penalty:{weight} \\t{d_on_fri1}\")"
   ]
  },
  {
   "cell_type": "markdown",
   "metadata": {
    "pycharm": {
     "name": "#%% md\n"
    },
    "slideshow": {
     "slide_type": "slide"
    }
   },
   "source": [
    "## Counterfactual explanations: changing the optimisation model\n",
    "\n",
    "Robert's request to work on Fri 1 is very important! His daughter has a surgery that day.\n",
    "\n",
    "How should he minimally change _his_ preferences for that?"
   ]
  },
  {
   "cell_type": "code",
   "execution_count": null,
   "metadata": {
    "pycharm": {
     "name": "#%%\n"
    },
    "slideshow": {
     "slide_type": "fragment"
    }
   },
   "outputs": [],
   "source": [
    "foil = {d_on_fri1 : False}  # don't want to have his request for Fri 1 denied!\n",
    "print(\"Foil:\", foil)\n",
    "print(\"\\n\")\n",
    "\n",
    "other_prefs = [(w,pref) for w,pref in zip(*model.objective_.args) if nurse in str(pref) and str(pref) != desc]\n",
    "print(f\"{nurse}'s other preferences:\")\n",
    "for w,pref in other_prefs:\n",
    "    print(\"- Penalty\",w,\":\",pref)"
   ]
  },
  {
   "cell_type": "markdown",
   "metadata": {
    "pycharm": {
     "name": "#%% md\n"
    },
    "slideshow": {
     "slide_type": "slide"
    }
   },
   "source": [
    "## Counterfactual explanations: changing the optimisation model\n",
    "\n",
    "Algorithmically, it is a beautiful inverse optimisation problem with a multi-solver main/subproblem algorithm"
   ]
  },
  {
   "cell_type": "markdown",
   "metadata": {
    "pycharm": {
     "name": "#%% md\n"
    }
   },
   "source": [
    "<img src=\"img/inverse_opt.png\" width=\"90%\" align=\"right\" style=\"margin:50px;\">\n"
   ]
  },
  {
   "cell_type": "code",
   "execution_count": null,
   "metadata": {
    "pycharm": {
     "name": "#%%\n"
    },
    "slideshow": {
     "slide_type": "fragment"
    }
   },
   "outputs": [],
   "source": [
    "from explanations.counterfactual import inverse_optimize\n",
    "\n",
    "ov = model.objective_value()\n",
    "new_obj = inverse_optimize(model=model, minimize=True,\n",
    "                           user_sol = foil,\n",
    "                           allowed_to_change = set(p[1] for p in other_prefs))\n",
    "print(f\"Done! Found solution with total penalty {new_obj.value()}, was {ov}\\n\")\n",
    "\n",
    "# Let's look at the preferences he should enter, to work on Fri 1!\n",
    "print(f\"{nurse}'s new preferences:\")\n",
    "for w,pref in zip(*new_obj.args):\n",
    "    if nurse in str(pref):\n",
    "        print('\\033[1m' if w != 1 else '\\033[0m', f\"Penalty\",w,\":\",pref)"
   ]
  },
  {
   "cell_type": "code",
   "execution_count": null,
   "metadata": {
    "pycharm": {
     "name": "#%%\n"
    }
   },
   "outputs": [],
   "source": [
    "# compute and visualize new solution\n",
    "model.minimize(new_obj)\n",
    "assert model.solve()\n",
    "print(\"Total penalty: \", model.objective_value())\n",
    "visualize(nurse_view.value(), factory)"
   ]
  },
  {
   "cell_type": "markdown",
   "metadata": {
    "pycharm": {
     "name": "#%% md\n"
    },
    "slideshow": {
     "slide_type": "slide"
    }
   },
   "source": [
    "## Hands-on Explainable Constraint Programming (XCP)\n",
    "\n",
    "<img src=\"img/interaction_figure4.png\" width=\"20%\" align=\"right\" style=\"margin:50px;\">\n",
    "\n",
    "### Part 1: Introduction to Explainable Constraint Programming\n",
    "- Constraint Solving and Explanations &#x1F4BB;\n",
    "\n",
    "### Part 2: Explaining Satisfiability Problems\n",
    "- Deductive explanations (MUS, QuickXplain, OUS, stepwise) &#x1F4BB;\n",
    "- Counterfactual explanations (MCS & Diagnosis, FastDiag, Max-CSP, Slack-based relaxation) &#x1F4BB;\n",
    "\n",
    "\n",
    "### Part 3: Explaining Optimization problems\n",
    "- Multi-objective optimization and pareto-optimal solutions\n",
    "- Deductive explanations\n",
    "- Counterfactual explanations &#x1F4BB; &#9194;\n",
    "\n",
    "### Part 4: Outlook and Q&A \n"
   ]
  },
  {
   "cell_type": "markdown",
   "metadata": {
    "pycharm": {
     "name": "#%% md\n"
    },
    "slideshow": {
     "slide_type": "slide"
    }
   },
   "source": [
    "## Hands-on: exploring graph coloring explanations\n",
    "\n",
    "https://github.com/CPMpy/XCP-explain\n",
    "\n",
    "Notebook: XXX\n",
    "\n",
    "(also through Google Colab, no installation needed!)"
   ]
  },
  {
   "cell_type": "markdown",
   "metadata": {
    "pycharm": {
     "name": "#%% md\n"
    },
    "slideshow": {
     "slide_type": "slide"
    }
   },
   "source": [
    "## Hands-on Explainable Constraint Programming (XCP)\n",
    "\n",
    "<img src=\"img/interaction_figure4.png\" width=\"20%\" align=\"right\" style=\"margin:50px;\">\n",
    "\n",
    "### Part 1: Introduction to Explainable Constraint Programming\n",
    "- Constraint Solving and Explanations &#x1F4BB;\n",
    "\n",
    "### Part 2: Explaining Satisfiability Problems\n",
    "- Deductive explanations (MUS, QuickXplain, OUS, stepwise) &#x1F4BB;\n",
    "- Counterfactual explanations (MCS & Diagnosis, FastDiag, Max-CSP, Slack-based relaxation) &#x1F4BB;\n",
    "\n",
    "\n",
    "### Part 3: Explaining Optimization problems\n",
    "- Multi-objective optimization and pareto-optimal solutions\n",
    "- Deductive explanations\n",
    "- Counterfactual explanations &#x1F4BB;\n",
    "\n",
    "### Part 4: Outlook and Q&A  &#9194;\n"
   ]
  },
  {
   "cell_type": "code",
   "execution_count": null,
   "metadata": {
    "pycharm": {
     "name": "#%%\n"
    }
   },
   "outputs": [],
   "source": [
    "## Explainable Constraint Programming (XCP)\n",
    "\n",
    "In general, \"**Why X?**\" &nbsp;&nbsp;&nbsp;&nbsp;&nbsp;&nbsp; (with X a solution or UNSAT)\n",
    "\n",
    "- **Deductive explanation:**\n",
    "  - _What constraints cause X?_\n",
    "\n",
    "\n",
    "| **Algorithm**           | **Characteristics**                                                                                                                                  | **First solver call**                | **Subsequent calls**                | **Efficiency**                                                              |\n",
    "|-------------------------|------------------------------------------------------------------------------------------------------------------------------------------------------|--------------------------------|---------------------------------------|------------------------------------------------------------------------------|\n",
    "| **Deletion-based MUS**   | Trivial to implement, arbitrary MUS                                                            | All constraints except one     | Linear decrease                       | Efficient for assumption-based incremental solvers.                           |\n",
    "| **QuickXplain**          | Optional lexicographic preference over constraints.                                                                       | Half the constraints (n/2)     | Divide and conquer                  | Reasonably efficient for non-incremental solvers.                             |\n",
    "| **sMUS/OUS**             | Guaranteed smallest/optimal US. One weight per constraint.                                       | One constraint                 | Slow increase                       | Only calls solver with small subsets of constraints.            |\n",
    "\n",
    "\\+ MUS enumeration (e.g. 'Marco' or implicit hitting set (sMUS) with solution blocking)\n",
    "\n",
    "\\+ Step-wise explanations\n",
    "\n",
    "\\+ Interactive approaches (like the diagnosis one)\n",
    "\n",
    "\\+ Efficiency improvements for CNF (MUS track at SAT Comp 2011, model rotation, ...)\n",
    "\n",
    "\\+ Variants of the above"
   ]
  },
  {
   "cell_type": "code",
   "execution_count": null,
   "metadata": {
    "pycharm": {
     "name": "#%%\n"
    }
   },
   "outputs": [],
   "source": [
    "## Explainable Constraint Programming (XCP)\n",
    "\n",
    "In general, \"**Why X?**\" &nbsp;&nbsp;&nbsp;&nbsp;&nbsp;&nbsp; (with X a solution or UNSAT)\n",
    "\n",
    "- **Counterfactual explanation**:\n",
    "  - _What to change if I want Y instead of X?_\n",
    "\n",
    "| **Algorithm**           | **Characteristics**                                                                                                                                  | **First solver call**                | **Subsequent calls**                | **Efficiency**                                                              |\n",
    "|-------------------------|------------------------------------------------------------------------------------------------------------------------------------------------------|--------------------------------|---------------------------------------|------------------------------------------------------------------------------|\n",
    "| **Grow-based MCS**   | Trivial to implement, arbitrary MCS                                                            | One constraint     | Linear increase                       | Efficient for assumption-based incremental solvers.                           |\n",
    "| **FastDiag**          | Optional lexicographic preference over constraints.                                                                       | Half the constraints (n/2)     | Divide and conquer                  | Reasonably efficient for non-incremental solvers.                             |\n",
    "| **Max-CSP**             | Optimal, e.g. weight per constraint                 | Reified constraints                 | /                       | Reified formulation can be more difficult to solve            |\n",
    "| **Slack-based COP**     | Optimal, define slack-based relaxation for every constraint | Relaxed constraints   | / | Adding slack decision variables can be more difficult to solve\n",
    "\n",
    "\\+ MCS enumeration (e.g. 'Marco' or reified solution enumeration)\n",
    "\n",
    "\\+ Interactive approaches (diagnosis-like, can also guide which MUS/MCS components it shows)\n",
    "\n",
    "\\+ Some non-reified MaxCSP algorithms exist, also for weighted CSPs\n",
    "\n",
    "\\+ Variants of the above\n"
   ]
  },
  {
   "cell_type": "markdown",
   "metadata": {
    "pycharm": {
     "name": "#%% md\n"
    },
    "slideshow": {
     "slide_type": "slide"
    }
   },
   "source": [
    "## Connections to wider XAI\n",
    "\n",
    "* Formal explanations of ML models (e.g. impl. hitting-set based, _[Ignatiev et al]_)\n",
    "* Explanations for KR/justifications _[Swartout et al]_, ASP _[Fandinno et al]_, in OWL _[Kalyanpur et al]_, ...\n",
    "* Explanations in planning, e.g. MUGS _[Eiflet et al]_, Model Reconciliation _[Chakraborti et al]_, ...\n",
    "\n",
    "\"_Someone_ explains _something_ to _someone_\""
   ]
  },
  {
   "cell_type": "markdown",
   "metadata": {
    "pycharm": {
     "name": "#%% md\n"
    },
    "slideshow": {
     "slide_type": "slide"
    }
   },
   "source": [
    "<img src=\"img/chatopt.png\" height=\"800px\">"
   ]
  },
  {
   "cell_type": "markdown",
   "metadata": {
    "pycharm": {
     "name": "#%% md\n"
    },
    "slideshow": {
     "slide_type": "slide"
    }
   },
   "source": [
    "## Explainable Constraint Programming (XCP)\n",
    "\n",
    "Recurring challenges:\n",
    "* Definition of explanation: _question and answer format_\n",
    "* Computational efficiency\n",
    "* Explanation selection: _which explanation to show_\n",
    "* User Interaction? _(visualisation, conversational, statefull, ...)_\n",
    "* Explanation evaluation: _computational, formal, user survey, user study, ..._<br>\n",
    "    \"Towards a Comprehensive Human-Centred Evaluation Framework for Explainable AI, XAI 2023\"\n"
   ]
  },
  {
   "cell_type": "markdown",
   "metadata": {
    "pycharm": {
     "name": "#%% md\n"
    },
    "slideshow": {
     "slide_type": "slide"
    }
   },
   "source": [
    "## Conclusion\n",
    "\n",
    "\n",
    "<img src=\"img/interaction_figure4.png\" width=\"20%\" align=\"right\" style=\"margin:50px;\">\n",
    "\n",
    "* Explanation of UNSAT/SAT/Opt      \n",
    "* Causal explanations relate back to finding a MUS/OUS\n",
    "* Need for programmable multi-solver tooling: CPMpy\n",
    "\n",
    "\n",
    "* Many open challenges and new problems!\n",
    "* Less developed: contrastive & conversational expl.  \n",
    "* We need incremental CP-solvers!\n",
    "\n",
    "\n"
   ]
  },
  {
   "cell_type": "code",
   "execution_count": null,
   "metadata": {
    "pycharm": {
     "name": "#%%\n"
    }
   },
   "outputs": [],
   "source": [
    "### References mentioned (many more exist!!!)\n",
    "\n",
    "<small>\n",
    "    \n",
    "##### MUS\n",
    "* Liffiton, M. H., & Sakallah, K. A. (2008). Algorithms for computing minimal unsatisfiable subsets of constraints. Journal of Automated Reasoning, 40, 1-33.\n",
    "\n",
    "* Ignatiev, A., Previti, A., Liffiton, M., & Marques-Silva, J. (2015, August). Smallest MUS extraction with minimal hitting set dualization. In International Conference on Principles and Practice of Constraint Programming (pp. 173-182). Cham: Springer International Publishing.\n",
    "\n",
    "* Joao Marques-Silva. Minimal Unsatisfiability: Models, Algorithms and Applications. ISMVL 2010. pp. 9-14\n",
    "\n",
    "##### Feasibility restoration\n",
    "\n",
    "* Senthooran, I., Klapperstueck, M., Belov, G., Czauderna, T., Leo, K., Wallace, M., ... & De La Banda, M. G. (2021). Human-centred feasibility restoration. In 27th International Conference on Principles and Practice of Constraint Programming (CP 2021). Schloss Dagstuhl-Leibniz-Zentrum für Informatik.\n",
    "\n",
    "##### Explaining optimization problems\n",
    "* Korikov, A., & Beck, J. C. (2021). Counterfactual explanations via inverse constraint programming. In 27th International Conference on Principles and Practice of Constraint Programming (CP 2021). Schloss Dagstuhl-Leibniz-Zentrum für Informatik.\n",
    "\n",
    "##### Explanation in planning, ASP,  KR\n",
    "* Eifler, Rebecca, Michael Cashmore, Jörg Hoffmann, Daniele Magazzeni, and Marcel Steinmetz. \"A new approach to plan-space explanation: Analyzing plan-property dependencies in oversubscription planning.\" In Proceedings of the AAAI Conference on Artificial Intelligence, vol. 34, no. 06, pp. 9818-9826. 2020.\n",
    "* Chakraborti, Tathagata, Sarath Sreedharan, Yu Zhang, and Subbarao Kambhampati. \"Plan explanations as model reconciliation: moving beyond explanation as soliloquy.\" In Proceedings of the 26th International Joint Conference on Artificial Intelligence, pp. 156-163. 2017.\n",
    "* Fandinno, Jorge, and Claudia Schulz. \"Answering the “why” in answer set programming–A survey of explanation approaches.\" Theory and Practice of Logic Programming 19, no. 2 (2019): 114-203.\n",
    "* Swartout, William, Cecile Paris, and Johanna Moore. \"Explanations in knowledge systems: Design for explainable expert systems.\" IEEE Expert 6, no. 3 (1991): 58-64.\n",
    "* Kalyanpur, Aditya, Bijan Parsia, Evren Sirin, and Bernardo Cuenca-Grau. \"Repairing unsatisfiable concepts in OWL ontologies.\" In The Semantic Web: Research and Applications: 3rd European Semantic Web Conference, ESWC 2006 Budva, Montenegro, June 11-14, 2006 Proceedings 3, pp. 170-184. Springer Berlin Heidelberg, 2006.\n",
    "\n",
    "#### Formal explantions in ML\n",
    "* Ignatiev, Alexey, Nina Narodytska, and Joao Marques-Silva. \"Abduction-based explanations for machine learning models.\" In Proceedings of the AAAI Conference on Artificial Intelligence, vol. 33, no. 01, pp. 1511-1519. 2019.\n",
    "\n",
    "</small>"
   ]
  },
  {
   "cell_type": "code",
   "execution_count": null,
   "metadata": {
    "pycharm": {
     "name": "#%%\n"
    }
   },
   "outputs": [],
   "source": []
  }
 ],
 "metadata": {
  "celltoolbar": "Slideshow",
  "kernelspec": {
   "display_name": "Python 3 (ipykernel)",
   "language": "python",
   "name": "python3"
  },
  "language_info": {
   "codemirror_mode": {
    "name": "ipython",
    "version": 3
   },
   "file_extension": ".py",
   "mimetype": "text/x-python",
   "name": "python",
   "nbconvert_exporter": "python",
   "pygments_lexer": "ipython3",
   "version": "3.10.14"
  },
  "rise": {
   "transition": "none"
  },
  "varInspector": {
   "cols": {
    "lenName": 16,
    "lenType": 16,
    "lenVar": 40
   },
   "kernels_config": {
    "python": {
     "delete_cmd_postfix": "",
     "delete_cmd_prefix": "del ",
     "library": "var_list.py",
     "varRefreshCmd": "print(var_dic_list())"
    },
    "r": {
     "delete_cmd_postfix": ") ",
     "delete_cmd_prefix": "rm(",
     "library": "var_list.r",
     "varRefreshCmd": "cat(var_dic_list()) "
    }
   },
   "types_to_exclude": [
    "module",
    "function",
    "builtin_function_or_method",
    "instance",
    "_Feature"
   ],
   "window_display": false
  }
 },
 "nbformat": 4,
 "nbformat_minor": 4
}
