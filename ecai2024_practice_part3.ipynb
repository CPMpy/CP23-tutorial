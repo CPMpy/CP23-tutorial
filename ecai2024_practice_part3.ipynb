{
 "cells": [
  {
   "cell_type": "code",
   "execution_count": null,
   "metadata": {},
   "outputs": [],
   "source": [
    "# code required to run on a fresh install or in google colab\n",
    "root = \"/tmp/XCP-explain\"\n",
    "! git clone https://github.com/CPMpy/XCP-explain.git {root}\n",
    "! cd {root}\n",
    "! pip install -r {root}/requirements.txt\n",
    "! pip install cpmpy\n",
    "\n",
    "# add XCP-explain to the Python path\n",
    "import sys\n",
    "if root not in sys.path:\n",
    "    sys.path.insert(0, root)"
   ]
  },
  {
   "cell_type": "code",
   "execution_count": null,
   "metadata": {
    "pycharm": {
     "name": "#%%\n"
    },
    "slideshow": {
     "slide_type": "-"
    }
   },
   "outputs": [],
   "source": [
    "%load_ext autoreload\n",
    "%autoreload 2\n",
    "\"\"\"\n",
    "    Some imports used throughout the notebook\n",
    "\"\"\"\n",
    "import time\n",
    "import os\n",
    "from visualize import *\n",
    "\n",
    "from cpmpy.transformations.normalize import toplevel_list\n",
    "from factory import *\n",
    "from read_data import get_data\n",
    "from IPython.display import clear_output\n",
    "\n",
    "import warnings\n",
    "warnings.filterwarnings('ignore')\n",
    "\n",
    "import numpy as np\n",
    "np.set_printoptions(linewidth=90)\n",
    "# preload solvers\n",
    "from cpmpy import SolverLookup\n",
    "names = SolverLookup.solvernames()"
   ]
  },
  {
   "cell_type": "markdown",
   "metadata": {},
   "source": [
    "## Explaning Optimization problems\n",
    "\n",
    "In this notebook, we will consider the Nurse Rostering problem as an optimization problem. First we will focus on the following:\n",
    "- \"I **do not like** this solution\" &#8592; Find **alternative** optimal or non-dominated solutions \n",
    "- \"Why is there no **even better** solution?\" &#8592; Find what **to change in my model** if I want a better solution?\n",
    "- \"What if **I want Y** in my solution **instead of X**?\" &#8592; Find **how to change** the solutions or our optimization model\n",
    "\n"
   ]
  },
  {
   "cell_type": "markdown",
   "metadata": {},
   "source": [
    "#### Load the optimization model\n",
    "\n",
    "Same instance as in the previous notebook.\n"
   ]
  },
  {
   "cell_type": "code",
   "execution_count": null,
   "metadata": {},
   "outputs": [],
   "source": [
    "instance = os.path.join(root,\"Benchmarks/CustomInstance.txt\")\n",
    "data = get_data(instance)\n",
    "factory = NurseSchedulingFactory(data)"
   ]
  },
  {
   "cell_type": "markdown",
   "metadata": {},
   "source": [
    "Now as (multi-objective) optimization model! 3 different objectives in nurse rostering:\n",
    "\n",
    "      - Penalty on positive shift requests\n",
    "\n",
    "      - Penalty on negative shift requests\n",
    "\n",
    "      - Penalty of the cover constraints"
   ]
  },
  {
   "cell_type": "code",
   "execution_count": null,
   "metadata": {},
   "outputs": [],
   "source": [
    "model, nurse_view, penalty_on, penalty_off, penalty_cover = factory.get_multi_objective_model()\n",
    "\n",
    "objectives = [penalty_on, penalty_off, penalty_cover] # penalty_on, penalty_off, penalty_cover are the 3 subobjectives\n",
    "\n",
    "assert model.solve(solver=\"ortools\", num_workers=8) # you can try different solvers here!\n",
    "opt_sol = nurse_view.value()\n",
    "opt_value = model.objective_value()\n",
    "\n",
    "display(visualize(opt_sol, factory))\n",
    "print(\"Total penalty:\", model.objective_value())\n",
    "print(\"Time to calculate:\", model.status().runtime, \"s\")"
   ]
  },
  {
   "cell_type": "markdown",
   "metadata": {},
   "source": [
    "## Multiple solutions\n",
    "\n",
    "- User not satisfied with optimal solution!!\n",
    "\n",
    "- There could be multiple optimal solutions\n",
    "\n",
    "- Find (a subset of) them by converting to a decision problem!"
   ]
  },
  {
   "cell_type": "code",
   "execution_count": null,
   "metadata": {},
   "outputs": [],
   "source": [
    "# Convert to decision model enforcing the same objective value and use solveAll (with a limited number of solutions!)\n",
    "new_model = cp.Model(model.constraints) # init new model\n",
    "new_model += (model.objective_ == model.objective_value()) # force objective\n",
    "\n",
    "solutions_limit = 1 # change this to get more!\n",
    "solutions = []\n",
    "\n",
    "while len(solutions) < solutions_limit:\n",
    "    new_model.solve(solver=\"ortools\", num_workers=8) # find next solution\n",
    "    new_model += ~cp.all(nurse_view == nurse_view.value()) # enforce \"not same solution\"\n",
    "    solutions.append(nurse_view.value())\n",
    "    display(visualize(nurse_view.value(), factory))"
   ]
  },
  {
   "cell_type": "markdown",
   "metadata": {},
   "source": [
    "### Non-Dominated solutions"
   ]
  },
  {
   "cell_type": "markdown",
   "metadata": {},
   "source": [
    "User not satisfied with optimal solution, considering bad the trade-offs it makes\n",
    "- Optimize again, considering non-dominated solutions based on sub objectives!\n",
    "- Non-dominated solution: No other solution will be better (lower penalty) on all objectives...\n",
    "    - Enforce that at least one of the (3) objectives will have a greater value than **each** found solution"
   ]
  },
  {
   "cell_type": "code",
   "execution_count": null,
   "metadata": {},
   "outputs": [],
   "source": [
    "# We have already loaded the subobjectives: penalty_on, penalty_off, penalty_cover!!\n",
    "## And we have them stored in the list 'objectives'\n",
    "non_dom_model = model.copy()\n",
    "\n",
    "solutions_limit = 1 # change this to get more!\n",
    "solutions = []\n",
    "solution_images = []\n",
    "\n",
    "while len(solutions) < solutions_limit:\n",
    "    non_dom_model.solve(solver=\"ortools\", num_workers=8) # find solution by optimizing again\n",
    "    non_dom_model += cp.any([obj < obj.value() for obj in objectives])  # dominance constraint\n",
    "    solutions.append(nurse_view.value())\n",
    "    solution_images.append([obj.value() for obj in objectives])\n",
    "\n",
    "for s in solutions:\n",
    "    display(visualize(s, factory))\n",
    "\n"
   ]
  },
  {
   "cell_type": "code",
   "execution_count": null,
   "metadata": {
    "scrolled": true
   },
   "outputs": [],
   "source": [
    "# Create a DataFrame from the solution_images list\n",
    "solutions_df = pd.DataFrame(\n",
    "    solution_images,\n",
    "    columns=['Penalty On', 'Penalty Off', 'Penalty Cover']\n",
    ")\n",
    "\n",
    "display(solutions_df)"
   ]
  },
  {
   "cell_type": "markdown",
   "metadata": {},
   "source": [
    "What is the different trade-off offered from each solution? \n",
    "\n",
    "Are some solutions worse than others based on the objective function that we have?"
   ]
  },
  {
   "cell_type": "markdown",
   "metadata": {},
   "source": [
    "### What if I want Y in my solution instead of X? \n",
    "&#8592; Changing the solutions or our model\n",
    "\n",
    "- Sometimes the user may wants to directly change the solution\n",
    "    -  due to some constraints or preferences missing\n",
    "- Or may want to change the weights in the objective\n",
    "    - to make sure they represent the user's needs\n",
    "\n"
   ]
  },
  {
   "cell_type": "markdown",
   "metadata": {},
   "source": [
    "### What if I want Y in my solution instead of X? \n",
    "#### Changing the solutions (limited changes)\n",
    "\n"
   ]
  },
  {
   "cell_type": "code",
   "execution_count": null,
   "metadata": {},
   "outputs": [],
   "source": [
    "# Find optimal solution\n",
    "model.solve(solver=\"ortools\", num_workers=8)\n",
    "opt_sol = nurse_view.value()\n",
    "opt_value = model.objective_value()\n",
    "\n",
    "display(visualize(opt_sol, factory))\n",
    "print(\"Total penalty:\", model.objective_value())"
   ]
  },
  {
   "cell_type": "markdown",
   "metadata": {},
   "source": [
    "Find an assignment that you want to change in the schedule! <- This will be our foil\n",
    "- Enforce this foil in the model!\n",
    "- Allow a specific amount of changes (try with different numbers)\n",
    "\n",
    "Note that \n",
    "- shift 'F' is value 0\n",
    "- shift 'E' is value 1\n",
    "- shift 'L' is value 2"
   ]
  },
  {
   "cell_type": "code",
   "execution_count": null,
   "metadata": {},
   "outputs": [],
   "source": [
    "Y = nurse_view[0,1] == 0 # The foil, change this to try more! prefilled one is that Megan wants not to work Mon 1 \n",
    "mmodel = model.copy()\n",
    "mmodel += Y \n",
    "mmodel += cp.sum(nurse_view != opt_sol) <= 100 # allow to make 100 changes, change 100 to limit it!\n",
    "\n",
    "assert mmodel.solve(solver=\"ortools\", num_workers=8)\n",
    "print(\"Total penalty:\", mmodel.objective_value(), \"was:\", opt_value)"
   ]
  },
  {
   "cell_type": "markdown",
   "metadata": {},
   "source": [
    "Let's visualize the changes"
   ]
  },
  {
   "cell_type": "code",
   "execution_count": null,
   "metadata": {},
   "outputs": [],
   "source": [
    "style = highlight_changes(nurse_view.value(), opt_sol, factory)\n",
    "display(style)"
   ]
  },
  {
   "cell_type": "markdown",
   "metadata": {},
   "source": [
    "### What if I want Y in my solution instead of X? &#8592; \n",
    "#### Changing the optimization model!\n",
    "\n",
    "Use the inverse_optimization method to find what we need to change in our model to enforce a specific foil Y "
   ]
  },
  {
   "cell_type": "code",
   "execution_count": null,
   "metadata": {},
   "outputs": [],
   "source": [
    "instance = os.path.join(root,\"Benchmarks/CustomInstance.txt\")\n",
    "data = get_data(instance)\n",
    "factory = NurseSchedulingFactory(data)\n",
    "model, nurse_view, penalty_on, penalty_off, penalty_cover = factory.get_multi_objective_model()\n"
   ]
  },
  {
   "cell_type": "code",
   "execution_count": null,
   "metadata": {},
   "outputs": [],
   "source": [
    "assert model.solve(solver=\"ortools\", num_workers=8)\n",
    "display(visualize(nurse_view.value(), factory))\n",
    "print(\"Total penalty: \", model.objective_value())"
   ]
  },
  {
   "cell_type": "markdown",
   "metadata": {},
   "source": [
    "Pick now a foil Y from the denied preferences of nurse \"Robert\""
   ]
  },
  {
   "cell_type": "code",
   "execution_count": null,
   "metadata": {},
   "outputs": [],
   "source": [
    "nurse = \"Robert\"\n",
    " \n",
    "for (w,pref) in zip(*model.objective_.args):\n",
    "    if nurse in str(pref):\n",
    "        print('\\033[1m' if pref.value() else '\\033[0m', f\"{pref.value()} \\t Penalty:{w} \\t{pref} \\t\")"
   ]
  },
  {
   "cell_type": "code",
   "execution_count": null,
   "metadata": {},
   "outputs": [],
   "source": [
    "desc = \"Deny Robert's request to work shift E on Tue 2\"\n",
    "weight,d_on_fri1 = next((w,pref) for w,pref in zip(*model.objective_.args) if str(pref) == desc)\n",
    "print(f\"{d_on_fri1.value()} \\t Penalty:{weight} \\t{d_on_fri1}\")"
   ]
  },
  {
   "cell_type": "code",
   "execution_count": null,
   "metadata": {},
   "outputs": [],
   "source": [
    "foil = {d_on_fri1 : False}  # don't want to have his request for Fri 1 denied!\n",
    "print(\"Foil:\", foil)\n",
    "print(\"\\n\")\n",
    "\n",
    "other_prefs = [(w,pref) for w,pref in zip(*model.objective_.args) if nurse in str(pref) and str(pref) != desc]\n",
    "print(f\"{nurse}'s other preferences:\")\n",
    "for w,pref in other_prefs:\n",
    "    print(\"- Penalty\",w,\":\",pref)"
   ]
  },
  {
   "cell_type": "code",
   "execution_count": null,
   "metadata": {},
   "outputs": [],
   "source": [
    "from explanations.counterfactual import inverse_optimize\n",
    "\n",
    "ov = model.objective_value()\n",
    "new_obj = inverse_optimize(model=model, minimize=True,\n",
    "                           user_sol = foil,\n",
    "                           allowed_to_change = set(p[1] for p in other_prefs))\n",
    "print(f\"Done! Found solution with total penalty {new_obj.value()}, was {ov}\\n\")\n",
    "\n",
    "# Let's look at the preferences he should enter, to work on Fri 1!\n",
    "print(f\"{nurse}'s new preferences:\")\n",
    "old_w, old_pref = model.objective_.args\n",
    "\n",
    "for i, arg in enumerate(zip(*new_obj.args)):\n",
    "    w, pref = arg\n",
    "    if nurse in str(pref):\n",
    "        print('\\033[1m' if w != old_w[i] else '\\033[0m', f\"Penalty\",w,\":\",pref)"
   ]
  },
  {
   "cell_type": "code",
   "execution_count": null,
   "metadata": {},
   "outputs": [],
   "source": [
    "# compute and visualize new solution\n",
    "model.minimize(new_obj)\n",
    "assert model.solve(solver=\"ortools\", num_workers=8)\n",
    "print(\"Total penalty: \", model.objective_value())\n",
    "visualize(nurse_view.value(), factory)"
   ]
  },
  {
   "cell_type": "code",
   "execution_count": null,
   "metadata": {},
   "outputs": [],
   "source": []
  }
 ],
 "metadata": {
  "celltoolbar": "Slideshow",
  "kernelspec": {
   "display_name": "Python 3 (ipykernel)",
   "language": "python",
   "name": "python3"
  },
  "language_info": {
   "codemirror_mode": {
    "name": "ipython",
    "version": 3
   },
   "file_extension": ".py",
   "mimetype": "text/x-python",
   "name": "python",
   "nbconvert_exporter": "python",
   "pygments_lexer": "ipython3",
   "version": "3.12.3"
  },
  "rise": {
   "transition": "none"
  },
  "varInspector": {
   "cols": {
    "lenName": 16,
    "lenType": 16,
    "lenVar": 40
   },
   "kernels_config": {
    "python": {
     "delete_cmd_postfix": "",
     "delete_cmd_prefix": "del ",
     "library": "var_list.py",
     "varRefreshCmd": "print(var_dic_list())"
    },
    "r": {
     "delete_cmd_postfix": ") ",
     "delete_cmd_prefix": "rm(",
     "library": "var_list.r",
     "varRefreshCmd": "cat(var_dic_list()) "
    }
   },
   "types_to_exclude": [
    "module",
    "function",
    "builtin_function_or_method",
    "instance",
    "_Feature"
   ],
   "window_display": false
  }
 },
 "nbformat": 4,
 "nbformat_minor": 4
}
